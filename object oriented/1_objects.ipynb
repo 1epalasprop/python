{
 "cells": [
  {
   "cell_type": "markdown",
   "id": "309828c1-6332-4d9f-a5a9-798a9f704bf9",
   "metadata": {},
   "source": [
    "**1η άσκηση**"
   ]
  },
  {
   "cell_type": "code",
   "execution_count": 2,
   "id": "019f5ad1-6c69-44ea-857c-4cac30bd8474",
   "metadata": {},
   "outputs": [],
   "source": [
    "class Customer:\n",
    "# Ένας πελάτης με καταθετικό λογαριασμό σε μια τράπεζα.\n",
    "# Οι πελάτες έχουν τις παρακάτω ιδιότητες:\n",
    "# name: όνομα του πελάτη\n",
    "# balance: το υπόλοιπο του λογαριασμού του πελάτη.\n",
    "\tdef __init__( self, name, balance = 0.0 ):\n",
    "\t# επιστρέφει ένα αντικείμενο της κλάσης Customer\n",
    "\t# με όνομά name και αρχικό υπόλοιπο 0.0\n",
    "\t\tself.name = name\n",
    "\t\tself.balance = balance\n",
    "\tdef withdraw(self, amount):\n",
    "\t# Επιστρέφει το νέο υπόλοιπο του λογαριασμού μετά την\n",
    "\t# ανάληψη του ποσού *amount*\n",
    "\t\tself.balance -= amount\n",
    "\t\treturn self.balance\n",
    "\tdef deposit(self, amount):\n",
    "\t# Επιστρέφει το νέο υπόλοιπο του λογαριασμού μετά την\n",
    "\t# κατάθεση του ποσού *amount*\n",
    "\t\tself.balance += amount\n",
    "\t\treturn self.balance\n"
   ]
  },
  {
   "cell_type": "markdown",
   "id": "8ffbf274-4e17-46a6-8db3-ed5cd00a7d66",
   "metadata": {},
   "source": [
    "Παρακάτω δημιουργήστε δύο αντικείμενα **cust1** και **cust2** της κλάσης Customer, με όνομα John και Mary"
   ]
  },
  {
   "cell_type": "code",
   "execution_count": 5,
   "id": "f5965d5a-1d62-4f3d-ab9e-2b35c9a53df9",
   "metadata": {},
   "outputs": [],
   "source": []
  },
  {
   "cell_type": "markdown",
   "id": "712f6acc-8c2f-4257-9940-43ae0d69c370",
   "metadata": {},
   "source": [
    "Nα γίνει κατάθεση (deposit) του ποσού 1400 ευρώ στο λογαριασμό του John και 1500 στης Mary"
   ]
  },
  {
   "cell_type": "code",
   "execution_count": null,
   "id": "3a0f3e50-dbe4-42be-8bde-ca68a5365ecb",
   "metadata": {},
   "outputs": [],
   "source": []
  },
  {
   "cell_type": "markdown",
   "id": "dbd4863d-a830-477c-b391-c46b729649e5",
   "metadata": {},
   "source": [
    "Να γίνει ανάληψη (withdraw) 300 ευρώ από το λογαριασμό του John."
   ]
  },
  {
   "cell_type": "code",
   "execution_count": null,
   "id": "be919a59-9663-468d-b2f9-f7083dcd72c0",
   "metadata": {},
   "outputs": [],
   "source": []
  },
  {
   "cell_type": "markdown",
   "id": "47335374-c5f1-42ee-9d8a-6abfde8a34a0",
   "metadata": {},
   "source": [
    "Να γίνει ανάληψη 400 ευρώ από το λογαριασμό της Mary."
   ]
  },
  {
   "cell_type": "code",
   "execution_count": null,
   "id": "acc28cd5-92c2-4976-8689-42a75a6d7936",
   "metadata": {},
   "outputs": [],
   "source": []
  },
  {
   "cell_type": "markdown",
   "id": "6f7fb419-bf39-47ad-b080-772523ff9968",
   "metadata": {},
   "source": [
    "Εμφανίστε το όνομα και δίπλα το υπόλοιπο του λογαριασμού και για τους δύο πελάτες. \\\n",
    "*(Για να είναι σωστή η άσκηση θα πρέπει και ο John και η Mary να έχουν στο λογαριασμό τους από 1100 euro)*"
   ]
  },
  {
   "cell_type": "code",
   "execution_count": null,
   "id": "12ce79c1-0767-4dd6-ae79-14bd006fc94f",
   "metadata": {},
   "outputs": [],
   "source": []
  },
  {
   "cell_type": "markdown",
   "id": "d1237909-a86e-4591-8029-9ffca6c52074",
   "metadata": {},
   "source": [
    "**2η άσκηση**\\\n",
    "Παρακάτω ακολουθεί μια κλάση **Student** με ιδιότητες *name* και *am*. Η κλάση περιλαμβάνει μόνο τον *κατασκευαστή* της:"
   ]
  },
  {
   "cell_type": "code",
   "execution_count": 4,
   "id": "d228b3d7-9f12-41a6-adf1-2ad3edfb0789",
   "metadata": {},
   "outputs": [],
   "source": [
    "class Student:\n",
    "    def __init__(self, name, am):\n",
    "        self.name=name\n",
    "        self.am=am"
   ]
  },
  {
   "cell_type": "markdown",
   "id": "61711475-b651-42a7-9d84-069629649a41",
   "metadata": {},
   "source": [
    "**Ξαναγράψτε** την κλάση και *προσθέστε* την ιδιότητα *fatherName*.\n",
    "Επίσης, συμπληρώστε μέσα στην κλάση μια μέθοδο με όνομα **def printing()** η οποία θα εκτυπώνει τα στοιχεία ενός μαθητή."
   ]
  },
  {
   "cell_type": "code",
   "execution_count": null,
   "id": "9213bb06-58a7-4a53-8ce8-c52ad3abfde6",
   "metadata": {},
   "outputs": [],
   "source": []
  },
  {
   "cell_type": "markdown",
   "id": "73ad4b35-b816-4559-861b-8289e30fa052",
   "metadata": {},
   "source": [
    "Δημιουργήστε ένα **αντικείμενο** με όνομα *st1* και τις εξής ιδιότητες:\n",
    "- Όνομα: Λευτέρης Παπαδόπουλος\n",
    "- ΑΜ: 205\n",
    "- Όνομα πατρός: Βασίλειος"
   ]
  },
  {
   "cell_type": "code",
   "execution_count": null,
   "id": "bf9863cb-83de-4d3d-9546-8b1ee72f5b32",
   "metadata": {},
   "outputs": [],
   "source": []
  },
  {
   "cell_type": "markdown",
   "id": "c8becf7c-c536-4a0d-ae29-3b6087793e5f",
   "metadata": {},
   "source": [
    "Εφαρμόστε τη μέθοδο **printing** για το αντικείμενο st1. Εκτυπώθηκαν σωστά τα στοιχεία του μαθητή;"
   ]
  },
  {
   "cell_type": "code",
   "execution_count": null,
   "id": "c845ee0a-3d82-405e-9fb4-2c809cddc8c9",
   "metadata": {},
   "outputs": [],
   "source": []
  },
  {
   "cell_type": "markdown",
   "id": "babf41de-5c36-4b17-9db6-eecb21c852a9",
   "metadata": {},
   "source": [
    "Δημιουργήστε άλλα δύο αντικείμενα με όνομα **st2** και **st3** με όποιες τιμές θέλετε εσείς και εκτυπώστε με τη μέθοδο **printing** τα στοιχεία τους."
   ]
  },
  {
   "cell_type": "code",
   "execution_count": null,
   "id": "3b9efc39-657e-4d07-99c3-bd393231e19a",
   "metadata": {},
   "outputs": [],
   "source": []
  }
 ],
 "metadata": {
  "kernelspec": {
   "display_name": "Python 3 (ipykernel)",
   "language": "python",
   "name": "python3"
  },
  "language_info": {
   "codemirror_mode": {
    "name": "ipython",
    "version": 3
   },
   "file_extension": ".py",
   "mimetype": "text/x-python",
   "name": "python",
   "nbconvert_exporter": "python",
   "pygments_lexer": "ipython3",
   "version": "3.12.1"
  }
 },
 "nbformat": 4,
 "nbformat_minor": 5
}
