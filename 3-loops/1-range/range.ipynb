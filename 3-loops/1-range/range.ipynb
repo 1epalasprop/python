{
 "cells": [
  {
   "cell_type": "markdown",
   "id": "a97472de-03c5-43c6-925e-7304e8dda681",
   "metadata": {},
   "source": [
    "# Συνάρτηση range()\n",
    "\n",
    "H **range()** είναι μια ενσωματωμένη συνάρτηση της γλώσσας Python. Είναι της μορφής (αρχή, μέχρι, βήμα), όπου *αρχή*, *μέχρι*, και *βήμα*, είναι *ακέραιοι* αριθμοί. "
   ]
  },
  {
   "cell_type": "code",
   "execution_count": 2,
   "id": "fa48cba4-e663-4fdc-9c78-621c3675c146",
   "metadata": {},
   "outputs": [
    {
     "name": "stdout",
     "output_type": "stream",
     "text": [
      "0 1 2 3 4 5 6 7 8 9 "
     ]
    }
   ],
   "source": [
    "for i in range(10):\n",
    "    print(i, end=\" \")"
   ]
  },
  {
   "cell_type": "code",
   "execution_count": 7,
   "id": "a12a7228-531d-4192-a407-652c6a085dd2",
   "metadata": {},
   "outputs": [
    {
     "name": "stdout",
     "output_type": "stream",
     "text": [
      "3 4 5 6 7 8 9 "
     ]
    }
   ],
   "source": [
    "for i in range(3, 10):\n",
    "    print(i, end=\" \")"
   ]
  },
  {
   "cell_type": "code",
   "execution_count": 8,
   "id": "4d8b3d65-2b8c-4083-831b-2b763b2db632",
   "metadata": {},
   "outputs": [
    {
     "name": "stdout",
     "output_type": "stream",
     "text": [
      "0 5 10 15 20 25 30 35 "
     ]
    }
   ],
   "source": [
    "for i in range(0, 40, 5):\n",
    "    print(i, end=\" \")"
   ]
  },
  {
   "cell_type": "code",
   "execution_count": 9,
   "id": "5f07de94-21dd-41d4-9544-3445792c1d71",
   "metadata": {},
   "outputs": [
    {
     "name": "stdout",
     "output_type": "stream",
     "text": [
      "10 9 8 7 6 5 4 3 2 1 "
     ]
    }
   ],
   "source": [
    "for i in range(10, 0, -1):\n",
    "    print(i, end=\" \")"
   ]
  },
  {
   "cell_type": "markdown",
   "id": "39deae69-0457-4c08-b7f6-54f129b49f17",
   "metadata": {},
   "source": [
    "# Ασκήσεις"
   ]
  },
  {
   "cell_type": "markdown",
   "id": "ee68f739-100d-47e8-8722-f9e7311759bd",
   "metadata": {},
   "source": [
    "Εμφάνισε την ακολουθία: 0 1 2 3"
   ]
  },
  {
   "cell_type": "code",
   "execution_count": null,
   "id": "7e2442e1-667e-474a-9a09-d640b9572f9a",
   "metadata": {},
   "outputs": [],
   "source": []
  },
  {
   "cell_type": "markdown",
   "id": "ecfd61d4-a028-43e1-9df9-9126c5c25e93",
   "metadata": {},
   "source": [
    "Εμφάνισε την ακολουθία: 5 6 7 8 9"
   ]
  },
  {
   "cell_type": "code",
   "execution_count": null,
   "id": "bc83fcf0-80b4-4463-b4d1-f827a5931810",
   "metadata": {},
   "outputs": [],
   "source": []
  },
  {
   "cell_type": "markdown",
   "id": "471f56e4-c1ae-467e-9e77-c247fb923380",
   "metadata": {},
   "source": [
    "Εμφάνισε την ακολουθία: 0 10 20 30 40 50"
   ]
  },
  {
   "cell_type": "markdown",
   "id": "5620986c-63dd-4bac-8d25-ea76dcb49a04",
   "metadata": {},
   "source": []
  },
  {
   "cell_type": "markdown",
   "id": "e25d3dd0-f6ab-49e6-a386-ddc185789fe8",
   "metadata": {},
   "source": [
    "Εμφάνισε την ακολουθία: 50 40 30 20 10 0"
   ]
  },
  {
   "cell_type": "code",
   "execution_count": null,
   "id": "eed9c59c-f46f-40de-97bf-c819b37abca3",
   "metadata": {},
   "outputs": [],
   "source": []
  },
  {
   "cell_type": "markdown",
   "id": "1def78dc-1af3-4e33-9131-159b9677f064",
   "metadata": {},
   "source": [
    "Εμφάνισε την ακολουθία: -5 -4 -3 -2 -1 0"
   ]
  },
  {
   "cell_type": "code",
   "execution_count": null,
   "id": "12bb0283-14c9-4f00-9016-382e348f4c1a",
   "metadata": {},
   "outputs": [],
   "source": []
  }
 ],
 "metadata": {
  "kernelspec": {
   "display_name": "Python 3 (ipykernel)",
   "language": "python",
   "name": "python3"
  },
  "language_info": {
   "codemirror_mode": {
    "name": "ipython",
    "version": 3
   },
   "file_extension": ".py",
   "mimetype": "text/x-python",
   "name": "python",
   "nbconvert_exporter": "python",
   "pygments_lexer": "ipython3",
   "version": "3.12.0"
  }
 },
 "nbformat": 4,
 "nbformat_minor": 5
}
