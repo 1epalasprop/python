{
 "cells": [
  {
   "cell_type": "markdown",
   "id": "b923e268-5a0a-4480-86fd-7c84ad591b0e",
   "metadata": {},
   "source": [
    "# Εκφώνηση\n",
    "\n",
    "Σ’ ένα φυτώριο υπάρχουν τρία είδη δέντρων που θα δοθούν για δεντροφύτευση.\n",
    "Το 1ο είδος δέντρου θα δοθεί στην Μακεδονία, το 2ο στην Θράκη και το 3ο στην\n",
    "Πελλοπόνησο.\n",
    "\n",
    "Να γραφεί πρόγραμμα που\n",
    "\n",
    "1. Διαβάζει 100 είδη δέντρων και τυπώνει την περιοχή στην οποία θα\n",
    "   γίνεται η δεντροφύτευση.\n",
    "2. Να υπολογίζει και εμφανίζει πόσα δέντρα θα φυτευτούν συνολικά σε Μακεδονία,\n",
    "   Θράκη και Πελοπόννησο."
   ]
  },
  {
   "cell_type": "code",
   "execution_count": null,
   "id": "ce7bc46e-6cb1-4ab0-8db6-5926aef91cb5",
   "metadata": {},
   "outputs": [],
   "source": []
  }
 ],
 "metadata": {
  "kernelspec": {
   "display_name": "Python 3 (ipykernel)",
   "language": "python",
   "name": "python3"
  },
  "language_info": {
   "codemirror_mode": {
    "name": "ipython",
    "version": 3
   },
   "file_extension": ".py",
   "mimetype": "text/x-python",
   "name": "python",
   "nbconvert_exporter": "python",
   "pygments_lexer": "ipython3",
   "version": "3.12.0"
  }
 },
 "nbformat": 4,
 "nbformat_minor": 5
}
