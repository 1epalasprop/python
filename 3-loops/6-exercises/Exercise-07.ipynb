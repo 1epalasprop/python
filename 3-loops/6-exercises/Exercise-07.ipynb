{
 "cells": [
  {
   "cell_type": "markdown",
   "id": "c1ef9161-63b6-47f7-b883-acef421ef505",
   "metadata": {},
   "source": [
    "# Εκφώνηση\n",
    "\n",
    "Να γραφεί πρόγραμμα που διαβάζει από το πληκτρολόγιο μια σειρά μετρήσεων,\n",
    "θετικών αριθμών, υπολογίζει και τυπώνει το άθροισμα και το μέσο όρο τους.\n",
    "Το πρόγραμμα τερματίζεται όταν εισαχθεί ως αριθμός μικρότερος ή ίσος του 0.\n"
   ]
  },
  {
   "cell_type": "code",
   "execution_count": null,
   "id": "022299c6-f6f1-4e95-8b49-975f07abeac3",
   "metadata": {},
   "outputs": [],
   "source": []
  }
 ],
 "metadata": {
  "kernelspec": {
   "display_name": "Python 3 (ipykernel)",
   "language": "python",
   "name": "python3"
  },
  "language_info": {
   "codemirror_mode": {
    "name": "ipython",
    "version": 3
   },
   "file_extension": ".py",
   "mimetype": "text/x-python",
   "name": "python",
   "nbconvert_exporter": "python",
   "pygments_lexer": "ipython3",
   "version": "3.12.0"
  }
 },
 "nbformat": 4,
 "nbformat_minor": 5
}
