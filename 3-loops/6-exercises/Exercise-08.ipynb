{
 "cells": [
  {
   "attachments": {},
   "cell_type": "markdown",
   "id": "be40505a-0dca-4fba-ad12-b44f65ece08a",
   "metadata": {},
   "source": [
    "# Εκφώνηση\n",
    "\n",
    "Να γραφεί πρόγραμμα που να διαβάζει για 10 μαθητές, 4 βαθμούς στην κλίμακα\n",
    "1-20 για τον κάθε μαθητή στο μάθημα “Αρχές Προγραμματισμού Υπολογιστών” και\n",
    "να εμφανίζει το πλήθος των μαθητών που πέρασαν το μάθημα (Για να περάσει ένας\n",
    "μαθητής το μάθημα πρέπει ο μέσος όρος βαθμών κάθε μαθητή ≥ 10)."
   ]
  },
  {
   "cell_type": "code",
   "execution_count": null,
   "id": "5971ee74-3bdb-44a1-ac74-49b30c06aaf6",
   "metadata": {},
   "outputs": [],
   "source": []
  }
 ],
 "metadata": {
  "kernelspec": {
   "display_name": "Python 3 (ipykernel)",
   "language": "python",
   "name": "python3"
  },
  "language_info": {
   "codemirror_mode": {
    "name": "ipython",
    "version": 3
   },
   "file_extension": ".py",
   "mimetype": "text/x-python",
   "name": "python",
   "nbconvert_exporter": "python",
   "pygments_lexer": "ipython3",
   "version": "3.12.0"
  }
 },
 "nbformat": 4,
 "nbformat_minor": 5
}
