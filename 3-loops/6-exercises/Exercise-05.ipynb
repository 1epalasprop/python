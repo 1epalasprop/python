{
 "cells": [
  {
   "cell_type": "markdown",
   "id": "45570076-c74b-4a19-9157-370fee3793ff",
   "metadata": {},
   "source": [
    "# Εκφώνηση\n",
    "\n",
    "Εταιρία Πληροφορικής πληρώνει μηνιαίες υπερωρίες στους 50 υπαλλήλους της σύμφωνα με τον πίνακα:\n",
    "\n",
    "| Υπερωρίες (ώρες) | € ανά ώρα |\n",
    "|:----------------:|:---------:|\n",
    "|    1 έως και 3   |     7     |\n",
    "|    4 έως και 6   |     9     |\n",
    "|    7 και πάνω    |     10    |\n",
    "\n",
    "Γράψτε πρόγραμμα το οποίο:\n",
    "\n",
    "1. Διαβάζει τις υπερωριακές ώρες του περασμένου μήνα για κάθε υπάλληλό της.\n",
    "2. Υπολογίζει και εμφανίζει τα συνολικά χρήματα που δικαιούτε ο υπάλληλος.\n",
    "3. Υπολογίζει και εμφανίζει τα συνολικά χρήματα που θα δώσει η εταιρία σε όλους του υπαλλήλους."
   ]
  },
  {
   "cell_type": "code",
   "execution_count": null,
   "id": "db31d257-3e94-4c02-a4d2-87d90ecc9b7f",
   "metadata": {},
   "outputs": [],
   "source": []
  }
 ],
 "metadata": {
  "kernelspec": {
   "display_name": "Python 3 (ipykernel)",
   "language": "python",
   "name": "python3"
  },
  "language_info": {
   "codemirror_mode": {
    "name": "ipython",
    "version": 3
   },
   "file_extension": ".py",
   "mimetype": "text/x-python",
   "name": "python",
   "nbconvert_exporter": "python",
   "pygments_lexer": "ipython3",
   "version": "3.12.0"
  }
 },
 "nbformat": 4,
 "nbformat_minor": 5
}
