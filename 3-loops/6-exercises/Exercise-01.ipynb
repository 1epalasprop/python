{
 "cells": [
  {
   "cell_type": "markdown",
   "id": "691530e6-bf47-408d-a2e7-3a400a28218c",
   "metadata": {},
   "source": [
    "# Εκφώνηση\n",
    "\n",
    "Να γράψετε πρόγραμμα το οποίο υπολογίζει το μέσο όρο του ύψους των παικτών μιας\n",
    "ομάδας μπάσκετ. Να θεωρήσετε ότι η ομάδα έχει 10 παίκτες και ότι το ύψος του\n",
    "κάθε παίκτη το δίνει ο χρήστης από το πληκτρολόγιο.\n",
    "\n",
    "## Υπόδειξη\n",
    "1. Θα χρειαστείτε μια μεταβλητή στην οποία θα κρατήσετε το *άθροισμα* του ύψους\n",
    "   όλων τον παιχτών\n",
    "2. Ο υπολογισμός του μέσου όρου είναι: `άθροισμα / πλήθος`\n",
    "3. Χρησιμοποίησε τον παρακάτω \"σκελετό\" όπου θα αντικαταστήσεις τα `___` με\n",
    "   κώδικα.\n",
    "\n",
    "```python\n",
    "suma = ___  # Άθροισμα ύψους\n",
    "for ____:\n",
    "    ipsos = ____\n",
    "    suma = ____ + ____\n",
    "mo = ____ / ____\n",
    "print(\"Ο μέσος όρος είναι:\", ___)\n",
    "```"
   ]
  },
  {
   "cell_type": "code",
   "execution_count": null,
   "id": "e63cb005-c951-4747-afa7-13f8af639965",
   "metadata": {},
   "outputs": [],
   "source": [
    "# Γράψε"
   ]
  }
 ],
 "metadata": {
  "kernelspec": {
   "display_name": "Python 3 (ipykernel)",
   "language": "python",
   "name": "python3"
  },
  "language_info": {
   "codemirror_mode": {
    "name": "ipython",
    "version": 3
   },
   "file_extension": ".py",
   "mimetype": "text/x-python",
   "name": "python",
   "nbconvert_exporter": "python",
   "pygments_lexer": "ipython3",
   "version": "3.12.0"
  }
 },
 "nbformat": 4,
 "nbformat_minor": 5
}
