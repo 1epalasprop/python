{
 "cells": [
  {
   "cell_type": "markdown",
   "id": "b658ea1b-eeed-46c7-8535-3c79a201ce15",
   "metadata": {},
   "source": [
    "# Εκφώνηση\n",
    "\n",
    "Γράψτε πρόγραμμα που θα διαβάζει τα ονόματα και τις 3 επιδόσεις των 20 αθλητών\n",
    "της δισκοβολίας σε ένα παγκόσμιο πρωτάθλημα και θα εκτυπώνει το όνομα του\n",
    "αθλητή που πήρε το χρυσό μετάλλιο (καλύτερη επίδοση).\n",
    "\n",
    "# Υπόδειξη\n",
    "1. Θα χρειαστείτε μία μεταβλητή που κρατάει την καλύτερη επίδοση\n",
    "2. Θα χρειαστείτε μία μεταβλητή που κρατάει το όνομα του αθλητή με την καλύτερη\n",
    "   επίδοση.\n",
    "   "
   ]
  },
  {
   "cell_type": "code",
   "execution_count": null,
   "id": "dfc5af11-6840-4e1a-8bc0-a25579234cff",
   "metadata": {},
   "outputs": [],
   "source": []
  }
 ],
 "metadata": {
  "kernelspec": {
   "display_name": "Python 3 (ipykernel)",
   "language": "python",
   "name": "python3"
  },
  "language_info": {
   "codemirror_mode": {
    "name": "ipython",
    "version": 3
   },
   "file_extension": ".py",
   "mimetype": "text/x-python",
   "name": "python",
   "nbconvert_exporter": "python",
   "pygments_lexer": "ipython3",
   "version": "3.12.0"
  }
 },
 "nbformat": 4,
 "nbformat_minor": 5
}
