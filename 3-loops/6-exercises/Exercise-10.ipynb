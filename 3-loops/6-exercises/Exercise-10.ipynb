{
 "cells": [
  {
   "cell_type": "markdown",
   "id": "d4514d2e-211a-4b14-a6cb-8cf22f87988c",
   "metadata": {},
   "source": [
    "# Εκφώνηση\n",
    "\n",
    "Να γραφεί πρόγραμμα που να διαβάζει **το πολύ** 10 αριθμούς και να υπολογίζει:\n",
    "\n",
    "- το άθροισμα τους\n",
    "- το πλήθος τους, και\n",
    "- το μέσο όρο τους.\n",
    "\n",
    "Στην περίπτωση που διαβάσει την τιμή -99, να σταματάει την εκτέλεση και να\n",
    "εμφανίζει τα τρέχοντα αποτελέσματα. (Σημ. Το πρόγραμμα εμπεριέχει *2 συνθήκες*.\n",
    "Λάβετε υπ’ όψιν ότι μπορεί να δοθεί απευθείας το -99 σαν πρώτος αριθμός.)"
   ]
  },
  {
   "cell_type": "code",
   "execution_count": null,
   "id": "f04c85e7-481d-41df-b280-3fbb7646ddb4",
   "metadata": {},
   "outputs": [],
   "source": []
  }
 ],
 "metadata": {
  "kernelspec": {
   "display_name": "Python 3 (ipykernel)",
   "language": "python",
   "name": "python3"
  },
  "language_info": {
   "codemirror_mode": {
    "name": "ipython",
    "version": 3
   },
   "file_extension": ".py",
   "mimetype": "text/x-python",
   "name": "python",
   "nbconvert_exporter": "python",
   "pygments_lexer": "ipython3",
   "version": "3.12.0"
  }
 },
 "nbformat": 4,
 "nbformat_minor": 5
}
