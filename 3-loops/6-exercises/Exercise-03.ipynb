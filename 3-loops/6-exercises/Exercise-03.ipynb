{
 "cells": [
  {
   "cell_type": "markdown",
   "id": "a56c876c-6978-4100-b787-0f52abcb6210",
   "metadata": {},
   "source": [
    "# Εκφώνηση\n",
    "\n",
    "Σε ένα αγώνα ρίψης ακοντίου, διεξάγεται ο προκριματικός γύρος με τη συμμετοχή\n",
    "8 αθλητών. Στην τελική φάση προκρίνονται όσοι αθλητές επιτύχουν επίδοση άνω των\n",
    "80 μέτρων. Να γραφεί πρόγραμμα που:\n",
    "\n",
    "1. Διαβάζει την επίδοση κάθε αθλητή\n",
    "2. Υπολογίζει και να εμφανίζει πόσοι αθλητές πέρασαν το όριο."
   ]
  },
  {
   "cell_type": "code",
   "execution_count": null,
   "id": "a6470a7b-d4e4-4bdb-8c9b-577fdc761eb5",
   "metadata": {},
   "outputs": [],
   "source": []
  }
 ],
 "metadata": {
  "kernelspec": {
   "display_name": "Python 3 (ipykernel)",
   "language": "python",
   "name": "python3"
  },
  "language_info": {
   "codemirror_mode": {
    "name": "ipython",
    "version": 3
   },
   "file_extension": ".py",
   "mimetype": "text/x-python",
   "name": "python",
   "nbconvert_exporter": "python",
   "pygments_lexer": "ipython3",
   "version": "3.12.0"
  }
 },
 "nbformat": 4,
 "nbformat_minor": 5
}
