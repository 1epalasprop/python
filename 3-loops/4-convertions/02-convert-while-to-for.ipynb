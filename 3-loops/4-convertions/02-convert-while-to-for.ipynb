{
 "cells": [
  {
   "cell_type": "markdown",
   "id": "a008d7e6-546f-42cf-9b00-570f4a673982",
   "metadata": {},
   "source": [
    "# Μετατροπή while σε for\n",
    "\n",
    "Διακρίνουμε δύο βασικές περιπτώσεις:\n",
    "\n",
    "1. Η μεταβολή γίνεται στο *τέλος* της while\n",
    "2. Η μεταβολή γίνεται στην *αρχή* της while"
   ]
  },
  {
   "cell_type": "markdown",
   "id": "f94ae758-6dc7-4ec0-bcb8-a60e6e6fd18c",
   "metadata": {},
   "source": [
    "## Η Μεταβολή Γίνεται στο *Τέλος* της while \n",
    "\n",
    "Διακρίνουμε τέσσερις περιπτώσεις:"
   ]
  },
  {
   "cell_type": "markdown",
   "id": "79e8b071-5c62-47c0-b1a9-cd40ecacb38b",
   "metadata": {},
   "source": [
    "### 1η Περίπτωση\n",
    "\n",
    "* Το βήμα είναι *θετικό*, και\n",
    "* στη συνθήκη της while έχουμε το *μικρότερο* (**<**). "
   ]
  },
  {
   "cell_type": "raw",
   "id": "87121385-1b14-4ae7-ad09-0eb360b8db53",
   "metadata": {},
   "source": [
    "i = start -----------------------------+\n",
    "while i < end: ------------------------+-----+\n",
    "                                       ↓     ↓\n",
    "                      for i in range(start, end, step):\n",
    "  print(i)                print(i)                ↑\n",
    "  i = i + step -----------------------------------+"
   ]
  },
  {
   "cell_type": "markdown",
   "id": "d97ef92e-559d-4a3e-b73f-22edecc85283",
   "metadata": {},
   "source": [
    "#### Παράδειγμα"
   ]
  },
  {
   "cell_type": "code",
   "execution_count": null,
   "id": "ea55483d-bb35-459a-880b-31b4e296ae9b",
   "metadata": {},
   "outputs": [],
   "source": [
    "i = 3\n",
    "while i < 7:\n",
    "    print(i, end=\" \")\n",
    "    i = i + 1\n",
    "\n",
    "print()\n",
    "# Μετατροπή σε for\n",
    "for i in range(3, 7, 1):\n",
    "    print(i, end=\" \")"
   ]
  },
  {
   "cell_type": "markdown",
   "id": "c40acc79-eab3-465c-9a6b-290f48b76d35",
   "metadata": {},
   "source": [
    "### 2η Περίπτωση\n",
    "\n",
    "* Το βήμα είναι *θετικό*, και\n",
    "* στη συνθήκη της while έχουμε το *μικρότερο ή ίσο* (**<=**).\n",
    "\n",
    "Σε αυτή την περίπτωση πρέπει να *προσθέσουμε* το βήμα (step) στην τελική τιμή (end) και γίνεται **end + step**"
   ]
  },
  {
   "cell_type": "raw",
   "id": "e7719b8f-56ba-41a1-b418-eccc558ab743",
   "metadata": {},
   "source": [
    "i = start -----------------------------+\n",
    "while i <= end: -----------------------+--------+\n",
    "                                       ↓        ↓\n",
    "                      for i in range(start, end + step, step):\n",
    "  print(i)                print(i)                       ↑\n",
    "  i = i + step ------------------------------------------+"
   ]
  },
  {
   "cell_type": "markdown",
   "id": "18cab9d1-75d8-4b5e-93e4-31a0a421772e",
   "metadata": {},
   "source": [
    "#### Παράδειγμα"
   ]
  },
  {
   "cell_type": "code",
   "execution_count": null,
   "id": "853117ba-473c-4c1f-9fb6-1bc83e4ea314",
   "metadata": {},
   "outputs": [],
   "source": [
    "i = 3\n",
    "while i <= 7:\n",
    "    print(i, end=\" \")\n",
    "    i = i + 1\n",
    "\n",
    "print()\n",
    "# Μετατροπή σε for\n",
    "for i in range(3, 7 + 1, 1):\n",
    "    print(i, end=\" \")"
   ]
  },
  {
   "cell_type": "markdown",
   "id": "a30c02d7-8fc3-4ad0-b65f-4dce35e58f2d",
   "metadata": {},
   "source": [
    "### 3η Περίπτωση\n",
    "\n",
    "* Το βήμα είνα *αρνητικό*, και\n",
    "* στη συνθήκη της while έχουμε το *μεγαλύτερο* (**>**)\n",
    "\n",
    "Προσέχουμε ώστε στη range να βάλουμε *αρνητικό* το βήμα (**-step**)"
   ]
  },
  {
   "cell_type": "raw",
   "id": "81ce7ae0-e715-4dc1-843c-a079a26bf914",
   "metadata": {},
   "source": [
    "i = start -----------------------------+\n",
    "while i > end: ------------------------+-----+\n",
    "                                       ↓     ↓\n",
    "                      for i in range(start, end, -step):\n",
    "  print(i)                print(i)                 ↑\n",
    "  i = i - step ------------------------------------+"
   ]
  },
  {
   "cell_type": "markdown",
   "id": "d08a8556-41b0-43a9-ab52-c389c9dea27b",
   "metadata": {},
   "source": [
    "#### Παράδειγμα"
   ]
  },
  {
   "cell_type": "code",
   "execution_count": null,
   "id": "733fe9e2-3048-40aa-9551-3df5f109de4a",
   "metadata": {},
   "outputs": [],
   "source": [
    "i = 10\n",
    "while i > 5:\n",
    "    print(i, end=\" \")\n",
    "    i = i - 1\n",
    "\n",
    "print()\n",
    "# Μετατροπή σε for\n",
    "for i in range(10, 5, -1):\n",
    "    print(i, end=\" \")"
   ]
  },
  {
   "cell_type": "markdown",
   "id": "390ceada-dfe5-4a2e-b317-1543408d0d5e",
   "metadata": {},
   "source": [
    "### 4η Περίπτωση\n",
    "\n",
    "* Το βήμα είνα *αρνητικό*, και\n",
    "* στη συνθήκη της while έχουμε το *μεγαλύτερο η ίσο* (**>=**)\n",
    "\n",
    "Σε αυτή την περίπτωση για τη μετατροπή:\n",
    "* Προσέχουμε ώστε στη range να βάλουμε *αρνητικό* το βήμα (**-step**)\n",
    "* Αφαιρούμε από το βήμα (step) από την τελική τιμή (end) και γίνεται **end - step**"
   ]
  },
  {
   "cell_type": "raw",
   "id": "af5d4ac4-ab01-452d-a07f-c62ac8b055fa",
   "metadata": {},
   "source": [
    "i = start -----------------------------+\n",
    "while i >= end: -----------------------+--------+\n",
    "                                       ↓        ↓\n",
    "                      for i in range(start, end - step, -step):\n",
    "  print(i)                print(i)                        ↑\n",
    "  i = i - step -------------------------------------------+"
   ]
  },
  {
   "cell_type": "markdown",
   "id": "e309365d-a33c-4039-b161-8dd6ef2d863a",
   "metadata": {},
   "source": [
    "#### Παράδειγμα"
   ]
  },
  {
   "cell_type": "code",
   "execution_count": null,
   "id": "e9f02963-b282-43ee-85cf-b5bd2e76eb9e",
   "metadata": {},
   "outputs": [],
   "source": [
    "i = 10\n",
    "while i >= 5:\n",
    "    print(i, end=\" \")\n",
    "    i = i - 1\n",
    "\n",
    "print()\n",
    "# Μετατροπή σε for\n",
    "for i in range(10, 5 - 1, -1):\n",
    "    print(i, end=\" \")"
   ]
  },
  {
   "cell_type": "markdown",
   "id": "80b94994-4972-4514-9903-3dbf75b13b4e",
   "metadata": {},
   "source": [
    "### Εξάσκηση\n",
    "\n",
    "Μετατρέψτε τον κώδικα των παρακάτω κελιών σε for"
   ]
  },
  {
   "cell_type": "code",
   "execution_count": null,
   "id": "0a2fe0e5-a572-411c-986c-acb5160b6ff4",
   "metadata": {},
   "outputs": [],
   "source": [
    "x = 20\n",
    "while x < 50:\n",
    "    print(x, end=\" \")\n",
    "    x = x + 5\n",
    "\n",
    "print()\n",
    "# Μετατροπή σε for"
   ]
  },
  {
   "cell_type": "code",
   "execution_count": null,
   "id": "adefc224-6162-4898-84cf-1a4d725d00e0",
   "metadata": {},
   "outputs": [],
   "source": [
    "j = 10\n",
    "while j <= 100:\n",
    "    print(j, end=\" \")\n",
    "    j = j + 10\n",
    "\n",
    "print()\n",
    "# Μετατροπή σε for"
   ]
  },
  {
   "cell_type": "code",
   "execution_count": null,
   "id": "1857a523-084a-4062-9d68-3e4f65d676b8",
   "metadata": {},
   "outputs": [],
   "source": [
    "i = 10\n",
    "while i > 0:\n",
    "    print(i, end=\" \")\n",
    "    i = i - 2\n",
    "\n",
    "print()\n",
    "# Μετατροπή σε for"
   ]
  },
  {
   "cell_type": "code",
   "execution_count": null,
   "id": "6a38494f-ffda-47e7-988c-175d9dce7761",
   "metadata": {},
   "outputs": [],
   "source": [
    "i = 30\n",
    "while i >= 0:\n",
    "    print(i, end=\" \")\n",
    "    i = i - 5\n",
    "\n",
    "print()\n",
    "# Μετατροπή σε for"
   ]
  },
  {
   "cell_type": "markdown",
   "id": "94ffd443-f9b0-4e89-892e-a250dee7af9e",
   "metadata": {},
   "source": [
    "## Η Μεταβολή Γίνεται στην *Αρχή* της while\n",
    "\n",
    "Διακρίνουμε πάλι τέσσερις περιπτώσεις."
   ]
  },
  {
   "cell_type": "markdown",
   "id": "de5e5f5a-6eb9-4445-8b32-e7428c00d498",
   "metadata": {},
   "source": [
    "### 1η Περίπτωση\n",
    "\n",
    "* Το βήμα είναι *θετικό*, και\n",
    "* στη συνθήκη της while έχουμε το *μικρότερο* (**<**). \n",
    "\n",
    "Σε αυτή την περίπτωση για τη μετατροπή:\n",
    "* *Προσθέτουμε* το βήμα (step) στην *αρχική* τιμή και γίνεται **start + step**\n",
    "* *Προσθέτουμε* το βήμα (step) στην *τελική* τιμή και γίνεται **end + step**"
   ]
  },
  {
   "cell_type": "raw",
   "id": "77764605-0c03-41bb-bcb4-2f0ce19c2a17",
   "metadata": {},
   "source": [
    "i = start ---------------------------------+\n",
    "while i < end: ----------------------------+-----------+\n",
    "                                           ↓           ↓\n",
    "                      for i in range(start + step, end + step, step):\n",
    "                                                                 ↑\n",
    "  i = i + step --------------------------------------------------+\n",
    "  print(i)                print(i)                "
   ]
  },
  {
   "cell_type": "markdown",
   "id": "77d68179-6201-4315-8914-092da2d4f8e3",
   "metadata": {},
   "source": [
    "#### Παράδειγμα"
   ]
  },
  {
   "cell_type": "code",
   "execution_count": null,
   "id": "9cd7a8ed-ee29-4f9e-ae8b-3bfb6ff93c95",
   "metadata": {},
   "outputs": [],
   "source": [
    "i = 15\n",
    "while i < 30:\n",
    "    i = i + 5  # Μεταβολή στην αρχή της while\n",
    "    print(i, end=\" \")\n",
    "\n",
    "print()\n",
    "# Μετατροπή σε for\n",
    "for i in range(15 + 5, 30 + 5, 5):\n",
    "    print(i, end=\" \")"
   ]
  },
  {
   "cell_type": "markdown",
   "id": "f0c524ed-966c-45ee-b58a-07302c5e71a0",
   "metadata": {},
   "source": [
    "### 2η Περίπτωση\n",
    "\n",
    "* Το βήμα είναι *θετικό*, και\n",
    "* στη συνθήκη της while έχουμε το *μικρότερο ή ίσο* (**<=**). \n",
    "\n",
    "Σε αυτή την περίπτωση για τη μετατροπή:\n",
    "* *Προσθέτουμε* το βήμα (step) στην *αρχική* τιμή και γίνεται **start + step**\n",
    "* *Προσθέτουμε δύο φορές* το βήμα (step) στην *τελική* τιμή και γίνεται **end + step + step**"
   ]
  },
  {
   "cell_type": "raw",
   "id": "2061c51a-6f07-42c2-9714-a9b9f95de5ae",
   "metadata": {},
   "source": [
    "i = start ---------------------------------+\n",
    "while i < end: ----------------------------+---------------+\n",
    "                                           ↓               ↓\n",
    "                      for i in range(start + step, end + step + step, step):\n",
    "                                                                       ↑\n",
    "  i = i + step --------------------------------------------------------+\n",
    "  print(i)                print(i)                "
   ]
  },
  {
   "cell_type": "markdown",
   "id": "42fafb02-9ca8-431e-9bb9-3f525fcd026e",
   "metadata": {},
   "source": [
    "#### Παράδειγμα"
   ]
  },
  {
   "cell_type": "code",
   "execution_count": null,
   "id": "fa464055-aa92-4673-ac19-945a2f0d3004",
   "metadata": {},
   "outputs": [],
   "source": [
    "i = 15\n",
    "while i <= 30:\n",
    "    i = i + 5\n",
    "    print(i, end=\" \")\n",
    "\n",
    "print()\n",
    "# Μετατροπή σε for\n",
    "for i in range(15 + 5, 30 + 5 + 5, 5):\n",
    "    print(i, end=\" \")"
   ]
  },
  {
   "cell_type": "markdown",
   "id": "bc553050-dcba-4c3d-bae8-0cf898a5c135",
   "metadata": {},
   "source": [
    "### 3η Περίπτωση\n",
    "\n",
    "* Το βήμα είναι *αρνητικό*, και\n",
    "* στη συνθήκη της while έχουμε το *μεγαλύτερο* (**>**). \n",
    "\n",
    "Σε αυτή την περίπτωση για τη μετατροπή:\n",
    "* *Αφαιρούμε* το βήμα (step) στην *αρχική* τιμή και γίνεται **start - step**\n",
    "* *Αφαιρούμε* το βήμα (step) στην *τελική* τιμή και γίνεται **end - step**\n",
    "* Βάζουμε *αρνητικό* το βήμα στη range (**-step**)"
   ]
  },
  {
   "cell_type": "raw",
   "id": "b7fdfc6f-7b78-4052-a52d-12356dceb42d",
   "metadata": {},
   "source": [
    "i = start ---------------------------------+\n",
    "while i > end: ----------------------------+-----------+\n",
    "                                           ↓           ↓\n",
    "                      for i in range(start - step, end - step, -step):\n",
    "                                                                 ↑\n",
    "  i = i - step --------------------------------------------------+\n",
    "  print(i)                print(i)                "
   ]
  },
  {
   "cell_type": "code",
   "execution_count": null,
   "id": "3def772c-c013-491f-b129-01beecc37874",
   "metadata": {},
   "outputs": [],
   "source": [
    "i = 30\n",
    "while i > 15:\n",
    "    i = i - 5\n",
    "    print(i, end=\" \")\n",
    "\n",
    "print()\n",
    "# Μετατροπή σε for\n",
    "for i in range(30 - 5, 15 - 5, -5):\n",
    "    print(i, end=\" \")"
   ]
  },
  {
   "cell_type": "markdown",
   "id": "82b2213f-9d78-42b5-bb43-25d3e911ef6a",
   "metadata": {},
   "source": [
    "### 4η Περίπτωση\n",
    "\n",
    "* Το βήμα είναι *αρνητικό*, και\n",
    "* στη συνθήκη της while έχουμε το *μεγαλύτερο ή ίσο* (**>=**). \n",
    "\n",
    "Σε αυτή την περίπτωση για τη μετατροπή:\n",
    "* *Αφαιρούμε* το βήμα (step) στην *αρχική* τιμή και γίνεται **start - step**\n",
    "* *Αφαιρούμε δύο φορές* το βήμα (step) στην *τελική* τιμή και γίνεται **end - step - step**\n",
    "* Βάζουμε *αρνητικό* το βήμα στη range (**-step**)"
   ]
  },
  {
   "cell_type": "raw",
   "id": "6aaa110e-5876-4c68-8643-80c291c0446e",
   "metadata": {},
   "source": [
    "i = start ---------------------------------+\n",
    "while i >= end: ----------------------------+-------------+\n",
    "                                           ↓              ↓\n",
    "                      for i in range(start - step, end - step - step, -step):\n",
    "                                                                        ↑\n",
    "  i = i - step ---------------------------------------------------------+\n",
    "  print(i)                print(i)                "
   ]
  },
  {
   "cell_type": "markdown",
   "id": "c7a3ba95-bfe9-4020-842a-dd710481d64c",
   "metadata": {},
   "source": [
    "#### Παράδειγμα"
   ]
  },
  {
   "cell_type": "code",
   "execution_count": null,
   "id": "9f6a3aba-256a-4483-b21b-0b72d56bddf8",
   "metadata": {},
   "outputs": [],
   "source": [
    "i = 30\n",
    "while i >= 15:\n",
    "    i = i - 5\n",
    "    print(i, end=\" \")\n",
    "\n",
    "print()\n",
    "# Μετατροπή σε for\n",
    "for i in range(30 - 5, 15 - 5 - 5, -5):\n",
    "    print(i, end=\" \")"
   ]
  },
  {
   "cell_type": "markdown",
   "id": "0247c5c4-7ebe-411e-a566-093655d5e687",
   "metadata": {},
   "source": [
    "### Εξάσκηση\n",
    "\n",
    "Μετατρέψτε τον κώδικα των παρακάτω κελιών σε for"
   ]
  },
  {
   "cell_type": "code",
   "execution_count": null,
   "id": "95b52f6a-7535-453e-8390-c29390fd47db",
   "metadata": {},
   "outputs": [],
   "source": [
    "c = 40\n",
    "while c < 50:\n",
    "    c = c + 1\n",
    "    print(c, end=\" \")\n",
    "\n",
    "print()\n",
    "# Μετατροφή σε for"
   ]
  },
  {
   "cell_type": "code",
   "execution_count": null,
   "id": "435650ac-ebfb-46fe-992f-d50fe3cd8eb0",
   "metadata": {},
   "outputs": [],
   "source": [
    "a = 20\n",
    "while a <= 30:\n",
    "    a = a + 2\n",
    "    print(a, end=\" \")\n",
    "\n",
    "print()\n",
    "# Μετατροπή σε for"
   ]
  },
  {
   "cell_type": "code",
   "execution_count": null,
   "id": "90349547-53af-4edf-b802-ae7333ab139f",
   "metadata": {},
   "outputs": [],
   "source": [
    "n = 50\n",
    "while n > 0:\n",
    "    n = n - 10\n",
    "    print(n, end=\" \")\n",
    "\n",
    "print()\n",
    "# Μετατροπή σε for"
   ]
  },
  {
   "cell_type": "code",
   "execution_count": null,
   "id": "bca9d043-37c2-448a-b320-c1c61c644c46",
   "metadata": {},
   "outputs": [],
   "source": [
    "m = 100\n",
    "while m >= 10:\n",
    "    m = m - 10\n",
    "    print(m, end=\" \")\n",
    "\n",
    "print()\n",
    "# Μετατροπή σε for"
   ]
  },
  {
   "cell_type": "code",
   "execution_count": null,
   "id": "6d864ca1-957d-475c-b4eb-e8bafcb4225c",
   "metadata": {},
   "outputs": [],
   "source": []
  }
 ],
 "metadata": {
  "kernelspec": {
   "display_name": "Python 3 (ipykernel)",
   "language": "python",
   "name": "python3"
  },
  "language_info": {
   "codemirror_mode": {
    "name": "ipython",
    "version": 3
   },
   "file_extension": ".py",
   "mimetype": "text/x-python",
   "name": "python",
   "nbconvert_exporter": "python",
   "pygments_lexer": "ipython3",
   "version": "3.12.0"
  }
 },
 "nbformat": 4,
 "nbformat_minor": 5
}
