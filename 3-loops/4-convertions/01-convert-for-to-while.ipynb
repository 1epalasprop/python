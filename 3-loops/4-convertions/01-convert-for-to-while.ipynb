{
 "cells": [
  {
   "cell_type": "markdown",
   "id": "e974fa89-3aff-42f5-b652-0d4967e7f169",
   "metadata": {},
   "source": [
    "# Μετατροπή for σε while\n",
    "\n",
    "1. Δίνουμε στη μεταβλητή που έχουμε στη for την αρχική τιμή της range\n",
    "2. Βάζουμε ως συνθήκη στη while η μεταβλητή της for να είναι\n",
    "   1. *μικρότερη* από την τελική τιμή της range όταν *το βήμα είναι θετικό*\n",
    "   2. *μεγαλύτερ* από την τελική τιμή της range όταν *το βήμα είναι αρνητικό*\n",
    "4. Μέσα στη while, ως τελευταία εντολή, αυξάνουμε τη μεταβλητή της for με το βήμα της range\n",
    "\n",
    "Όλες οι άλλες εντολές παραμένουν ως έχουν.\n",
    "\n",
    "Παρακάτω φαίνονται τα τρία βήματα της μετατροπής.\n",
    "\n",
    "**ΠΡΟΣΟΧΗ:** Και τα δύο προγράμματα πρέπει να εμφανίζουν *ακριβώς την ίδια* ακολουθία αριθμών."
   ]
  },
  {
   "attachments": {},
   "cell_type": "raw",
   "id": "f3ae2e37-ac2c-4752-9e8f-8eb5a09ee74a",
   "metadata": {},
   "source": [
    "                 +----------------------> i = start  # Βήμα 1\n",
    "                 |     +----------------> while i < end:  # Βήμα 2A\n",
    "                 |     |\n",
    "for i in range(start, end, step):          \n",
    "    print(i)                 |                print(i)\n",
    "                             +--------------> i = i + step  # Βήμα 3\n",
    "\n",
    "=====================================================================\n",
    "\n",
    "                 +----------------------> i = start  # Βήμα 1\n",
    "                 |     +----------------> while i > end:  # Βήμα 2B\n",
    "                 |     |\n",
    "for i in range(start, end, step):          \n",
    "    print(i)                 |                print(i)\n",
    "                             +--------------> i = i + step  # Βήμα 3"
   ]
  },
  {
   "cell_type": "markdown",
   "id": "b121ce6e-862e-4593-9858-e946dc49b88e",
   "metadata": {},
   "source": [
    "# Εξάσκηση\n",
    "\n",
    "Κάνε τις μετατροπές που ζητούνται παρακάτω:"
   ]
  },
  {
   "cell_type": "code",
   "execution_count": 1,
   "id": "c38e1fdc-cd8b-4b76-a00f-50e32ce7bbba",
   "metadata": {},
   "outputs": [
    {
     "name": "stdout",
     "output_type": "stream",
     "text": [
      "5 7 9 11 13 15 17 19 "
     ]
    }
   ],
   "source": [
    "for i in range(5, 20, 2):\n",
    "    print(i, end=\" \")\n",
    "\n",
    "\n",
    "# Γράψε εδώ τη μετατροπή"
   ]
  },
  {
   "cell_type": "code",
   "execution_count": 5,
   "id": "4f962f2a-6e8c-47e2-a8d4-00036f749cd1",
   "metadata": {},
   "outputs": [
    {
     "name": "stdout",
     "output_type": "stream",
     "text": [
      "20 18 16 14 12 10 8 6 "
     ]
    }
   ],
   "source": [
    "for j in range(20, 5, -2):\n",
    "    print(j, end=\" \")\n",
    "\n",
    "# Γράψε εδώ τη μετατροπή"
   ]
  },
  {
   "cell_type": "code",
   "execution_count": 6,
   "id": "8de97d29-7dc5-4579-90a6-dedc976574f1",
   "metadata": {},
   "outputs": [
    {
     "name": "stdout",
     "output_type": "stream",
     "text": [
      "20 21 22 23 24 25 26 27 28 29 "
     ]
    }
   ],
   "source": [
    "for k in range(20, 30):\n",
    "    print(k, end=\" \")\n",
    "\n",
    "# Γράψε εδώ τη μετατροπή"
   ]
  },
  {
   "cell_type": "code",
   "execution_count": 7,
   "id": "015258d6-083a-4582-8bfe-dd9f7eff9008",
   "metadata": {},
   "outputs": [
    {
     "name": "stdout",
     "output_type": "stream",
     "text": [
      "0 1 2 3 4 5 6 7 8 9 "
     ]
    }
   ],
   "source": [
    "for x in range(10):\n",
    "    print(x, end=\" \")"
   ]
  },
  {
   "cell_type": "code",
   "execution_count": null,
   "id": "1fb06b91-48d5-41cd-9de8-e3e2886d7a8e",
   "metadata": {},
   "outputs": [],
   "source": []
  }
 ],
 "metadata": {
  "kernelspec": {
   "display_name": "Python 3 (ipykernel)",
   "language": "python",
   "name": "python3"
  },
  "language_info": {
   "codemirror_mode": {
    "name": "ipython",
    "version": 3
   },
   "file_extension": ".py",
   "mimetype": "text/x-python",
   "name": "python",
   "nbconvert_exporter": "python",
   "pygments_lexer": "ipython3",
   "version": "3.12.1"
  }
 },
 "nbformat": 4,
 "nbformat_minor": 5
}
