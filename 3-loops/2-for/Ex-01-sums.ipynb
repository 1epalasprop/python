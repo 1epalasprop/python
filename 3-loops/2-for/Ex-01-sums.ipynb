{
 "cells": [
  {
   "cell_type": "markdown",
   "id": "abbdd804-df10-4998-8255-71f5dc2f5b8e",
   "metadata": {},
   "source": [
    "# Άθροισμα Ακολουθίας Αριθμών\n",
    "\n",
    "Για να υπολογίσουμε το άθροισμα μίας *γνωστής* ακολουθίας αριθμών, ακολουθούμε\n",
    "την παρακάτω διαδικασία:\n",
    "\n",
    "1. Δίνουμε σε μία μεταβλητή (έστω, suma, athroisma, ...) αρχική τιμή 0\n",
    "2. Χρησιμοποιούμε τη δομή επανάληψης for\n",
    "3. Στη συνάρτηση range βάζουμε τους κατάλληλους αριθμούς για να φτιάξουμε την ακολουθία\n",
    "4. Σε κάθε επανάληψη της for προσθέτουμε τη μεταβλητή της στη suma, athroisma, ή όπως την ονομάσατε\n",
    "5. Στο τέλος της επανάληψης η μεταβλητή του βήματος 1 θα έχει την τελική τιμή."
   ]
  },
  {
   "cell_type": "markdown",
   "id": "e3dfe667-1444-44d0-a295-8c8cc16d8b09",
   "metadata": {
    "jp-MarkdownHeadingCollapsed": true
   },
   "source": [
    "## Παράδειγμα\n",
    "\n",
    "Γράψτε ένα πρόγραμμα με τη χρήση της δομής επανάληψης **for** που θα υπολογίζει\n",
    "και εμφανίζει το άθροισμα όλων των αριθμών από το 1 έως το 50. Δηλαδή, το άθροισμα:\n",
    "\n",
    "`1 + 2 + 3 + ... + 50`\n",
    "\n",
    "Το αποτέλεσμα που πρέπει να πάρετε από το πρόγραμμα είναι: **1275**"
   ]
  },
  {
   "cell_type": "code",
   "execution_count": 5,
   "id": "18bf66c1-ccf2-4796-92b3-46338236709d",
   "metadata": {},
   "outputs": [
    {
     "name": "stdout",
     "output_type": "stream",
     "text": [
      "1275\n"
     ]
    }
   ],
   "source": [
    "suma = 0\n",
    "for i in range(1, 51):\n",
    "    suma = suma + i\n",
    "print(suma)"
   ]
  },
  {
   "cell_type": "markdown",
   "id": "369b1d6d-e084-4f60-9892-3a77b10839ee",
   "metadata": {
    "jp-MarkdownHeadingCollapsed": true
   },
   "source": [
    "# Εξάσκηση"
   ]
  },
  {
   "cell_type": "markdown",
   "id": "07d88adc-83bc-48de-a5f9-f38b2ddf3a91",
   "metadata": {},
   "source": [
    "Γράψτε ένα πρόγραμμα με τη χρήση της δομής επανάληψης **for** που θα υπολογίζει\n",
    "το άθροισμα όλων των αριθμών από το 5 έως το 500 ανά 5. Δηλαδή, το άθροισμα:\n",
    "\n",
    "`5 + 10 + 15 + ... + 500`\n",
    "\n",
    "Το αποτέλεσμα που πρέπει να πάρετε από το πρόγραμμα είναι: **25250**"
   ]
  },
  {
   "cell_type": "code",
   "execution_count": null,
   "id": "5ae0dfac-0cbc-457b-95a5-0e5204a2ac0d",
   "metadata": {},
   "outputs": [],
   "source": []
  },
  {
   "cell_type": "markdown",
   "id": "db67299d-78c8-4d57-ab64-ec563362d4fc",
   "metadata": {},
   "source": [
    "Γράψτε ένα πρόγραμμα με τη χρήση της δομής επανάληψης **for** που θα *διαβάζει* \n",
    "έναν θετικό αριθμό **Ν**, υπολογίζει και εμφανίζει το άθροισμα όλων των \n",
    "*άρτιων (ζυγών)* αριθμών από το 1 έως το **Ν**. Δηλαδή, το άθροισμα:\n",
    "\n",
    "`2 + 4 + 6 + ... + Ν`"
   ]
  },
  {
   "cell_type": "code",
   "execution_count": null,
   "id": "2106f4af-ea21-42ba-a426-0a656c5d2fd4",
   "metadata": {},
   "outputs": [],
   "source": []
  },
  {
   "cell_type": "markdown",
   "id": "93d9d284-5b5c-48b3-baf6-f003e4bda6ee",
   "metadata": {},
   "source": [
    "Γράψτε ένα πρόγραμμα με τη χρήση της δομής επανάληψης **for** που θα *διαβάζει* \n",
    "έναν θετικό αριθμό **Ν**, υπολογίζει και εμφανίζει το άθροισμα όλων των \n",
    "*περιτών (μονών)* αριθμών από το 1 έως το **Ν**. Δηλαδή, το άθροισμα:\n",
    "\n",
    "`1 + 3 + 5 + ... + Ν`"
   ]
  },
  {
   "cell_type": "code",
   "execution_count": null,
   "id": "3cf8af53-46c9-4ac0-9495-5ddf187983e0",
   "metadata": {},
   "outputs": [],
   "source": []
  }
 ],
 "metadata": {
  "kernelspec": {
   "display_name": "Python 3 (ipykernel)",
   "language": "python",
   "name": "python3"
  },
  "language_info": {
   "codemirror_mode": {
    "name": "ipython",
    "version": 3
   },
   "file_extension": ".py",
   "mimetype": "text/x-python",
   "name": "python",
   "nbconvert_exporter": "python",
   "pygments_lexer": "ipython3",
   "version": "3.12.0"
  }
 },
 "nbformat": 4,
 "nbformat_minor": 5
}
