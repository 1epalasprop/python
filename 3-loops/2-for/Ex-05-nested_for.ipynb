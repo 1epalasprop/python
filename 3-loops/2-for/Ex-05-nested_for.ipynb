{
 "cells": [
  {
   "cell_type": "markdown",
   "id": "0b6145ef-fa23-4739-9e16-b659c3aee420",
   "metadata": {
    "editable": true,
    "slideshow": {
     "slide_type": ""
    },
    "tags": []
   },
   "source": [
    "# Εμφωλευμένες Επαναλήψεις με `for`\n",
    "\n",
    "Σε μία ομάδα εντολών που ανήκουν σε μία `for` μπορεί να υπάρχουν μία ή περισσότερες `for`, όπως στο παρακάτω παράδειγμα:"
   ]
  },
  {
   "cell_type": "code",
   "execution_count": 4,
   "id": "c91a571a-5389-4e1b-b67a-d1a1ba1e76dc",
   "metadata": {},
   "outputs": [
    {
     "name": "stdout",
     "output_type": "stream",
     "text": [
      "Έναρξη εξωτερικού for\n",
      "Έναρξη εσωτερικού for\n",
      "i: 0 j: 0\n",
      "i: 0 j: 1\n",
      "i: 0 j: 2\n",
      "i: 0 j: 3\n",
      "Τέλος εσωτερικού for.\n",
      "Έναρξη εσωτερικού for\n",
      "i: 1 j: 0\n",
      "i: 1 j: 1\n",
      "i: 1 j: 2\n",
      "i: 1 j: 3\n",
      "Τέλος εσωτερικού for.\n",
      "Τέλος εξωτερικού for\n"
     ]
    }
   ],
   "source": [
    "print(\"Έναρξη εξωτερικού for\")\n",
    "for i in range(2):  # Εξωτερικό for\n",
    "    print(\"Έναρξη εσωτερικού for\")\n",
    "    for j in range(4):  # Εσωτερικό for\n",
    "        print(\"i:\", i, \"j:\", j)\n",
    "    print(\"Τέλος εσωτερικού for.\")\n",
    "print(\"Τέλος εξωτερικού for\")"
   ]
  },
  {
   "cell_type": "markdown",
   "id": "088a13c1-8ffd-4184-b579-54cd65b7498a",
   "metadata": {},
   "source": [
    "Όπως βλέπουμε, σε κάθε επανάληψη του εξωτερικού `for` γίνονται όλες οι επαναλήψεις του εσωτερικού.\n",
    "Όταν τελειώσει το εσωτερικό `for`, γίνεται η επόμενη επανάληψή του.\n",
    "\n",
    "Ο συνολικός αριθμός των επαναλήψεων είναι το γινόμενο των επαναλήψεων του εξωτερικού for επί των επαναλήψεων του εσωτερικού for. Στο παραπάνω παράδειγμα, το εξωτερικό for εκτελείται 2 φορές και το εσωτερικό 4. Το πλήθος επαναλήψεων είναι `2 x 4 = 8`.\n",
    "\n",
    "Αυτού του τύπου η δομή χρησιμοποιείται σε προβλήματα όπου μια σειρά μετρήσεων (εσωτερικό `for`) επαναλαμβάνεται πολλές φορές (εξωτερικό `for`). *Παράδειγμα:* Ένα πρόγραμμα διαβάζει τις θερμοκρασίες για κάθε ώρα μιας ημέρας (εσωτερικό `for` με 24 επαναλήψεις) για όλες τις ημέρες ενός μήνα (εξωτερικό `for` με 30 επαναλήψεις). "
   ]
  },
  {
   "cell_type": "markdown",
   "id": "c1ee3027-1590-4838-9c0a-dd275907127e",
   "metadata": {},
   "source": [
    "## Εξάσκηση\n",
    "\n",
    "Χρησιμοποιείστε την παρακάτω δομή για τις ασκήσεις που ακολουθούν:\n",
    "\n",
    "```\n",
    "count = 0\n",
    "for i in range(__):\n",
    "    for j in range(__):\n",
    "        count = count + 1\n",
    "print(count)\n",
    "```\n",
    "όπου στις θέσεις `__` θα πρέπει να βάλεις του κατάλληλους αριθμούς."
   ]
  },
  {
   "cell_type": "markdown",
   "id": "60f28c94-e1ec-442b-b349-eecb6e0deed3",
   "metadata": {
    "editable": true,
    "slideshow": {
     "slide_type": ""
    },
    "tags": []
   },
   "source": [
    "Φτιάξε μια εμφωλευμένη δομή επανάληψης που στο εξωτερικό `for` θα κάνει 5\n",
    "επαναλήψεις και στο εσωτερικό 3. Ο αριθμός που θα εμφανιστεί στο τέλος πρέπει\n",
    "να είναι το `15`"
   ]
  },
  {
   "cell_type": "code",
   "execution_count": null,
   "id": "904048f0-12d3-4d98-9cb4-de26854bccd8",
   "metadata": {},
   "outputs": [],
   "source": []
  },
  {
   "cell_type": "markdown",
   "id": "87543942-01f4-4a16-ad92-568dfbdda0e1",
   "metadata": {},
   "source": [
    "Φτιάξε μια εμφωλευμένη δομή επανάληψης που στο εξωτερικό `for` θα κάνει 12\n",
    "επαναλήψεις και στο εσωτερικό 20. Ο αριθμός που θα εμφανιστεί στο τέλος πρέπει\n",
    "να είναι το `240`"
   ]
  },
  {
   "cell_type": "code",
   "execution_count": null,
   "id": "aef9cb0c-6dba-43e0-a2d3-9d87dbd0164b",
   "metadata": {},
   "outputs": [],
   "source": []
  }
 ],
 "metadata": {
  "kernelspec": {
   "display_name": "Python 3 (ipykernel)",
   "language": "python",
   "name": "python3"
  },
  "language_info": {
   "codemirror_mode": {
    "name": "ipython",
    "version": 3
   },
   "file_extension": ".py",
   "mimetype": "text/x-python",
   "name": "python",
   "nbconvert_exporter": "python",
   "pygments_lexer": "ipython3",
   "version": "3.12.0"
  }
 },
 "nbformat": 4,
 "nbformat_minor": 5
}
