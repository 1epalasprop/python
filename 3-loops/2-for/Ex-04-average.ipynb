{
 "cells": [
  {
   "cell_type": "markdown",
   "id": "46597bdc-13be-4deb-9730-b01794652303",
   "metadata": {},
   "source": [
    "# Εύρεση του Μέσου Όρου (average) μιας Ακολουθίας Αριθμών\n",
    "\n",
    "Για να βρούμε τον μέσο όρο σε μια ακολουθία *άγνωστων* αριθμών, ακολουθούμε την εξής διαδικασία \n",
    "*όταν ο αριθμός επαναλλήψεων είναι γνωστός*:\n",
    "\n",
    "1. Υπολογίζουμε το άθροισμα της ακολουθίας όπως κάναμε στο σημειωματάριο `Ex-01-sums`\n",
    "2. Μετά το τέλος της `for` (βγαίνουμε από την εσοχή), διαιρούμε τη μεταβλητή που έχει το άθροισμα με το πλήθος των επαναλήψεων\n",
    "\n",
    "**Προσοχή:** Ο αριθμητής (άθροισμα) θα πρέπει να είναι δεκαδικός για να γίνει δεκαδική διαίρεση. Στην Python3 δεν έχουμε πρόβλημα, στην Python2 όμως θα πρέπει να χρησιμοποιήσουμε τη συνάρτηση `float()`"
   ]
  },
  {
   "cell_type": "markdown",
   "id": "960620c5-9dda-437e-bd6a-76b6664daf80",
   "metadata": {},
   "source": [
    "## Παράδειγμα\n",
    "\n",
    "Σε ένα αγώνα μπάσκετ οι 10 παίχτες της ομάδας μας πέτυχαν τους εξής αριθμούς πόντων:\n",
    "`7, 12, 4, 20, 22, 2, 15, 19, 10, 8`.\n",
    "\n",
    "Να υπολογίσετε το μέσο όρο των πόντων των παιχτών."
   ]
  },
  {
   "cell_type": "code",
   "execution_count": 1,
   "id": "77b290d0-42f8-4b55-8560-2e190d9fcb76",
   "metadata": {},
   "outputs": [
    {
     "name": "stdout",
     "output_type": "stream",
     "text": [
      "Παίχτης 1\n"
     ]
    },
    {
     "name": "stdin",
     "output_type": "stream",
     "text": [
      "Αριθμός πόντων που πέτυχε: 7\n"
     ]
    },
    {
     "name": "stdout",
     "output_type": "stream",
     "text": [
      "Παίχτης 2\n"
     ]
    },
    {
     "name": "stdin",
     "output_type": "stream",
     "text": [
      "Αριθμός πόντων που πέτυχε: 12\n"
     ]
    },
    {
     "name": "stdout",
     "output_type": "stream",
     "text": [
      "Παίχτης 3\n"
     ]
    },
    {
     "name": "stdin",
     "output_type": "stream",
     "text": [
      "Αριθμός πόντων που πέτυχε: 4\n"
     ]
    },
    {
     "name": "stdout",
     "output_type": "stream",
     "text": [
      "Παίχτης 4\n"
     ]
    },
    {
     "name": "stdin",
     "output_type": "stream",
     "text": [
      "Αριθμός πόντων που πέτυχε: 20\n"
     ]
    },
    {
     "name": "stdout",
     "output_type": "stream",
     "text": [
      "Παίχτης 5\n"
     ]
    },
    {
     "name": "stdin",
     "output_type": "stream",
     "text": [
      "Αριθμός πόντων που πέτυχε: 22\n"
     ]
    },
    {
     "name": "stdout",
     "output_type": "stream",
     "text": [
      "Παίχτης 6\n"
     ]
    },
    {
     "name": "stdin",
     "output_type": "stream",
     "text": [
      "Αριθμός πόντων που πέτυχε: 2\n"
     ]
    },
    {
     "name": "stdout",
     "output_type": "stream",
     "text": [
      "Παίχτης 7\n"
     ]
    },
    {
     "name": "stdin",
     "output_type": "stream",
     "text": [
      "Αριθμός πόντων που πέτυχε: 15\n"
     ]
    },
    {
     "name": "stdout",
     "output_type": "stream",
     "text": [
      "Παίχτης 8\n"
     ]
    },
    {
     "name": "stdin",
     "output_type": "stream",
     "text": [
      "Αριθμός πόντων που πέτυχε: 19\n"
     ]
    },
    {
     "name": "stdout",
     "output_type": "stream",
     "text": [
      "Παίχτης 9\n"
     ]
    },
    {
     "name": "stdin",
     "output_type": "stream",
     "text": [
      "Αριθμός πόντων που πέτυχε: 10\n"
     ]
    },
    {
     "name": "stdout",
     "output_type": "stream",
     "text": [
      "Παίχτης 10\n"
     ]
    },
    {
     "name": "stdin",
     "output_type": "stream",
     "text": [
      "Αριθμός πόντων που πέτυχε: 8\n"
     ]
    },
    {
     "name": "stdout",
     "output_type": "stream",
     "text": [
      "Ο μέσος όρος πόντων είναι: 11.9\n"
     ]
    }
   ],
   "source": [
    "suma = 0.0  # Για να είναι δεκαδική η διαίρεση βάζουμε 0.0 αντί για 0\n",
    "for i in range(1, 11):\n",
    "    print(\"Παίχτης\", i)\n",
    "    pontoi = int(input(\"Αριθμός πόντων που πέτυχε:\"))\n",
    "    suma = suma + pontoi  # Πρόσθεσε τους πόντους του παίχτη σε όσους έχουμε μέχρι τώρα\n",
    "# Έξω από τη for\n",
    "mesos_oros = suma / 10  # Η for έκανε 10 επαναλήψεις\n",
    "print(\"Ο μέσος όρος πόντων είναι:\", mesos_oros)"
   ]
  },
  {
   "cell_type": "markdown",
   "id": "de5bed8b-3d51-4035-9e10-8b96aad86f52",
   "metadata": {},
   "source": [
    "# Εξάσκηση"
   ]
  },
  {
   "cell_type": "markdown",
   "id": "747d1fde-a021-43e2-97f3-aa5b4daf4a50",
   "metadata": {},
   "source": [
    "Σε ένα μετεωρολογικό σταθμό, ένας αισθητήρας διαβάζει τη θερμοκρασία ανά ώρα.\n",
    "Γράψτε ένα πρόγραμμα που:\n",
    "\n",
    "1. Διαβάζει από το πληκτρολόγιο τις θερμοκρασίες μιας συγκεκριμένης ημέρας από τις 10:00 μέχρι τις 18:00\n",
    "(δηλαδή για 7 μετρήσεις).\n",
    "2. Υπολογίζει το άθροισμα αυτών των θερμοκρασιών.\n",
    "3. Υπολογίζει το μέσο όρο των θερμοκρασιών\n",
    "4. Εμφανίζει μήνυμα `Ο μέσος όρος των θερμοκρασιών είναι:` και να ακολουθεί ο υπολογισμός από το βήμα 3.\n",
    "\n",
    "\n",
    "Όταν τρέξετε το πρόγραμμα δώστε τις εξής τιμές: `11 11.5 12.2 13 13.9 14.5 14`\n",
    "\n",
    "Το αποτέλεσμα που θα πάρετε πρέπει να είναι: `12.87`"
   ]
  },
  {
   "cell_type": "code",
   "execution_count": null,
   "id": "5c3c9df0-3e7c-431a-86fd-614d19410c32",
   "metadata": {},
   "outputs": [],
   "source": []
  },
  {
   "cell_type": "markdown",
   "id": "050b93a5-eb7e-4d32-b58f-81784fc171f8",
   "metadata": {},
   "source": [
    "Σε ένα αγώνα πάλης οι αθλητές ζυγίζονται πριν πάρουν μέρος στον αγώνα. Γράψτε πρόγραμμα που:\n",
    "\n",
    "1. Διαβάζει από το πληκτρολόγιο το βάρος 6 αθλητών.\n",
    "2. Υπολογίζει το άρθοισμα του βάρους όλων τον αθλητών.\n",
    "3. Υπολογίζει το μέσο όρο του βάρους όλων τον αθλητών.\n",
    "4. Εμφανίζει μήνυμα `Ο μέσος όρος βάρους των αθλητών είναι:` και ακολουθεί ο υπολογισμός από το βήμα 3.\n",
    "\n",
    "Ότνα τρέξετε το πρόγραμμα δώστε τις εξης τιμές: `77 82.1 78.8 81.4 76.8 80`\n",
    "\n",
    "Το αποτέλεσμα που θα πάρετε πρέπει να είναι: `79.35`"
   ]
  },
  {
   "cell_type": "code",
   "execution_count": null,
   "id": "0f6ba863-692e-4fcb-86b9-ab3ccff366aa",
   "metadata": {
    "editable": true,
    "slideshow": {
     "slide_type": ""
    },
    "tags": []
   },
   "outputs": [],
   "source": []
  }
 ],
 "metadata": {
  "kernelspec": {
   "display_name": "Python 3 (ipykernel)",
   "language": "python",
   "name": "python3"
  },
  "language_info": {
   "codemirror_mode": {
    "name": "ipython",
    "version": 3
   },
   "file_extension": ".py",
   "mimetype": "text/x-python",
   "name": "python",
   "nbconvert_exporter": "python",
   "pygments_lexer": "ipython3",
   "version": "3.12.0"
  }
 },
 "nbformat": 4,
 "nbformat_minor": 5
}
