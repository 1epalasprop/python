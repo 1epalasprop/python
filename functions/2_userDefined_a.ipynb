{
 "cells": [
  {
   "cell_type": "markdown",
   "id": "2bdf3389-be54-4d7c-9818-9c05f340909b",
   "metadata": {},
   "source": [
    "# ΣΥΝΑΡΤΗΣΕΙΣ ΟΡΙΖΟΜΕΝΕΣ ΑΠΟ ΤΟ ΧΡΗΣΤΗ\n",
    "## ΜΕΡΟΣ 1ο\n",
    "### Συναρτήσεις που δεν επιστρέφουν τιμή\n",
    "\n",
    "Εκτελέστε τον παρακάτω κώδικα:"
   ]
  },
  {
   "cell_type": "code",
   "execution_count": null,
   "id": "f8a91d41-b773-4baf-ae79-f3b1bf4f055f",
   "metadata": {},
   "outputs": [],
   "source": [
    "def stars():\n",
    "    print(\"***\")\n",
    "    print(\"***\")"
   ]
  },
  {
   "cell_type": "markdown",
   "id": "f2b41795-6959-4c97-a7a8-1f7a5ce65732",
   "metadata": {},
   "source": [
    "Παρατηρήσατε ότι ο κώδικας δεν επιστρέφει κάτι. Αυτό συμβαίνει γιατί το παραπάνω ήταν ο **ορισμός** της συνάρτησης.\n",
    "Πρέπει να **καλέσουμε** τη συνάρτηση προκειμένου να τη χρησιμοποιήσουμε. Η κλήση της συνάρτησης γίνεται με το όνομά της, όπως φαίνεται στον κώδικα που ακολουθεί, τον οποίο και πρέπει να εκτελέσετε:"
   ]
  },
  {
   "cell_type": "code",
   "execution_count": null,
   "id": "01224fa9-910d-4156-acdf-cd79b48b9c47",
   "metadata": {},
   "outputs": [],
   "source": [
    "def stars():\n",
    "    print(\"***\")\n",
    "    print(\"***\")\n",
    "stars()"
   ]
  },
  {
   "cell_type": "markdown",
   "id": "c28697a1-c7ca-4954-a3dc-76486480b42c",
   "metadata": {},
   "source": [
    "Στο κελί που ακολουθεί ξαναγράψτε τη συνάρτηση και στη συνέχεια καλέστε την *τρεις φορές*. Πόσες σειρές αστεριών πιστεύετε θα εκτυπώσει; "
   ]
  },
  {
   "cell_type": "code",
   "execution_count": null,
   "id": "4e4b0c89-4044-4cc4-a6c0-0f655e3b3d35",
   "metadata": {},
   "outputs": [],
   "source": []
  },
  {
   "cell_type": "markdown",
   "id": "3336bae0-4761-4b03-ac2a-f7a32aa7dce4",
   "metadata": {},
   "source": [
    "Στο επόμενο κελί ξαναγράψτε τη συνάρτηση αλλά στη συνέχεια χρησιμοποιήστε την εντολή **for** για να καλέσετε τη συνάρτηση δέκα φορές."
   ]
  },
  {
   "cell_type": "code",
   "execution_count": null,
   "id": "3d9be0b7-a2f3-4791-bd48-ccdb745fe9f3",
   "metadata": {},
   "outputs": [],
   "source": []
  },
  {
   "cell_type": "markdown",
   "id": "575a0d79-a89a-4f3b-93d5-92be9daadb6f",
   "metadata": {},
   "source": [
    "### Άσκηση 1\n",
    "Στο κελί που ακολουθεί να γραφτεί πρόγραμμα το οποίο:\n",
    "1. Ορίζει συνάρτηση με όνομα *stars5*, η οποία εκτυπώνει 5 αστέρια σε μία γραμμή:\n",
    "```\n",
    "*****\n",
    "```\n",
    "2. Ορίζει συνάρτηση με όνομα *stars2*, η οποία εκτυπώνει 2 αστέρια, αλλά με 3 κενά μεταξύ τους:\n",
    "```\n",
    "*   *\n",
    "```\n",
    "3. Καλεί τις συναρτήσεις που ορίστκαν προγουμένως ώστε να δημιουργηθεί το παρακάτω σχήμα:\n",
    "```\n",
    "*****\n",
    "*   *\n",
    "*   *\n",
    "*   *\n",
    "*   *\n",
    "*   *\n",
    "*   *\n",
    "*   *\n",
    "*****\n",
    "```"
   ]
  },
  {
   "cell_type": "code",
   "execution_count": null,
   "id": "cdd19912-52c5-4614-8fe4-99d6e16209bf",
   "metadata": {},
   "outputs": [],
   "source": []
  }
 ],
 "metadata": {
  "kernelspec": {
   "display_name": "Python 3 (ipykernel)",
   "language": "python",
   "name": "python3"
  },
  "language_info": {
   "codemirror_mode": {
    "name": "ipython",
    "version": 3
   },
   "file_extension": ".py",
   "mimetype": "text/x-python",
   "name": "python",
   "nbconvert_exporter": "python",
   "pygments_lexer": "ipython3",
   "version": "3.12.1"
  }
 },
 "nbformat": 4,
 "nbformat_minor": 5
}
