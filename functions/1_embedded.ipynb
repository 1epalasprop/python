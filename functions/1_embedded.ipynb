{
 "cells": [
  {
   "cell_type": "markdown",
   "id": "a922af87-24d8-4af8-a17b-d9df17ff12a2",
   "metadata": {},
   "source": [
    "# Υποπρογράμματα στην Python\n",
    "Η Python παρέχει ένα μόνο τύπο υποπρογραμμάτων, τις **συναρτήσεις**.\n",
    "Υπάρχουν συναρτήσεις, οι οποίες:\n",
    "- δεν τροποποιούν το αντικείμενο στο οποίο εφαρμόζονται και άλλες που\n",
    "- τροποποιούν το αντικείμενο στο οποίο καλούνται\n",
    "\n",
    "Επίσης, μια άλλη κατηγορία συναρτήσεων είναι:\n",
    "- αυτές οι οποίες επιστρέφουν αποτέλεσμα\n",
    "- αυτές που δεν επιστρέφουν κάποια τιμή\n",
    "  \n",
    "*Παραδείγματα:*"
   ]
  },
  {
   "cell_type": "code",
   "execution_count": null,
   "id": "46e5a7af-1758-44b7-8014-bcaf41164073",
   "metadata": {},
   "outputs": [],
   "source": [
    "# Η συνάρτηση upper η οποία μετατρέπει σε κεφαλαία γράμματα το string που εφαρμόζεται, \n",
    "# αλλά η αλλαγή ΔΕΝ διατηρείται.\n",
    "a= \"Python\"\n",
    "print(a.upper())\n",
    "print(a)"
   ]
  },
  {
   "cell_type": "markdown",
   "id": "9bd1beda-e5fb-488c-8978-15c20c31cd86",
   "metadata": {},
   "source": [
    "Η Python διαθέτει πληθώρα **ενσωματωμένων συναρτήσεων**.\n",
    "Για παράδειγμα η βιβλιοθήκη συναρτήσεων **math**, η οποία περιλαμβάνει διάφορες συναρτήσεις μαθηματικών."
   ]
  },
  {
   "cell_type": "code",
   "execution_count": null,
   "id": "ca170333-c618-4046-a2af-a5f185b92438",
   "metadata": {},
   "outputs": [],
   "source": [
    "import math\n",
    "# Γράψτε από κάτω την κατάλληλη συνάρτηση για να εμφανίσετε την τετραγωνική ρίζα του 19\n"
   ]
  },
  {
   "cell_type": "markdown",
   "id": "a2c55196-24f8-4928-85ed-22fe34534d94",
   "metadata": {},
   "source": [
    "Ένα άλλο παράδειγμα είναι η βιβλιοθήκη συναρτήσεων **random** για την παραγωγή τυχαίων αριθμών."
   ]
  },
  {
   "cell_type": "code",
   "execution_count": null,
   "id": "df82d52e-8eb2-4f12-bdb0-1f665ca2e1ff",
   "metadata": {},
   "outputs": [],
   "source": [
    "import random\n",
    "# Επιλογή τυχαίου στοιχείου από λίστα. Εκτελέστε το πολλές φορές. Τι παρατηρείτε;\n",
    "L=[\"apple\", \"pear\", \"banana\"]\n",
    "random.choice(L)"
   ]
  },
  {
   "cell_type": "code",
   "execution_count": null,
   "id": "1a76d8b3-07b3-447a-bdf7-3991194be8c5",
   "metadata": {},
   "outputs": [],
   "source": [
    "# τυχαίος ακέραιο στο διάστημα range(6)\n",
    "random.randrange(6)"
   ]
  },
  {
   "cell_type": "code",
   "execution_count": null,
   "id": "3bd784cf-164e-4337-ba5e-8bf519de3a4b",
   "metadata": {},
   "outputs": [],
   "source": [
    "# τυχαίος float στο διάστημα 0 - 1\n",
    "random.random()\n"
   ]
  },
  {
   "cell_type": "markdown",
   "id": "4e8bd922-ef92-4b51-a664-7414c945040b",
   "metadata": {},
   "source": [
    "### Άσκηση:\n",
    "Στα επόμενα κελιά γράψτε τις κατάλληλες εντολές, κάτω από κάθε σχόλιο."
   ]
  },
  {
   "cell_type": "code",
   "execution_count": null,
   "id": "9c55be24-acdf-412b-bc0e-2d1d4caa478e",
   "metadata": {},
   "outputs": [],
   "source": [
    "# Μετατρέψτε σε ακέραιο το 5.3\n"
   ]
  },
  {
   "cell_type": "code",
   "execution_count": null,
   "id": "73c5556e-2a58-44a8-9f47-0d7da98b663b",
   "metadata": {},
   "outputs": [],
   "source": [
    "# Μετατρέψτε σε δεκαδικό το 5\n"
   ]
  },
  {
   "cell_type": "code",
   "execution_count": null,
   "id": "3400a1e0-1d65-4806-a27e-0a31b6e1c939",
   "metadata": {},
   "outputs": [],
   "source": [
    "# Βρείτε την απόλυτη τιμή του -127\n"
   ]
  },
  {
   "cell_type": "code",
   "execution_count": null,
   "id": "fae82b54-a0c2-4e5d-966b-8c3af6127377",
   "metadata": {},
   "outputs": [],
   "source": [
    "# Υπολογίστε τη δύναμη του 5 εις την 4η\n"
   ]
  },
  {
   "cell_type": "code",
   "execution_count": null,
   "id": "3d32ec0a-0f61-4a56-a893-6f38a3f20280",
   "metadata": {},
   "outputs": [],
   "source": [
    "# Υπολογίστε το πηλίκο και το υπόλοιπο της διαίρεσης του 25 με το 5\n"
   ]
  },
  {
   "cell_type": "code",
   "execution_count": null,
   "id": "ee6f5ba6-7a0d-43a2-9603-26a96f1cc818",
   "metadata": {},
   "outputs": [],
   "source": [
    "# Εμφανίστε με κεφαλαία γράμματα τη συμβολοσειρά s\n",
    "s = \"Hola! Que tal?\"\n"
   ]
  },
  {
   "cell_type": "code",
   "execution_count": null,
   "id": "fbd52bde-863d-4945-99f1-968b6175124e",
   "metadata": {},
   "outputs": [],
   "source": [
    "# Κάνετε import τη βιβλιοθήκη math\n",
    "# Υπολογίστε την τετραγωνική ρίζα του 100\n"
   ]
  }
 ],
 "metadata": {
  "kernelspec": {
   "display_name": "Python 3 (ipykernel)",
   "language": "python",
   "name": "python3"
  },
  "language_info": {
   "codemirror_mode": {
    "name": "ipython",
    "version": 3
   },
   "file_extension": ".py",
   "mimetype": "text/x-python",
   "name": "python",
   "nbconvert_exporter": "python",
   "pygments_lexer": "ipython3",
   "version": "3.12.1"
  }
 },
 "nbformat": 4,
 "nbformat_minor": 5
}
