{
 "cells": [
  {
   "cell_type": "markdown",
   "id": "f4395515-bf96-4cde-8963-05240f1c7883",
   "metadata": {},
   "source": [
    "# Βασικές Συναρτήσεις (ενσωματωμένες)"
   ]
  },
  {
   "cell_type": "markdown",
   "id": "a67f2be0-bb38-4436-a402-592eab8cafae",
   "metadata": {},
   "source": [
    "## Μετατροπή Δεδομένων\n",
    "\n",
    "Η Python παρέχει μια ποικιλία ενσωματωμένων συναρτήσεων οι οποίες\n",
    "μετατρέπουν τιμές από έναν τύπο σε έναν άλλο."
   ]
  },
  {
   "cell_type": "markdown",
   "id": "ea98be4a-8c3c-4345-8273-5a2346cc2629",
   "metadata": {},
   "source": [
    "### int\n",
    "\n",
    "Η συνάρτηση `int()` δέχεται οποιαδήποτε τιμή και τη μετατρέπει σε ακέραιο,\n",
    "κόβοντας τα δεκαδικά ψηφία, αν υπάρχουν."
   ]
  },
  {
   "cell_type": "code",
   "execution_count": null,
   "id": "d9a6104d-a866-495c-bc14-686184064f1c",
   "metadata": {},
   "outputs": [],
   "source": [
    "int(3.14)"
   ]
  },
  {
   "cell_type": "code",
   "execution_count": null,
   "id": "0d698c38-7535-485d-a78d-50e94240e4e9",
   "metadata": {},
   "outputs": [],
   "source": [
    "int(-4.5)"
   ]
  },
  {
   "cell_type": "code",
   "execution_count": null,
   "id": "bf7cb3c9-a8f1-456a-a826-f463eb5c37c3",
   "metadata": {},
   "outputs": [],
   "source": [
    "int(5.0)"
   ]
  },
  {
   "cell_type": "code",
   "execution_count": null,
   "id": "952fc328-736d-41a3-b53f-c16438c5a5bf",
   "metadata": {},
   "outputs": [],
   "source": [
    "int(5)"
   ]
  },
  {
   "cell_type": "code",
   "execution_count": null,
   "id": "af62bf60-e4f0-416a-818d-738f4ebedf1b",
   "metadata": {},
   "outputs": [],
   "source": [
    "int(\"100\")"
   ]
  },
  {
   "cell_type": "code",
   "execution_count": null,
   "id": "06cb7e26-3823-4dd1-89c0-7e81a33f6290",
   "metadata": {},
   "outputs": [],
   "source": [
    "int(\"5.5\")"
   ]
  },
  {
   "cell_type": "code",
   "execution_count": null,
   "id": "f1ad422c-1201-4ead-b1cf-3b4f70718569",
   "metadata": {},
   "outputs": [],
   "source": [
    "varos = 45.6\n",
    "int(varos)"
   ]
  },
  {
   "cell_type": "code",
   "execution_count": null,
   "id": "6d180ea9-99b8-40f5-a54b-d1170dd22454",
   "metadata": {},
   "outputs": [],
   "source": [
    "varos = \"45\"\n",
    "int(varos)"
   ]
  },
  {
   "cell_type": "markdown",
   "id": "85b07043-09fe-4e09-a724-1e511ab5dd26",
   "metadata": {},
   "source": [
    "### float\n",
    "\n",
    "Η συνάρτηση `float()` μετατρέπει ακεραίους και συμβολοσειρές σε δεκαδικούς\n",
    "αριθμούς."
   ]
  },
  {
   "cell_type": "code",
   "execution_count": null,
   "id": "7fc2279d-8834-481c-8f88-863b53bcd89e",
   "metadata": {},
   "outputs": [],
   "source": [
    "float(5)"
   ]
  },
  {
   "cell_type": "code",
   "execution_count": null,
   "id": "e07ddd2d-6552-47c8-b8e2-df887ea0af50",
   "metadata": {},
   "outputs": [],
   "source": [
    "float(3.14)"
   ]
  },
  {
   "cell_type": "code",
   "execution_count": null,
   "id": "f6c0670b-0395-4508-8a68-889505673211",
   "metadata": {},
   "outputs": [],
   "source": [
    "float(\"10\")"
   ]
  },
  {
   "cell_type": "code",
   "execution_count": null,
   "id": "e7c0a7b1-56b2-4cec-b0bc-1db7a394137a",
   "metadata": {},
   "outputs": [],
   "source": [
    "float(\"5.5\")"
   ]
  },
  {
   "cell_type": "code",
   "execution_count": null,
   "id": "4da1c178-8a91-42f2-8457-e600495c5a33",
   "metadata": {},
   "outputs": [],
   "source": [
    "varos = \"23.5\"\n",
    "float(varos)"
   ]
  },
  {
   "cell_type": "markdown",
   "id": "5b508047-0775-4b7d-a5db-8dd503873e8d",
   "metadata": {},
   "source": [
    "### abs\n",
    "\n",
    "Η συνάρτηση `abs()` επιστρέφει την απόλυτη τιμή ενός αριθμού."
   ]
  },
  {
   "cell_type": "code",
   "execution_count": null,
   "id": "99a992fb-e007-4462-a510-8a7cc34f8bdb",
   "metadata": {},
   "outputs": [],
   "source": [
    "abs(5)"
   ]
  },
  {
   "cell_type": "code",
   "execution_count": null,
   "id": "abf10fc4-4884-4dc5-9cb7-f4fe0541e74d",
   "metadata": {},
   "outputs": [],
   "source": [
    "abs(-5)"
   ]
  },
  {
   "cell_type": "markdown",
   "id": "6d12b43f-be0a-4d0a-9440-d9dd84d056a1",
   "metadata": {},
   "source": [
    "### pow\n",
    "\n",
    "Η `pow(a, b)` επιστρέφει τη δύναμη του `a` υψωμένη στο `b`."
   ]
  },
  {
   "cell_type": "code",
   "execution_count": null,
   "id": "136e2ddc-d370-4916-8f6e-9a39e914f089",
   "metadata": {},
   "outputs": [],
   "source": [
    "pow(2, 3)"
   ]
  },
  {
   "cell_type": "code",
   "execution_count": null,
   "id": "47f0be46-60a2-464c-b258-4a058154d20c",
   "metadata": {},
   "outputs": [],
   "source": [
    "print(2 ** 3)"
   ]
  },
  {
   "cell_type": "markdown",
   "id": "375c32f0-8154-4444-bbf8-f21e49847aa4",
   "metadata": {},
   "source": [
    "### divmod\n",
    "\n",
    "H `divmod(x,y)` επιστρέφει το πηλίκο και το υπόλοιπο της διαίρεσης `x/y`."
   ]
  },
  {
   "cell_type": "code",
   "execution_count": null,
   "id": "8ae0f2f6-d1ba-4b79-ba25-c043abe98ea3",
   "metadata": {},
   "outputs": [],
   "source": [
    "divmod(11, 3)"
   ]
  },
  {
   "cell_type": "code",
   "execution_count": null,
   "id": "c62c053a-a145-4513-b8f1-b85fbbeb97c4",
   "metadata": {},
   "outputs": [],
   "source": [
    "11 // 3"
   ]
  },
  {
   "cell_type": "code",
   "execution_count": null,
   "id": "9e882925-6a55-4e96-85a3-5aaec21cf788",
   "metadata": {},
   "outputs": [],
   "source": [
    "divmod(17, 4)"
   ]
  },
  {
   "cell_type": "code",
   "execution_count": null,
   "id": "eabab253-29fe-4b6f-9fa2-bdefc4bea602",
   "metadata": {},
   "outputs": [],
   "source": [
    "divmod(20, 5)"
   ]
  },
  {
   "cell_type": "markdown",
   "id": "70b889d2-104a-4c70-8a73-c31dd20fbcb5",
   "metadata": {},
   "source": [
    "## Εισαγωγή Δεδομένων\n",
    "\n",
    "Η συνάρτηση `input()` διαβάζει από το πληκτρολόγιο ό,τι γράψει ο χρήστης\n",
    "και το επιστρέφει στο πρόγραμμα. Μέσα στις παρενθέσεις μπορούμε να βάλουμε\n",
    "ένα μήνυμα που εμφανίζεται στον χρήστη. \n",
    "\n",
    "Για να μπορέσουμε να \"κρατήσουμε\" τα δεδομένα που έγραψε ο χρήστης θα πρέπει να\n",
    "τα εκχωρήσουμε σε κάποια μεταβλητή.\n",
    "\n",
    "Η δομή που χρησιμοποιούμε, λοιπόν, είναι:\n",
    "```python\n",
    "name = input(\"Πως σε λένε;\")\n",
    "```\n",
    "\n",
    "Ό,τι διαβάζει η `input()` μας το επιστρέφει ως συμβολοσειρά. Αν πρέπει να\n",
    "διαβάσουμε αριθμό, θα πρέπει να χρησιμοποιήσουμε μία από τις συναρτήσεις\n",
    "`int()` ή `float()` για να μετατρέψουμε την είσοδο στη μορφή που θέλουμε.\n",
    "\n",
    "```python\n",
    "days = int(input(\"Πόσες μέρες θα μείνετε;\"))\n",
    "ipsos = float(input(\"Τι ύψος έχετε;\"))\n",
    "```"
   ]
  },
  {
   "cell_type": "code",
   "execution_count": null,
   "id": "a8ed5132-fd56-461b-8904-814955f4a4a2",
   "metadata": {},
   "outputs": [],
   "source": [
    "name = input(\"Πως σε λένε;\")\n",
    "print(\"Γεια σου\", name)"
   ]
  },
  {
   "cell_type": "code",
   "execution_count": null,
   "id": "d2ce07ea-c826-48b6-82b7-2acac71cca44",
   "metadata": {},
   "outputs": [],
   "source": [
    "ipsos = float(input(\"Τι ύψος έχεις;\"))\n",
    "print(\"Έγραψες:\", ipsos)"
   ]
  },
  {
   "cell_type": "code",
   "execution_count": null,
   "id": "16a04b2c-5955-49c2-a39d-94660d02a6be",
   "metadata": {},
   "outputs": [],
   "source": [
    "year = int(input(\"Ποια χρονιά γεννήθηκες;\"))\n",
    "print(\"Ωραία χρονιά το\", year, \"!\")"
   ]
  },
  {
   "cell_type": "markdown",
   "id": "20ccf7a4-90a2-4049-b508-0715742d460c",
   "metadata": {},
   "source": [
    "# Αρθρώματα (βιβλιοθήκες συναρτήσεων)\n",
    "\n",
    "Η γλώσσα Python διαθέτει μια Μαθηματική μονάδα λογισμικού (math module) η\n",
    "οποία περιέχει τις περισσότερο γνωστές μαθηματικές συναρτήσεις. Μια μονάδα ή\n",
    "άρθρωμα λογισμικού (module) είναι ένα αρχείο το οποίο περιέχει μια συλλογή από\n",
    "σχετικές συναρτήσεις. Προτού χρησιμοποιήσουμε μια μονάδα, πρέπει να την εισάγουμε:\n",
    "```python\n",
    "import math\n",
    "```\n",
    "\n",
    "Για να έχουμε πρόσβαση σε μια από τις συναρτήσεις, θα πρέπει να προσδιορίσουμε\n",
    "το όνομα της μονάδας και το όνομα της συνάρτησης χωρισμένα με μία τελεία. Αυτή η\n",
    "μορφή ονομάζεται **συμβολισμός με τελεία** (dot notation)."
   ]
  },
  {
   "cell_type": "code",
   "execution_count": null,
   "id": "104bdcfa-1625-448a-8166-25633b937aff",
   "metadata": {},
   "outputs": [],
   "source": [
    "import math"
   ]
  },
  {
   "cell_type": "code",
   "execution_count": null,
   "id": "d1844311-594c-442d-bfe8-16df3d0a0947",
   "metadata": {},
   "outputs": [],
   "source": [
    "riza2 = math.sqrt(2)\n",
    "print(\"Η τετραγωνική ρίζα του 2 είναι:\", riza2)"
   ]
  },
  {
   "cell_type": "code",
   "execution_count": null,
   "id": "4ea0f783-60ed-41e0-95b6-4d19637e04d6",
   "metadata": {},
   "outputs": [],
   "source": [
    "riza3 = math.sqrt(3)\n",
    "print(\"Η τετραγωνική ρίζα του 3 είναι:\", riza3)"
   ]
  },
  {
   "cell_type": "code",
   "execution_count": null,
   "id": "3db0daa3-17a3-46ac-ad43-e0b63ca1e191",
   "metadata": {},
   "outputs": [],
   "source": [
    "pi = math.pi\n",
    "print(\"Ο αριθμός 'π' είναι ίσος με:\", pi)"
   ]
  },
  {
   "cell_type": "markdown",
   "id": "b7518161-df8a-481a-b1ae-c2bf45856baf",
   "metadata": {},
   "source": [
    "# Εξάσκηση"
   ]
  },
  {
   "cell_type": "code",
   "execution_count": null,
   "id": "af72caaf-3a9a-4313-b526-e67270cc4ead",
   "metadata": {},
   "outputs": [],
   "source": [
    "# Μετέτρεψε το 2.71 σε ακέραιο\n",
    "result = _\n",
    "assert result == 2, \"Λάθος μετατροπή\""
   ]
  },
  {
   "cell_type": "code",
   "execution_count": null,
   "id": "9f8fabbe-fcad-4a68-8414-4c09745c50dc",
   "metadata": {},
   "outputs": [],
   "source": [
    "# Μετέτρεψε το \"9.82\" σε δεκαδικό.\n",
    "result = _\n",
    "assert result == 9.82, \"Λάθος μετατροπή\""
   ]
  },
  {
   "cell_type": "code",
   "execution_count": null,
   "id": "2b594ea7-b91d-4130-aa5a-288b5e70c4a2",
   "metadata": {},
   "outputs": [],
   "source": [
    "# Υπολόγισε την απόλυτη τιμή του -3\n",
    "result = _\n",
    "assert result == 3, \"Λάθος μετατροπή\""
   ]
  },
  {
   "cell_type": "markdown",
   "id": "a82a400a-f80f-423f-8388-b64a9ffa0628",
   "metadata": {},
   "source": [
    "Υπολόγισε το $2^5$ χρησιμοποιώντας τη συνάρτηση `pow()` "
   ]
  },
  {
   "cell_type": "code",
   "execution_count": null,
   "id": "303de489-d9cb-45f4-9f3e-1de235e1e1fc",
   "metadata": {},
   "outputs": [],
   "source": [
    "result = _\n",
    "assert result == 2 ** 5, \"Λάθος υπολογισμός\""
   ]
  },
  {
   "cell_type": "code",
   "execution_count": null,
   "id": "a7a22be1-6871-4f56-8b8d-4ecbbdea4e77",
   "metadata": {},
   "outputs": [],
   "source": [
    "# Υπολόγισε το πηλίκο και το υπόλοιπο της διαίρεσης 19/5\n",
    "result = divmod(19, 5)\n",
    "assert result == (3, 4), \"Λάθος υπολογισμός\""
   ]
  },
  {
   "cell_type": "code",
   "execution_count": null,
   "id": "9ce76b31-337c-428f-95ab-9488b0239a4c",
   "metadata": {},
   "outputs": [],
   "source": [
    "# Υπολόγισε τη τετραγωνική ρίζα το 5\n",
    "result = _\n",
    "assert round(result) == 2.24"
   ]
  },
  {
   "cell_type": "code",
   "execution_count": null,
   "id": "1b1782ad-bd1a-4897-93b6-b9df46aa897d",
   "metadata": {},
   "outputs": [],
   "source": [
    "# Ζήτησε από τον χρήστη να σου γράψει την ηλικία του και εμφάνισέ την."
   ]
  },
  {
   "cell_type": "code",
   "execution_count": null,
   "id": "99ab8524-0402-4872-ba8e-d7f4ae519c01",
   "metadata": {},
   "outputs": [],
   "source": [
    "# Ζήτησε από τον χρήστη να σου γράψει την πόλη όπου μένει και εμφάνισέ την."
   ]
  },
  {
   "cell_type": "code",
   "execution_count": null,
   "id": "c98e54da-6a06-4720-8f69-adf841e6d7d2",
   "metadata": {},
   "outputs": [],
   "source": [
    "# Ζήτησε από τον χρήστη να σου γράψει το βάρος του και εμφάνισέ το."
   ]
  }
 ],
 "metadata": {
  "kernelspec": {
   "display_name": "Python 3 (ipykernel)",
   "language": "python",
   "name": "python3"
  },
  "language_info": {
   "codemirror_mode": {
    "name": "ipython",
    "version": 3
   },
   "file_extension": ".py",
   "mimetype": "text/x-python",
   "name": "python",
   "nbconvert_exporter": "python",
   "pygments_lexer": "ipython3",
   "version": "3.10.15"
  }
 },
 "nbformat": 4,
 "nbformat_minor": 5
}
