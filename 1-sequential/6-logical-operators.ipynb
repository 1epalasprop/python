{
 "cells": [
  {
   "cell_type": "markdown",
   "id": "2133148d-9fed-4692-9594-d37cdf5d9c99",
   "metadata": {},
   "source": [
    "# Λογικοί Τελεστές\n",
    "\n",
    "Στην Python, και γενικά στις γλώσσες προγραμματισμού, υπάρχουν τρεις βασικοί\n",
    "τελεστές για πράξεις μεταξύ λογικών τύπων (δηλαδή, `True` και `False`.). Αυτή\n",
    "τη φορά οι τελεστές δεν είναι σύμβολα, αλλά είναι λέξεις. Στο παρακάτω πίνακα\n",
    "εμφανίζονται οι τελεστές με τη σειρά προτεραιότητάς τους:\n",
    "\n",
    "|  Προτεραιότητα  |  Τελεστής  |  Ερμηνεία  |\n",
    "|:---------------:|:----------:|:----------:|\n",
    "| 1               | not        | ΟΧΙ        |\n",
    "| 2               | and        | ΚΑΙ        |\n",
    "| 3               | or         | Ή          |\n",
    "\n"
   ]
  },
  {
   "cell_type": "markdown",
   "id": "94449d6b-aadc-4d73-a34d-9228cedc5690",
   "metadata": {},
   "source": [
    "## Τελεστής **ΟΧΙ (NOT)**\n",
    "\n",
    "**Ο τελεστής ΟΧΙ (not) αλλάζει την αλήθεια της αρχικής πρότασης.**\n",
    "\n",
    "**Για παράδειγμα, η πρόταση:** \"Δεν βρέχει έξω.\"\n",
    "- Εξήγηση: Αν η πρόταση \"Βρέχει έξω\" είναι αληθής, τότε η πρόταση \"Δεν βρέχει έξω\" είναι ψευδής."
   ]
  },
  {
   "cell_type": "code",
   "execution_count": 1,
   "id": "fce9ef6d-b782-4d1a-9f2c-477e75ad3a2e",
   "metadata": {},
   "outputs": [
    {
     "data": {
      "text/plain": [
       "False"
      ]
     },
     "execution_count": 1,
     "metadata": {},
     "output_type": "execute_result"
    }
   ],
   "source": [
    "vrexei_exw = True  # Βρέχει έξω\n",
    "not vrexei_exw  # Η πρόταση \"Δεν βρέχει έξω\" είναι:"
   ]
  },
  {
   "cell_type": "markdown",
   "id": "5a136cfe-1432-4d76-94a5-9336f422a22b",
   "metadata": {},
   "source": [
    "## Τελεστής **ΚΑΙ (AND)**\n",
    "\n",
    "**Ο τελεστής ΚΑΙ (and) συνδέει _δύο_ προτάσεις και γίνεται Αληθής όταν _και_\n",
    "οι _δύο_ προτάσεις είναι Αληθής. Σε διαφορετική περίπτωση, είναι Ψευδής.**\n",
    "\n",
    "**Για παράδειγμα, η πρόταση:** \"Πρέπει να διαβάσεις τα μαθήματά σου **και** να τακτοποιήσεις το δωμάτιό σου.\"\n",
    "- Εξήγηση: Για να είναι αληθής η πρόταση, πρέπει και οι δύο ενέργειες να πραγματοποιηθούν. Αν διαβάσεις τα μαθήματά σου αλλά δεν τακτοποιήσεις το δωμάτιό σου, η πρόταση θα είναι ψευδής."
   ]
  },
  {
   "cell_type": "code",
   "execution_count": 2,
   "id": "7f0a5504-af0c-423c-9c17-685f27991632",
   "metadata": {},
   "outputs": [
    {
     "data": {
      "text/plain": [
       "True"
      ]
     },
     "execution_count": 2,
     "metadata": {},
     "output_type": "execute_result"
    }
   ],
   "source": [
    "diavases_mathimata = True\n",
    "taktopoihses_dwmatio = True\n",
    "diavases_mathimata and taktopoihses_dwmatio"
   ]
  },
  {
   "cell_type": "code",
   "execution_count": 3,
   "id": "3d2591da-8b42-4b4d-85c8-898fc0fe11cc",
   "metadata": {},
   "outputs": [
    {
     "data": {
      "text/plain": [
       "False"
      ]
     },
     "execution_count": 3,
     "metadata": {},
     "output_type": "execute_result"
    }
   ],
   "source": [
    "diavases_mathimata = True\n",
    "taktopoihses_dwmatio = False\n",
    "diavases_mathimata and taktopoihses_dwmatio"
   ]
  },
  {
   "cell_type": "markdown",
   "id": "568fe9b8-7bc3-4daa-b489-26202919a199",
   "metadata": {},
   "source": [
    "## Τελεστής **Ή (OR)**\n",
    "\n",
    "**Ο τελεστής Ή (or) συνδέει _δύο_ προτάσεις και γίνεται Αληθής όταν τουλάχιστον\n",
    "_μία_ από τις προτάσεις είναι Αληθής. Γίνεται Ψευδής όταν _και οι δύο__ είναι\n",
    "Ψευδής**\n",
    "\n",
    "**Για παράδειγμα, η πρόταση:** \"Μπορείς να πας βόλτα **ή** να παίξεις με τον υπολογιστή.\"\n",
    "- Εξήγηση: Η πρόταση είναι αληθής αν κάνεις είτε το ένα είτε το άλλο, ή και τα δύο. Αρκεί να πραγματοποιηθεί τουλάχιστον μία από τις δύο επιλογές."
   ]
  },
  {
   "cell_type": "code",
   "execution_count": 4,
   "id": "5b443124-721b-48b6-afd5-c820c29d9122",
   "metadata": {},
   "outputs": [
    {
     "data": {
      "text/plain": [
       "True"
      ]
     },
     "execution_count": 4,
     "metadata": {},
     "output_type": "execute_result"
    }
   ],
   "source": [
    "tha_pas_volta = True\n",
    "tha_pexeis_me_to_pc = False\n",
    "tha_pas_volta or tha_pexeis_me_to_pc"
   ]
  },
  {
   "cell_type": "code",
   "execution_count": 5,
   "id": "27325249-0c0d-476e-bef7-523a9b4bd63e",
   "metadata": {},
   "outputs": [
    {
     "data": {
      "text/plain": [
       "False"
      ]
     },
     "execution_count": 5,
     "metadata": {},
     "output_type": "execute_result"
    }
   ],
   "source": [
    "tha_pas_volta = False\n",
    "tha_pexeis_me_to_pc = False\n",
    "tha_pas_volta or tha_pexeis_me_to_pc"
   ]
  },
  {
   "cell_type": "markdown",
   "id": "5c876d9e-72ec-4c79-b2e0-636e7937f419",
   "metadata": {},
   "source": [
    "## Συνδυασμένο Παράδειγμα\n",
    "**Πρόταση:** \"Αν δεν βρέχει έξω **και** έχει ήλιο, μπορούμε να πάμε για πικνίκ.\"\n",
    "- Εξήγηση: Για να είναι αληθής αυτή η πρόταση, πρέπει να είναι αληθές το\n",
    "  \"Δεν βρέχει\" **και** να είναι αληθές το \"Έχει ήλιο.\" Αν μία από τις δύο\n",
    "  συνθήκες είναι ψευδής, δεν μπορούμε να πάμε για πικνίκ."
   ]
  },
  {
   "cell_type": "code",
   "execution_count": 6,
   "id": "860ae7ad-8dde-493d-b546-ddd3bf2dded2",
   "metadata": {},
   "outputs": [
    {
     "name": "stdout",
     "output_type": "stream",
     "text": [
      "Μπορούμε να πάμε για πικνικ; True\n"
     ]
    }
   ],
   "source": [
    "vrexei_exw = False\n",
    "exei_hlio = True\n",
    "print(\"Μπορούμε να πάμε για πικνικ;\", not vrexei_exw and exei_hlio)"
   ]
  },
  {
   "cell_type": "markdown",
   "id": "683d8ce1-e844-45bf-b08b-2e0281356445",
   "metadata": {},
   "source": [
    "# Πίνακας Αληθείας\n",
    "\n",
    "Στον παρακάτω πίνακα δίνονται όλοι οι συνδυασμοί των τελεστών. Αυτός ο πίνακας\n",
    "ονομάζεται _\"πίνακας αληθείας\"_.\n",
    "\n",
    "| P     | Q     | P and Q | P or Q | not P |\n",
    "|:-----:|:-----:|:-------:|:------:|:-----:|\n",
    "| True  | True  | True    | True   | False |\n",
    "| True  | False | False   | True   | False |\n",
    "| False | True  | False   | True   | True  |\n",
    "| False | False | False   | False  | True  |\n",
    "\n",
    "Ο πίνακας διαβάζεται γραμμή-γραμμή. Οι δύο πρώτες στήλες έχουν δύο μεταβλητές,\n",
    "τις `P` και `Q`. Στις υπόλοιπες φαίνονται οι συνδυασμοί τους για τους τρεις \n",
    "λογικούς τελεστές. Έτσι, για παράδειγμα, στην **2η γραμμή** βλέπουμε:\n",
    "\n",
    "* η μεταβλητή `P` έχει τιμή `True`\n",
    "* η μεταβλητή `Q` έχει τιμή `False`\n",
    "* η έκφραση `P and Q` δίνει `False` γιατί η `Q` είναι `False`\n",
    "* η έκφραση `P or Q` δίνει `True` γιατί η `P` είναι `True`\n",
    "* η έκφραση `not P` δίνει `False` γιατί η `P` είναι `True`"
   ]
  },
  {
   "cell_type": "markdown",
   "id": "b82b3f6d-99a2-41f0-80a6-6a9d2047f90e",
   "metadata": {},
   "source": [
    "# Παραδείγματα: Λογικές εκφράσεις με τελεστές λογικών πράξεων\n",
    "\n",
    "Στα παρακάτω κελιά γράψτε τις εκφράσεις που ζητούνται. Το αποτέλεσμα θα\n",
    "το εκχωρήτε στη μεταβλητή `result`, όπως παρακάτω:\n",
    "\n",
    "```python\n",
    "# 12 μικρότερο από το 11 και 23 μεγαλύτερο από το 10\n",
    "result = 12 < 11 and 23 > 10\n",
    "assert result == False\n",
    "```"
   ]
  },
  {
   "cell_type": "code",
   "execution_count": null,
   "id": "1062d41b-facd-498d-87c7-18a23c3657d2",
   "metadata": {},
   "outputs": [],
   "source": [
    "# 10 μεγαλύτερο από το 20 ή 10 μεγαλύτερο από το 5\n",
    "result = _\n",
    "assert result == True, \"Το αποτέλεσμα πρέπει να είναι True\""
   ]
  },
  {
   "cell_type": "code",
   "execution_count": null,
   "id": "3d4b8340-688c-4fbf-a7cc-ffd981ef8725",
   "metadata": {},
   "outputs": [],
   "source": [
    "# Όχι 56 μικρότερο ή ίση από το 12\n",
    "result = _\n",
    "assert result == True, \"Το αποτέλεσμα πρέπει να είναι True\""
   ]
  },
  {
   "cell_type": "code",
   "execution_count": 12,
   "id": "1545a273-3445-4ba7-9cd6-86a80f764a7c",
   "metadata": {},
   "outputs": [],
   "source": [
    "a = 4\n",
    "# Το a είναι μεγαλύτερο από το 0 ή το a είναι μικρότερο από το 10\n",
    "result = _\n",
    "assert result == True, \"Το αποτέλεσμα πρέπει να είναι True\""
   ]
  },
  {
   "cell_type": "code",
   "execution_count": 8,
   "id": "36102710-ca82-4051-86eb-5a50d89af007",
   "metadata": {},
   "outputs": [
    {
     "ename": "AssertionError",
     "evalue": "Το αποτέλεσμα πρέπει να είναι True",
     "output_type": "error",
     "traceback": [
      "\u001b[0;31m---------------------------------------------------------------------------\u001b[0m",
      "\u001b[0;31mAssertionError\u001b[0m                            Traceback (most recent call last)",
      "Cell \u001b[0;32mIn[8], line 4\u001b[0m\n\u001b[1;32m      2\u001b[0m \u001b[38;5;66;03m# Η apantisi είναι ίση με YES ή η apantisi είναι ίση με NO\u001b[39;00m\n\u001b[1;32m      3\u001b[0m result \u001b[38;5;241m=\u001b[39m _\n\u001b[0;32m----> 4\u001b[0m \u001b[38;5;28;01massert\u001b[39;00m result \u001b[38;5;241m==\u001b[39m \u001b[38;5;28;01mTrue\u001b[39;00m, \u001b[38;5;124m\"\u001b[39m\u001b[38;5;124mΤο αποτέλεσμα πρέπει να είναι True\u001b[39m\u001b[38;5;124m\"\u001b[39m\n",
      "\u001b[0;31mAssertionError\u001b[0m: Το αποτέλεσμα πρέπει να είναι True"
     ]
    }
   ],
   "source": [
    "apantisi = \"YES\"\n",
    "# Η apantisi είναι ίση με YES ή η apantisi είναι ίση με NO\n",
    "result = _\n",
    "assert result == True, \"Το αποτέλεσμα πρέπει να είναι True\""
   ]
  },
  {
   "cell_type": "markdown",
   "id": "d857fb8a-c458-4733-86e3-0368aa4020cd",
   "metadata": {},
   "source": [
    "# Εξάσκηση"
   ]
  },
  {
   "cell_type": "code",
   "execution_count": null,
   "id": "d70af960-e340-4d4a-84ea-3101cf4a2c02",
   "metadata": {},
   "outputs": [],
   "source": [
    "vathmos = 12\n",
    "# Ο βαθμός είναι μεγαλύτερος από το 0 και μικρότερος ή ίσος με το 20.\n",
    "result = _\n",
    "assert result == True, \"Το αποτέλεσμα πρέπει να είναι True\""
   ]
  },
  {
   "cell_type": "code",
   "execution_count": null,
   "id": "7a92e92c-a5c4-46e7-afbf-b0538d7ba120",
   "metadata": {},
   "outputs": [],
   "source": [
    "filo = \"GIRL\"\n",
    "# Το filo είναι ίσο με BOY ή είναι ίσο GIRL\n",
    "result = _\n",
    "assert result == True, \"Το αποτέλεσμα πρέπει να είναι True\""
   ]
  },
  {
   "cell_type": "code",
   "execution_count": null,
   "id": "a3db7783-b354-4a0f-86bf-035295de6927",
   "metadata": {},
   "outputs": [],
   "source": [
    "guess = 8\n",
    "# Η guess είναι μεγαλύτερη από 5 και διαφορετική από το 8\n",
    "result = _\n",
    "assert result == False, \"Το αποτέλεσμα πρέπει να είναι False\""
   ]
  },
  {
   "cell_type": "code",
   "execution_count": 9,
   "id": "8cbb3ee9-284c-4cc0-8de7-f1578b6d0a11",
   "metadata": {},
   "outputs": [],
   "source": [
    "x = 5\n",
    "# To x δεν είναι διαφορετικό από το 5.\n",
    "result = _\n",
    "assert result == True, \"Το αποτέλεσμα πρέπει να είναι True\""
   ]
  },
  {
   "cell_type": "code",
   "execution_count": null,
   "id": "cec60eda-cd9a-436d-8c27-f7bd0cbb5c57",
   "metadata": {},
   "outputs": [],
   "source": [
    "varos = 80\n",
    "ipsos = 2\n",
    "# Το varos είναι μεγαλύτερο ή ίσο με το 80 και το ipsos μεγαλύτερο ή ίσο από το 2.5\n",
    "result = _\n",
    "assert result == False, \"Το αποτέλεσμα πρέπει να είναι False\""
   ]
  },
  {
   "cell_type": "code",
   "execution_count": null,
   "id": "b66b06d2-d390-4121-9651-69f36c345c6a",
   "metadata": {},
   "outputs": [],
   "source": [
    "# Το varos είναι μεγαλύτερο ή ίσο με το 80 ή το ipsos μεγαλύτερο ή ίσο από το 2.5\n",
    "result = _\n",
    "assert result == True, \"Το αποτέλεσμα πρέπει να είναι True\""
   ]
  },
  {
   "cell_type": "code",
   "execution_count": null,
   "id": "1836ce6a-2368-4638-93f8-5d911ed2d700",
   "metadata": {},
   "outputs": [],
   "source": [
    "# To varos είναι διάφορο του 70 και το ipsos διάφορο το 2\n",
    "result = _\n",
    "assert result == False, \"Το αποτέλεσμα πρέπει να είναι False\""
   ]
  },
  {
   "cell_type": "code",
   "execution_count": null,
   "id": "41e1fa97-d113-4686-9f14-ba5f89a71997",
   "metadata": {},
   "outputs": [],
   "source": [
    "# To varos είναι ίσο με το 80 και το ipsos δεν είναι διάφορο από το 2"
   ]
  }
 ],
 "metadata": {
  "kernelspec": {
   "display_name": "Python 3 (ipykernel)",
   "language": "python",
   "name": "python3"
  },
  "language_info": {
   "codemirror_mode": {
    "name": "ipython",
    "version": 3
   },
   "file_extension": ".py",
   "mimetype": "text/x-python",
   "name": "python",
   "nbconvert_exporter": "python",
   "pygments_lexer": "ipython3",
   "version": "3.10.15"
  }
 },
 "nbformat": 4,
 "nbformat_minor": 5
}
