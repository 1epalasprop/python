{
 "cells": [
  {
   "cell_type": "markdown",
   "id": "273960aa-a6db-437e-af62-69574a9ca985",
   "metadata": {},
   "source": [
    "# Συγκριτικοί ή Σχεσιακοί Τελεστές\n",
    "\n",
    "Η συγκριτικοί (ή σχεσιακοί) τελεστές είναι τα σύμβολα που χρησιμοποιούμε για να\n",
    "συγκρίνουμε δύο τιμές ή μεταβλητές, με το αποτέλεσμα της σύγκρισης να είναι\n",
    "**πάντα** `True` ή `False`.\n",
    "\n",
    "Στη γλώσσα Python χρησιμοποιούμε τους παρακάτω συγκριτικούς τελεστές:\n",
    "\n",
    "|  Τελεστής  | Ερμηνεία                 |\n",
    "|:----------:|--------------------------|\n",
    "| <          | Μικρότερο από            |\n",
    "| <=         | Μικρότερο **ή ίσο** από  |\n",
    "| >          | Μεγαλύτερο από           |\n",
    "| >=         | Μεγαλύτερο **ή ίσο** από |\n",
    "| ==         | Ίσο                      |\n",
    "| !=         | Διάφορο                  |\n",
    "\n"
   ]
  },
  {
   "cell_type": "markdown",
   "id": "5366b4ae-49b1-416d-8917-90504fdae972",
   "metadata": {},
   "source": [
    "# Παραδείγματα "
   ]
  },
  {
   "cell_type": "code",
   "execution_count": null,
   "id": "b4699f6a-c811-46c9-88d3-397ccf67d898",
   "metadata": {},
   "outputs": [],
   "source": [
    "tries = 3  # Προσπάθειες"
   ]
  },
  {
   "cell_type": "markdown",
   "id": "b32aa2d1-e17c-47b7-abf0-10c37d39c767",
   "metadata": {},
   "source": [
    "Στα παρακάτω κελιά τα αποτελέσματα των συγκρίσεων της μεταβλητής `tries` θα\n",
    "το δίνουμε σε μια νέα μεταβλητή. _Προσέξτε_ ότι **πάντα** υπολογίζει το δεξί\n",
    "μέρος της εκχώρησης (=) και μετά το αποτέλεσμα δίνεται στην μεταβλητή αριστερά\n",
    "της εκχώρησης."
   ]
  },
  {
   "cell_type": "code",
   "execution_count": null,
   "id": "1c8cc74a-2530-4157-a78c-410488d46385",
   "metadata": {},
   "outputs": [],
   "source": [
    "less_than_3 = tries < 3  # Λιγότερες από 3;\n",
    "print(less_than_three)"
   ]
  },
  {
   "cell_type": "code",
   "execution_count": null,
   "id": "05421b2d-e7f5-4105-8979-890a5acc2f9d",
   "metadata": {},
   "outputs": [],
   "source": [
    "less_or_equal_than_3 = tries <= 3  # Λιγότερες ή ίσες από 3;\n",
    "print(less_or_equal_than_3)"
   ]
  },
  {
   "cell_type": "code",
   "execution_count": null,
   "id": "25ddd1d9-10ca-454a-a7f4-05ca2ab67255",
   "metadata": {},
   "outputs": [],
   "source": [
    "greater_than_3 = tries > 3  # Περισσότερες από 3;\n",
    "print(greater_than_3)"
   ]
  },
  {
   "cell_type": "code",
   "execution_count": null,
   "id": "b73e19be-98ae-467e-b894-2e3a4c7bf402",
   "metadata": {},
   "outputs": [],
   "source": [
    "greater_or_equal_than_3 = tries >= 3  # Περισσότερες ή ίσες με 3;\n",
    "print(greater_or_equal_than_3)"
   ]
  },
  {
   "cell_type": "code",
   "execution_count": null,
   "id": "56a10048-e7d0-48b3-b592-14a96288453b",
   "metadata": {},
   "outputs": [],
   "source": [
    "equal_to_3 = tries == 3  # Ίσες με 3;\n",
    "print(equal_to_3)"
   ]
  },
  {
   "cell_type": "code",
   "execution_count": null,
   "id": "0f3ba370-acdf-4fba-a447-65f42901d7ef",
   "metadata": {},
   "outputs": [],
   "source": [
    "different_than_3 = tries != 3  # Διαφορετικό από 3;\n",
    "print(different_than_3)"
   ]
  },
  {
   "cell_type": "markdown",
   "id": "cb703d70-b04f-4bb5-a15a-f340ad4c6bd4",
   "metadata": {},
   "source": [
    "# Εξάσκηση\n"
   ]
  },
  {
   "cell_type": "code",
   "execution_count": null,
   "id": "480abc82-f21c-4762-81e8-f4d7329a2788",
   "metadata": {},
   "outputs": [],
   "source": [
    "#  Ορίστε μια μεταβλητή με όνομα weight και αρχική τιμή 80\n"
   ]
  },
  {
   "cell_type": "code",
   "execution_count": null,
   "id": "9683c1c1-a94d-4114-8b1e-9654dfdfece8",
   "metadata": {},
   "outputs": [],
   "source": [
    "# Σύγκρινε αν η weight είναι μικρότερη από το 80\n"
   ]
  },
  {
   "cell_type": "code",
   "execution_count": null,
   "id": "bf003e0f-4530-4db4-afb5-9aecc691be68",
   "metadata": {},
   "outputs": [],
   "source": [
    "# Σύγκρινε αν η weight είναι μικρότερη ή ίση από το 80\n"
   ]
  },
  {
   "cell_type": "code",
   "execution_count": null,
   "id": "f11799f2-4ad2-42a4-8bf4-2fd1f0b75430",
   "metadata": {},
   "outputs": [],
   "source": [
    "# Σύγκρινε αν η weight είναι μεγαλύτερη από το 80\n"
   ]
  },
  {
   "cell_type": "code",
   "execution_count": null,
   "id": "4a3c7b2c-d2fd-4da2-9013-21a5874f6d37",
   "metadata": {},
   "outputs": [],
   "source": [
    "# Σύγκρινε αν η weight είναι μεγαλύτερη ή ίση από το 80\n"
   ]
  },
  {
   "cell_type": "code",
   "execution_count": null,
   "id": "19321b68-672c-4acf-8673-c0c99095d0be",
   "metadata": {},
   "outputs": [],
   "source": [
    "# Σύγκρινε αν η weight είναι ίση με το 80\n"
   ]
  },
  {
   "cell_type": "code",
   "execution_count": null,
   "id": "0597411f-a5fa-48d7-938b-4ee4c4c1ee83",
   "metadata": {},
   "outputs": [],
   "source": [
    "# Σύγκρινε αν η weight είναι διαφορετική από το 80\n"
   ]
  },
  {
   "cell_type": "markdown",
   "id": "0ea26311-9f87-46fa-a6f0-134572566a76",
   "metadata": {},
   "source": [
    "Στις παρακάτω ασκήσεις θα πρέπει να γράψεις μία σύγκριση που σου ζητείται.\n",
    "Το αποτέλεσμα θα εκχωρείται στην μεταβλητή `result`. Αν δεν εμφανιστεί λάθος,\n",
    "τότε έχεις κάνει τη σύγκριση σωστά. Για παράδειγμα:\n",
    "\n",
    "```python\n",
    "# 23 ίσο με 23;\n",
    "result = _  # Στην κάτω παύλα γράφεις τη σύγκριση\n",
    "assert result == True  # Αυτή τη γραμμή δεν την πειράζεις.\n",
    "```\n",
    "\n",
    "Άρα περιμένω να γράψεις:"
   ]
  },
  {
   "cell_type": "code",
   "execution_count": null,
   "id": "775d5d13-4bdf-449d-8428-9de340add51d",
   "metadata": {},
   "outputs": [],
   "source": [
    "# 23 ίσο με 23;\n",
    "result = 23 == 23  # Στην κάτω παύλα γράφεις: 23 == 23\n",
    "assert result == True, \"Το αποτέλεσμα πρέπει να είναι True\""
   ]
  },
  {
   "cell_type": "markdown",
   "id": "cedbf8d1-acd2-4d00-8488-935524adf6db",
   "metadata": {},
   "source": [
    "Αν έχεις κάνει λάθος την σύγκριση τότε θα πάρεις ένα σφάλμα όπως το παρακάτω:"
   ]
  },
  {
   "cell_type": "code",
   "execution_count": null,
   "id": "9d4727ae-6c23-4190-9d44-3ad11b71bc09",
   "metadata": {},
   "outputs": [],
   "source": [
    "# 23 ίσο με 23;\n",
    "result = 23 != 23  # Στις τρεις τελείες γράφεις: 23 == 23\n",
    "assert result == True, \"Το αποτέλεσμα πρέπει να είναι True\""
   ]
  },
  {
   "cell_type": "code",
   "execution_count": null,
   "id": "81ff59d7-c205-4fb1-9068-b06295e014e7",
   "metadata": {},
   "outputs": [],
   "source": [
    "# 34 διαφορετικό από το 45\n",
    "result = _  # Γράψε εδώ τη σύγκριση\n",
    "assert result == True, \"Το αποτέλεσμα πρέπει να είναι True\""
   ]
  },
  {
   "cell_type": "code",
   "execution_count": null,
   "id": "eeffd6b4-6ffb-4d2a-91fc-3ac6d774b819",
   "metadata": {},
   "outputs": [],
   "source": [
    "# 56 μικρότερο ή ίσο με το 12\n",
    "result = _\n",
    "assert result == False, \"Το αποτέλεσμα πρέπει να είναι False\""
   ]
  },
  {
   "cell_type": "code",
   "execution_count": null,
   "id": "b6c3cdf8-054b-47d2-9830-9dc5363caaf9",
   "metadata": {},
   "outputs": [],
   "source": [
    "# 80 μικρότερο από το 80\n",
    "result = _\n",
    "assert result == False, \"Το αποτέλεσμα πρέπει να είναι False\""
   ]
  },
  {
   "cell_type": "code",
   "execution_count": null,
   "id": "9d74bb6b-b6c2-426c-9559-a4211986b0c5",
   "metadata": {},
   "outputs": [],
   "source": [
    "# 80 μεγαλύτερο ή ίσο με το 80\n",
    "result = _\n",
    "assert result == True, \"Το αποτέλεσμα πρέπει να είναι True\""
   ]
  },
  {
   "cell_type": "code",
   "execution_count": null,
   "id": "5a247e0f-3432-40d7-80ef-4d4cc467384e",
   "metadata": {},
   "outputs": [],
   "source": [
    "# 50 μεγαλύτερο από το 100\n",
    "result = _\n",
    "assert result == False, \"Το αποτέλεσμα πρέπει να είναι False\""
   ]
  }
 ],
 "metadata": {
  "kernelspec": {
   "display_name": "Python 3 (ipykernel)",
   "language": "python",
   "name": "python3"
  },
  "language_info": {
   "codemirror_mode": {
    "name": "ipython",
    "version": 3
   },
   "file_extension": ".py",
   "mimetype": "text/x-python",
   "name": "python",
   "nbconvert_exporter": "python",
   "pygments_lexer": "ipython3",
   "version": "3.10.15"
  }
 },
 "nbformat": 4,
 "nbformat_minor": 5
}
