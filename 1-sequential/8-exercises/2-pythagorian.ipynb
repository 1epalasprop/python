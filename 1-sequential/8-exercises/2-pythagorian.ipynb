{
 "cells": [
  {
   "attachments": {},
   "cell_type": "markdown",
   "id": "c393f72d-3cac-4ecb-9ad5-e68c29412561",
   "metadata": {},
   "source": [
    "## Πυθαγόρειο θεώρημα\n",
    "\n",
    "<table><thead>\n",
    "  <tr>\n",
    "    <th colspan=\"2\"><img src=\"../images/pythagorean_theorem.png\"></th>\n",
    "  </tr></thead>\n",
    "<tbody>\n",
    "  <tr>\n",
    "    <td>a, b</td>\n",
    "    <td>κάθετος</td>\n",
    "  </tr>\n",
    "  <tr>\n",
    "    <td>c</td>\n",
    "    <td>υποτείνουσα</td>\n",
    "  </tr>\n",
    "  <tr>\n",
    "    <td>E</td>\n",
    "    <td>εμβαδόν</td>\n",
    "  </tr>\n",
    "</tbody>\n",
    "</table>\n",
    "\n",
    "Το Πυθαγόρειο θεώρημα μας λέει ότι _«Το τετράγωνο της υποτείνουσας ενός ορθογώνιου τριγώνου ισούται με το άθροισμα των τετραγώνων των δύο κάθετων πλευρών.»_\n",
    "Δηλαδή, $c^2 = a^2 + b^2$\n",
    "\n",
    "Γράψτε πρόγραμμα σε Python το οποίο:\n",
    "1. Διαβάζει δύο *ακέραιες* μεταβλητές: `a` και `b`\n",
    "2. Υπολογίζει την υποτείνουσα με τον τύπο: $c = \\sqrt{a^2 + b^2}$\n",
    "3. Υπολογίζει τα εμβαδά $E_1 = a^2$, $E_2=b^2$ και $E_3=c^2$\n",
    "4. Εμφανίζει τις τιμές των μεταβλητών `c`, `E1`, `E2`, `E3` και της πράξης `E1 + E2`."
   ]
  },
  {
   "cell_type": "markdown",
   "id": "8ee707a4-6524-4ecc-ad0e-210853c351f1",
   "metadata": {},
   "source": [
    "# Λύση\n",
    "\n",
    "## 1. Διαβάζει δύο ακέραιες μεταβλητές a και b"
   ]
  },
  {
   "cell_type": "code",
   "execution_count": 2,
   "id": "cde1f5f5-e33e-44d6-9b18-f764271083c0",
   "metadata": {},
   "outputs": [
    {
     "name": "stdin",
     "output_type": "stream",
     "text": [
      "Δώσε τιμή για την πλευρά a: 4\n",
      "Δώσε τιμή για την πλευρά b: 5\n"
     ]
    }
   ],
   "source": [
    "a = int(input(\"Δώσε τιμή για την πλευρά a:\"))\n",
    "b = int(input(\"Δώσε τιμή για την πλευρά b:\"))"
   ]
  },
  {
   "cell_type": "markdown",
   "id": "64ae10ea-db3e-4f4f-9ab5-1c0abc750f88",
   "metadata": {},
   "source": [
    "## 2. Υπολογίζει την υποτείνουσα με τον τύπο: $c = \\sqrt{a^2 + b^2}$"
   ]
  },
  {
   "cell_type": "code",
   "execution_count": 3,
   "id": "d0f9095c-333a-44a3-b1e3-c4ee7548562e",
   "metadata": {},
   "outputs": [],
   "source": [
    "import math\n",
    "\n",
    "c = math.sqrt(a ** 2 + b ** 2)"
   ]
  },
  {
   "cell_type": "markdown",
   "id": "8d9f27e2-71ab-4c5a-8e66-211f7cff43be",
   "metadata": {},
   "source": [
    "## 3. Υπολογίζει τα εμβαδά $E_1 = a^2$, $E_2=b^2$ και $E_3=c^2$"
   ]
  },
  {
   "cell_type": "code",
   "execution_count": 4,
   "id": "7ab479af-1801-4709-b96d-06f73314df62",
   "metadata": {},
   "outputs": [],
   "source": [
    "E1 = a ** 2\n",
    "E2 = b ** 2\n",
    "E3 = c ** 2"
   ]
  },
  {
   "cell_type": "markdown",
   "id": "d3cbfa2e-cbf1-4536-980d-6545bbca448f",
   "metadata": {},
   "source": [
    "## 4. Εμφανίζει τις τιμές των μεταβλητών `c`, `E1`, `E2`, `E3` και της πράξης `E1 + E2`."
   ]
  },
  {
   "cell_type": "code",
   "execution_count": 5,
   "id": "91265497-86d4-4893-8cc1-edb89f01010d",
   "metadata": {},
   "outputs": [
    {
     "name": "stdout",
     "output_type": "stream",
     "text": [
      "c: 6.4031242374328485\n",
      "E1: 16\n",
      "E2: 25\n",
      "E3: 41.0\n",
      "E1 + E2: 41\n"
     ]
    }
   ],
   "source": [
    "print(\"c:\", c)\n",
    "print(\"E1:\", E1)\n",
    "print(\"E2:\", E2)\n",
    "print(\"E3:\", E3)\n",
    "print(\"E1 + E2:\", E1 + E2)"
   ]
  },
  {
   "cell_type": "code",
   "execution_count": null,
   "id": "31dd5594-b6b4-4672-becf-5ecd2d7d87ac",
   "metadata": {},
   "outputs": [],
   "source": []
  }
 ],
 "metadata": {
  "kernelspec": {
   "display_name": "Python 3 (ipykernel)",
   "language": "python",
   "name": "python3"
  },
  "language_info": {
   "codemirror_mode": {
    "name": "ipython",
    "version": 3
   },
   "file_extension": ".py",
   "mimetype": "text/x-python",
   "name": "python",
   "nbconvert_exporter": "python",
   "pygments_lexer": "ipython3",
   "version": "3.10.15"
  }
 },
 "nbformat": 4,
 "nbformat_minor": 5
}
