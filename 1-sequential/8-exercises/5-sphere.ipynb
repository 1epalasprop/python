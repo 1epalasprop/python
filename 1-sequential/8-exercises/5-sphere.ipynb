{
 "cells": [
  {
   "attachments": {},
   "cell_type": "markdown",
   "id": "9d9132ea-3499-4244-bcd8-cccbf5351f4f",
   "metadata": {},
   "source": [
    "## Όγκος και εμβαδόν επιφανείας μιας σφαίρας\n",
    "\n",
    "Η σφαίρα καθορίζεται από το κέντρο, την ακτίνα ή τη διάμετρο.\n",
    "\n",
    "<table><thead>\n",
    "  <tr>\n",
    "    <th colspan=\"2\"><img src=\"../images/sphere.png\"></th>\n",
    "  </tr></thead>\n",
    "<tbody>\n",
    "  <tr>\n",
    "    <td>r</td>\n",
    "    <td>ακτίνα</td>\n",
    "  </tr>\n",
    "  <tr>\n",
    "    <td>d</td>\n",
    "    <td>διάμετρος</td>\n",
    "  </tr>\n",
    "  <tr>\n",
    "    <td>P</td>\n",
    "    <td>περίμετρος</td>\n",
    "  </tr>\n",
    "  <tr>\n",
    "    <td>O</td>\n",
    "    <td>κέντρο</td>\n",
    "  </tr>\n",
    "</tbody>\n",
    "</table>\n",
    "\n",
    "\n",
    "Γνωρίζοντας την ακτίνα $r$ μπορούμε να υπολογίσουμε τα εξής μεγέθη:\n",
    "* Διάμετρος: $ d = 2 \\cdot r $\n",
    "* Περίμετρος: $ P = 2 \\cdot \\pi \\cdot r $\n",
    "* Όγκος: $ V = \\frac{4}{3} \\cdot \\pi \\cdot r^3 $\n",
    "* Εμβαδόν επιφάνειας: $ E = 4 \\cdot \\pi \\cdot r^2 $\n",
    "\n",
    "Να γράψετε πρόγραμμα σε Python το οποίο:\n",
    "1. Διαβάζει την ακτίνα $r$ ενός κύκλου,\n",
    "2. Υπολογίζει τα τέσσερα παραπάνω μεγέθη,\n",
    "3. Εμφανίζει από ένα κατάλληλο μήνυμα με τον υπολογισμός καθενός μεγέθ"
   ]
  },
  {
   "cell_type": "code",
   "execution_count": null,
   "id": "33877c84-9505-4191-985b-fed4d4b2b72a",
   "metadata": {},
   "outputs": [],
   "source": []
  }
 ],
 "metadata": {
  "kernelspec": {
   "display_name": "Python 3 (ipykernel)",
   "language": "python",
   "name": "python3"
  },
  "language_info": {
   "codemirror_mode": {
    "name": "ipython",
    "version": 3
   },
   "file_extension": ".py",
   "mimetype": "text/x-python",
   "name": "python",
   "nbconvert_exporter": "python",
   "pygments_lexer": "ipython3",
   "version": "3.10.15"
  }
 },
 "nbformat": 4,
 "nbformat_minor": 5
}
