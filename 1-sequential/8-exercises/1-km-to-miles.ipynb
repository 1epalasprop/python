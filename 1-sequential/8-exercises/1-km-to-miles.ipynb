{
 "cells": [
  {
   "cell_type": "markdown",
   "id": "fe11d08a-c2b7-43d8-9e97-0f794a0462f4",
   "metadata": {},
   "source": [
    "# Εκφώνηση\n",
    "\n",
    "Ένα χιλιόμετρο αντιστοιχεί σε 0.62 μίλια.\n",
    "\n",
    "Να γράψετε ένα πρόγραμμα σε Python το οποίο:\n",
    "* Διαβάζει μία τιμή από το πληκτρολόγιο που αντιστοιχεί σε χιλιόμετρα\n",
    "* Υπολογίζει την μετατροπή σε μίλια\n",
    "* Εμφανίζει ένα μήνυμα με το αποτέλεσμα της μετατροπής."
   ]
  },
  {
   "cell_type": "markdown",
   "id": "e141b472-8959-49dd-93ed-1bd916aa78e8",
   "metadata": {},
   "source": [
    "# Λύση\n",
    "\n",
    "## 1. Διαβάζει μία τιμή από το πληκτρολόγιο που αντιστοιχεί σε χιλιόμετρα"
   ]
  },
  {
   "cell_type": "code",
   "execution_count": null,
   "id": "8573c426-d560-4b72-9e19-cb0dc4459704",
   "metadata": {},
   "outputs": [],
   "source": [
    "km = float(input(\"Χιλιόμετρα:\"))"
   ]
  },
  {
   "cell_type": "markdown",
   "id": "92ef40c1-8453-4831-aef8-c73c2e91b55c",
   "metadata": {},
   "source": [
    "## 2. Υπολογίζει την μετατροπή σε μίλια"
   ]
  },
  {
   "cell_type": "code",
   "execution_count": null,
   "id": "a9cee770-def8-434b-aabf-10219a89e86e",
   "metadata": {},
   "outputs": [],
   "source": [
    "miles = km * 0.62"
   ]
  },
  {
   "cell_type": "markdown",
   "id": "281295b8-40b3-481f-805b-668aefa42353",
   "metadata": {},
   "source": [
    "## 3. Εμφανίζε ένα μήνυμα με το αποτέλεσμα της μετατροπής"
   ]
  },
  {
   "cell_type": "code",
   "execution_count": null,
   "id": "1eaf71e3-422b-49dc-bcce-9c2e3b042f9e",
   "metadata": {},
   "outputs": [],
   "source": [
    "print(\"Τα\", km, \"χιλιόμετρα αντιστοιχούν σε\", miles, \"μίλια\")"
   ]
  },
  {
   "cell_type": "markdown",
   "id": "21f3df46-3c66-43aa-85b0-d6e851f98304",
   "metadata": {},
   "source": [
    "# Άσκηση\n",
    "\n",
    "Κάντε την αντίστροφη μετατροπή. Δηλαδή, διαβάστε μία τιμή που αντιστοιχεί σε\n",
    "μίλια και μετατρέψτε τη σε χιλιόμετρα. Εμφανίστε κατάλληλο μήνυμα."
   ]
  },
  {
   "cell_type": "code",
   "execution_count": null,
   "id": "3b11c9af-f4b9-46d0-9e8b-ee8e4cbe7d4d",
   "metadata": {},
   "outputs": [],
   "source": []
  }
 ],
 "metadata": {
  "kernelspec": {
   "display_name": "Python 3 (ipykernel)",
   "language": "python",
   "name": "python3"
  },
  "language_info": {
   "codemirror_mode": {
    "name": "ipython",
    "version": 3
   },
   "file_extension": ".py",
   "mimetype": "text/x-python",
   "name": "python",
   "nbconvert_exporter": "python",
   "pygments_lexer": "ipython3",
   "version": "3.10.15"
  }
 },
 "nbformat": 4,
 "nbformat_minor": 5
}
