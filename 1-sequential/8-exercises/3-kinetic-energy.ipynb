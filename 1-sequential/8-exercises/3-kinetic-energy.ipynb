{
 "cells": [
  {
   "cell_type": "markdown",
   "id": "ca26667c-38c4-4df8-8098-342dbf5a7b49",
   "metadata": {},
   "source": [
    "# Εκφώνηση\n",
    "\n",
    "Η κινητική ενέργεια ενός σώματος είναι $E = \\frac{1}{2} \\cdot m \\cdot v^2$,\n",
    "όπου $m$ η μάζα του σώματος και $v$ η ταχύτητά του. Γράψτε πρόγραμμα, το\n",
    "οποίο υπολογίζει την κινητική ενέργεια όταν δίνεται ως είσοδος η μάζα και η\n",
    "ταχύτητα του σώματος."
   ]
  },
  {
   "cell_type": "code",
   "execution_count": null,
   "id": "a15b2528-b2f3-42a6-8f40-d17ac38dd021",
   "metadata": {},
   "outputs": [],
   "source": []
  }
 ],
 "metadata": {
  "kernelspec": {
   "display_name": "Python 3 (ipykernel)",
   "language": "python",
   "name": "python3"
  },
  "language_info": {
   "codemirror_mode": {
    "name": "ipython",
    "version": 3
   },
   "file_extension": ".py",
   "mimetype": "text/x-python",
   "name": "python",
   "nbconvert_exporter": "python",
   "pygments_lexer": "ipython3",
   "version": "3.10.15"
  }
 },
 "nbformat": 4,
 "nbformat_minor": 5
}
