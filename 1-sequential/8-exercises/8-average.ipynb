{
 "cells": [
  {
   "cell_type": "markdown",
   "id": "6c33f5fd-62f5-4132-94f7-18ff6d82afa0",
   "metadata": {},
   "source": [
    "# Εκφώνηση\n",
    "\n",
    "Ο μέσος όρος δύο αριθμών $x$ και $y$ υπολογίζεται ως εξής:\n",
    "$$ mo = \\frac{x + y}{2} $$\n",
    "\n",
    "Να γράψετε πρόγραμμα σε γλώσσα Python το οποίο:\n",
    "1. Διαβάζει δύο αριθμούς,\n",
    "2. Υπολογίζει τον μέσο όρων των δύο βαθμών,\n",
    "3. Εμφανίζει το αποτέλεσμα με κατάλληλο μήνυμα, π.χ. \"Ο μέσος όρος είναι 17.5\""
   ]
  },
  {
   "cell_type": "code",
   "execution_count": null,
   "id": "edf4f12a-756b-4a37-9cc5-cb382b4d2ffc",
   "metadata": {},
   "outputs": [],
   "source": []
  },
  {
   "cell_type": "markdown",
   "id": "3ef8167f-d359-4c79-a6a4-d14dc0e42d89",
   "metadata": {},
   "source": [
    "# Επέκταση Άσκησης\n",
    "\n",
    "Οι φοιτητές μίας σχολής για να περάσουν ένα μάθημα δίνουν δύο προόδους και μία\n",
    "τελική εξέταση. Ο καθηγητής υπολογίζει τον τελικό βαθμό του μαθήματος ως εξής:\n",
    "$$\n",
    "vathmos = 55\\% \\cdot telikos + 45\\% \\cdot mo_prodon\n",
    "$$\n",
    "όπου $telikos$ είναι ο βαθμός της τελικής εξέτασης και $mo_proodon$ ο μέσος\n",
    "όρος των βαθμολογιών των δύο προόδων.\n",
    "\n",
    "Να γράψετε πρόγραμμα σε γλώσσα Python το οποίο:\n",
    "1. Διαβάζει το ονοματεπώνυμο ενός/μίας μαθητή/τριας,\n",
    "2. Διαβάζει το βαθμό του/της στη 1η πρόοδο,\n",
    "3. Διαβάζει το βαθμό του/της στο 2η πρόοδο,\n",
    "3. Διαβάζει το βαθμό του/της στη τελική εξέταση,\n",
    "4. Υπολογίζει το μέσο όρο των δύο προόδων,\n",
    "4. Υπολογίζει τον τελικό βαθμό σύμφωνα με την παραπάνω εξίσωση,\n",
    "5. Εμφανίζει το αποτέλεσμα με κατάλληλο μήνυμα, π.χ. \"Ο/Η Μαρία έχει τελικό βαθμό 18.2\"\n"
   ]
  },
  {
   "cell_type": "code",
   "execution_count": null,
   "id": "14baa051-b3e4-4b97-aa59-e4bcabab0eda",
   "metadata": {},
   "outputs": [],
   "source": []
  }
 ],
 "metadata": {
  "kernelspec": {
   "display_name": "Python 3 (ipykernel)",
   "language": "python",
   "name": "python3"
  },
  "language_info": {
   "codemirror_mode": {
    "name": "ipython",
    "version": 3
   },
   "file_extension": ".py",
   "mimetype": "text/x-python",
   "name": "python",
   "nbconvert_exporter": "python",
   "pygments_lexer": "ipython3",
   "version": "3.10.15"
  }
 },
 "nbformat": 4,
 "nbformat_minor": 5
}
