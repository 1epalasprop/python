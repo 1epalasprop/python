{
 "cells": [
  {
   "cell_type": "markdown",
   "id": "a6c5724d-43ac-4334-ae9a-0a91c0748f16",
   "metadata": {},
   "source": [
    "# Τύποι δεδομένων\n",
    "\n",
    "Στην Python έχουμε τους ακόλουθους τύπους δεδομένων:\n",
    "1. Αριθμοί\n",
    "2. Λογικός (boolean)\n",
    "3. Συμβολοσειρά (ή αλφαριθμητικό - string)"
   ]
  },
  {
   "attachments": {},
   "cell_type": "markdown",
   "id": "5a9d465b-fee6-4dac-a825-7aa9b542d153",
   "metadata": {},
   "source": [
    "## Αριθμητικοί Τύποι\n",
    "\n",
    "Οι αριθμοί στην Python είναι τριών τύπων:\n",
    "1. Ακέραιοι (integer)\n",
    "2. Δεκαδικοί (ή αριθμοί κινητής υποδιαστολής - float)\n",
    "3. Μιγαδικοί (complex)  **Σημείωση:** Δεν θα ασχοληθούμε με αυτό τον τύπο.\n",
    "\n",
    "Οι **ακέραιοι** αριθμοί είναι όσοι είναι \"σκέτοι\" αριθμοί (π.χ., 8, -2, 100).\n",
    "\n",
    "Οι **δεκαδικοί** αριθμοί έχουν την *υποδιαστολή* η οποία στην Python είναι το\n",
    "σύμβολο της τελείας (π.χ., 2.67, -1.5, 7.0)\n",
    "\n",
    "Για να γράψουμε στην Python αριθμούς που έχουν δυνάμεις του 10, χρησιμοποιούμε\n",
    "το σύμβολο **Ε**. \n",
    "\n",
    "| Μαθηματική Έκφραση | Έκφραση στην Python |\n",
    "|:------------------:|:-------------------:|\n",
    "|   $5 \\cdot 10^3$   |         5E3         |\n",
    "|   $5 \\cdot 10^{-3}$  |         5E-3        |\n",
    "\n",
    "*Οποιοσδήποτε αριθμός έχει το **Ε** είναι **δεκαδικός** (float)*."
   ]
  },
  {
   "cell_type": "markdown",
   "id": "ef60d3b1-6e01-413d-9d51-d1421c0b97a8",
   "metadata": {},
   "source": [
    "## Λογικός Τύπος\n",
    "\n",
    "Ο λογικός τύπος μπορεί να είναι μία από τις εξής τιμές:\n",
    "* True (Αληθής)\n",
    "* False (Ψευδής)"
   ]
  },
  {
   "cell_type": "markdown",
   "id": "5b649b61-3ca8-4e01-abce-40fcf4250e8b",
   "metadata": {},
   "source": [
    "## Συμβολοσειρά\n",
    "\n",
    "Η συμβολοσειρά είναι μία ακολουθία από χαρακτήρες. Οι συμβολοσειρές μπουρούν\n",
    "να έχουν οπουσδήποτε χαρακτήρες ακόμη και από διαφορετικές γλώσσες.\n",
    "Χαρακτηριστικά παραδείγματα είναι τα μηνύματα προς τους χρήστες και η είσοδος\n",
    "δεδομένων προς το πρόγραμμα.\n",
    "\n",
    "Γράφουμε τις συμβολοσειρές στην Python ανάμεσα από διπλά (\"\") ή μονά ('')\n",
    "εισαγωγικά. **Προσοχή:** χρησιμοποιούμε τα ίδια στην αρχή και στο τέλος.\n",
    "\n",
    "Παραδείγματα:\n",
    "* \"Μαθαίνω προγραμματισμό\"\n",
    "* 'Μαθαίνω Python'\n",
    "* 'Μαθαίνω Python\"  **Λάθος**, ξεκινάει με μονό και τελειώνει με διπλό\n",
    "  εισαγωγικό."
   ]
  },
  {
   "cell_type": "markdown",
   "id": "498d5663-4cc8-40f3-94ea-3bd1d3c5b430",
   "metadata": {},
   "source": [
    "# Έλεγχος Τύπου Δεδομένων\n",
    "\n",
    "Στην Python υπάρχει η ενσωματωμένη *συνάρτηση* **`type()`** η οποία μας\n",
    "πληροφορεί για τον τύπο δεδομένων αριθμών και μεταβλητών. Το αποτέλεσμα είναι:\n",
    "1. **int** όταν πρόκειται για ακέραιο\n",
    "2. **float** όταν πρόκειται για δεκαδικό\n",
    "3. **bool** όταν πρόκειται για λογικό\n",
    "4. **str** όταν πρόκειται για συμβολοσειρά"
   ]
  },
  {
   "cell_type": "markdown",
   "id": "8364691a-65eb-42cf-915c-bca1dc76a618",
   "metadata": {},
   "source": [
    "## Παραδείγματα"
   ]
  },
  {
   "cell_type": "code",
   "execution_count": 2,
   "id": "3e53a1e2-0407-4dd3-9f2d-ef0f824efd73",
   "metadata": {},
   "outputs": [
    {
     "data": {
      "text/plain": [
       "int"
      ]
     },
     "execution_count": 2,
     "metadata": {},
     "output_type": "execute_result"
    }
   ],
   "source": [
    "type(3)"
   ]
  },
  {
   "cell_type": "code",
   "execution_count": 3,
   "id": "8055905a-3add-4a4f-ba32-09477e7da4d4",
   "metadata": {},
   "outputs": [
    {
     "data": {
      "text/plain": [
       "int"
      ]
     },
     "execution_count": 3,
     "metadata": {},
     "output_type": "execute_result"
    }
   ],
   "source": [
    "type(-5)"
   ]
  },
  {
   "cell_type": "code",
   "execution_count": 4,
   "id": "b6921215-c1c4-4952-ad64-c5cf111a9d89",
   "metadata": {},
   "outputs": [
    {
     "data": {
      "text/plain": [
       "float"
      ]
     },
     "execution_count": 4,
     "metadata": {},
     "output_type": "execute_result"
    }
   ],
   "source": [
    "type(7.2)"
   ]
  },
  {
   "cell_type": "code",
   "execution_count": 5,
   "id": "bacfe59e-dded-4e49-a22c-8d550982d7ec",
   "metadata": {},
   "outputs": [
    {
     "data": {
      "text/plain": [
       "float"
      ]
     },
     "execution_count": 5,
     "metadata": {},
     "output_type": "execute_result"
    }
   ],
   "source": [
    "type(-1.2)"
   ]
  },
  {
   "cell_type": "code",
   "execution_count": 6,
   "id": "23e179ca-9746-4ac8-b1a3-0fd47d5b678d",
   "metadata": {},
   "outputs": [
    {
     "data": {
      "text/plain": [
       "bool"
      ]
     },
     "execution_count": 6,
     "metadata": {},
     "output_type": "execute_result"
    }
   ],
   "source": [
    "type(True)"
   ]
  },
  {
   "cell_type": "code",
   "execution_count": 7,
   "id": "dd1cd0fb-530c-49b0-a123-d5bc50d78584",
   "metadata": {},
   "outputs": [
    {
     "data": {
      "text/plain": [
       "bool"
      ]
     },
     "execution_count": 7,
     "metadata": {},
     "output_type": "execute_result"
    }
   ],
   "source": [
    "type(False)"
   ]
  },
  {
   "cell_type": "code",
   "execution_count": 8,
   "id": "ee867ca2-cea9-4872-99ed-8b262eb9f3d8",
   "metadata": {},
   "outputs": [
    {
     "data": {
      "text/plain": [
       "str"
      ]
     },
     "execution_count": 8,
     "metadata": {},
     "output_type": "execute_result"
    }
   ],
   "source": [
    "type(\"Python\")"
   ]
  },
  {
   "cell_type": "code",
   "execution_count": 9,
   "id": "a12e759b-11cc-40e0-848b-7cf5bf8399ec",
   "metadata": {},
   "outputs": [
    {
     "data": {
      "text/plain": [
       "str"
      ]
     },
     "execution_count": 9,
     "metadata": {},
     "output_type": "execute_result"
    }
   ],
   "source": [
    "type(\"ΕΠΑΛ\")"
   ]
  },
  {
   "cell_type": "code",
   "execution_count": 11,
   "id": "a45608d2-6552-49c4-80dd-779d24fef0de",
   "metadata": {},
   "outputs": [
    {
     "data": {
      "text/plain": [
       "float"
      ]
     },
     "execution_count": 11,
     "metadata": {},
     "output_type": "execute_result"
    }
   ],
   "source": [
    "type(5E3)"
   ]
  },
  {
   "cell_type": "code",
   "execution_count": 12,
   "id": "20dd9117-9838-4ded-b523-eae41441474d",
   "metadata": {},
   "outputs": [
    {
     "data": {
      "text/plain": [
       "float"
      ]
     },
     "execution_count": 12,
     "metadata": {},
     "output_type": "execute_result"
    }
   ],
   "source": [
    "type(5E-3)"
   ]
  },
  {
   "cell_type": "markdown",
   "id": "b0189b71-5b06-4b4e-b021-266295e66ff8",
   "metadata": {},
   "source": [
    "# Εξάσκηση\n",
    "\n",
    "Σε καθένα από τα παρακάτω κελιά, εμφανίστε τον τύπο δεδομένων για την έκφραση\n",
    "που σας δίνεται."
   ]
  },
  {
   "cell_type": "code",
   "execution_count": null,
   "id": "e13d9547-291a-4622-b804-fd265471c37f",
   "metadata": {},
   "outputs": [],
   "source": [
    "# Εμφανίστε τον τύπο δεδομένων του: 0\n"
   ]
  },
  {
   "cell_type": "code",
   "execution_count": null,
   "id": "568c4499-566c-4de9-9cea-375e419f43ba",
   "metadata": {},
   "outputs": [],
   "source": [
    "# Εμφανίστε τον τύπο δεδομένων του: 3\n"
   ]
  },
  {
   "cell_type": "code",
   "execution_count": null,
   "id": "9d84e82e-769d-4594-9e20-2c3d182c6879",
   "metadata": {},
   "outputs": [],
   "source": [
    "# Εμφανίστε τον τύπο δεδομένων του: 3.0\n"
   ]
  },
  {
   "cell_type": "code",
   "execution_count": null,
   "id": "f966c8f0-4722-4367-9956-7f2c2b27624f",
   "metadata": {},
   "outputs": [],
   "source": [
    "# Εμφανίστε τον τύπο δεδομένων του: 0Ε2\n"
   ]
  },
  {
   "cell_type": "code",
   "execution_count": null,
   "id": "3fd90bd5-42b0-4c27-8277-12c9599a1cc9",
   "metadata": {},
   "outputs": [],
   "source": [
    "# Εμφανίστε τον τύπο δεδομένων του: False\n"
   ]
  },
  {
   "cell_type": "code",
   "execution_count": null,
   "id": "ec6e72f5-a8e7-4b7e-85a5-b92c8d59bf90",
   "metadata": {},
   "outputs": [],
   "source": [
    "# Εμφανίστε τον τύπο δεδομένων του: \"Καλημέρα\"\n"
   ]
  }
 ],
 "metadata": {
  "kernelspec": {
   "display_name": "Python 3 (ipykernel)",
   "language": "python",
   "name": "python3"
  },
  "language_info": {
   "codemirror_mode": {
    "name": "ipython",
    "version": 3
   },
   "file_extension": ".py",
   "mimetype": "text/x-python",
   "name": "python",
   "nbconvert_exporter": "python",
   "pygments_lexer": "ipython3",
   "version": "3.10.15"
  }
 },
 "nbformat": 4,
 "nbformat_minor": 5
}
