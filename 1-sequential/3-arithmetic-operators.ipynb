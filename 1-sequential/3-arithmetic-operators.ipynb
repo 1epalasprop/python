{
 "cells": [
  {
   "cell_type": "markdown",
   "id": "e501a1fe-e30e-4a2e-a6f3-04b83c2e8bc5",
   "metadata": {},
   "source": [
    "# Αριθμητικοί Τελεστές\n",
    "\n",
    "Ο όρος \"τελεστής\" είναι συνώνυμο με τον όρο \"σύμβολο\". Δηλαδή, οι\n",
    "_Αριθμητικοί Τελεστές_ είναι τα _σύμβολα_ που χρησιμοποιούμε για να κάνουμε\n",
    "_πράξεις_ μεταξύ αριθμών.\n",
    "\n",
    "Οι πράξεις είναι οι γνωστές από τα μαθηματικά με τη διαφορά ότι στην Python\n",
    "χρησιμοποιούμε διαφορετικά σύμβολα για κάποιες.\n",
    "Επίσης, σε κάθε έκφραση στην οποία υπάρχουν αριθμητικοί τελεστές, ακολουθείτε\n",
    "η ιεραρχία των πράξεων που φαίνεται στον παρακάτω πίνακα.\n",
    "\n",
    "| Ιεραρχία | Πράξη                       | Τελεστής |\n",
    "|:--------:|-----------------------------|:--------:|\n",
    "|     1    | Υψωση σε δύναμη             |    **    |\n",
    "|     2    | Πολλαπλασιασμός             |     *    |\n",
    "|     2    | Διαίρεση                    |     /    |\n",
    "|     2    | Υπόλοιπο ακέραιας διαιρεσης |     %    |\n",
    "|     3    | Πρόσθεση                    |     +    |\n",
    "|     3    | Αφαίρεση                    |     -    |\n",
    "\n",
    "Όταν θέλουμε να αλλάξουμε την ιεραρχία των πράξεων, χρησιμοποιούμε παρενθέσεις."
   ]
  },
  {
   "cell_type": "markdown",
   "id": "8df96090-1466-4552-b6c7-f2a5114b8929",
   "metadata": {},
   "source": [
    "# Παραδείγματα\n",
    "\n",
    "Υπολογίστε τις παρακάτω μαθηματικές εκφράσεις:"
   ]
  },
  {
   "cell_type": "markdown",
   "id": "65e36006-6daa-4def-976e-ee8ff1367645",
   "metadata": {},
   "source": [
    "$2 + 8^2$"
   ]
  },
  {
   "cell_type": "code",
   "execution_count": null,
   "id": "0e827f4a-05c2-4ab4-8bbe-0ef4e98e5e5f",
   "metadata": {},
   "outputs": [],
   "source": [
    "2 + 8 ** 2"
   ]
  },
  {
   "cell_type": "markdown",
   "id": "40f57692-5f5e-4f77-ad66-f5c7c21a8677",
   "metadata": {},
   "source": [
    "$2^2 + 4 \\div 2 - 3^4$"
   ]
  },
  {
   "cell_type": "code",
   "execution_count": null,
   "id": "337bdae7-27aa-4d5f-bd57-1e20f25b1842",
   "metadata": {},
   "outputs": [],
   "source": [
    "2 ** 2 + 4 / 2 - 3 ** 4"
   ]
  },
  {
   "cell_type": "markdown",
   "id": "2f6a7023-4618-46ee-8236-53f5f758d707",
   "metadata": {},
   "source": [
    "$\\frac{2^3 - 4}{2} \\cdot 3$"
   ]
  },
  {
   "cell_type": "code",
   "execution_count": null,
   "id": "4c3dfe18-654b-46ed-a168-a48e5bec3dc9",
   "metadata": {},
   "outputs": [],
   "source": [
    "(2 ** 3 - 4) / 2 * 3"
   ]
  },
  {
   "cell_type": "markdown",
   "id": "ae32f9db-fac3-405c-bfcd-177c33f0d35c",
   "metadata": {},
   "source": [
    "# Εξάσκηση"
   ]
  },
  {
   "cell_type": "markdown",
   "id": "f98d4880-f6c2-48d8-8b0f-fda6d3dfeeaf",
   "metadata": {},
   "source": [
    "## Πρόσθεση\n",
    "\n",
    "$5 + 3$\n"
   ]
  },
  {
   "cell_type": "code",
   "execution_count": null,
   "id": "c7843c92-0a0f-4397-915e-0ed498bd9801",
   "metadata": {},
   "outputs": [],
   "source": []
  },
  {
   "cell_type": "markdown",
   "id": "fe8aad40-5818-476c-85b0-4e7a58b0d15b",
   "metadata": {},
   "source": [
    "## Αφαίρεση\n",
    "\n",
    "$10 - 4$"
   ]
  },
  {
   "cell_type": "code",
   "execution_count": null,
   "id": "192dbef0-78b3-432d-9174-6f905bdd82c7",
   "metadata": {},
   "outputs": [],
   "source": []
  },
  {
   "cell_type": "markdown",
   "id": "a5a7775e-fbd2-4bc6-991b-382695280d90",
   "metadata": {},
   "source": [
    "## Πολλαπλασιασμός\n",
    "\n",
    "$7 \\times 6$"
   ]
  },
  {
   "cell_type": "code",
   "execution_count": null,
   "id": "52614645-d6d2-47c5-95c3-5d25b3bd9494",
   "metadata": {},
   "outputs": [],
   "source": []
  },
  {
   "cell_type": "markdown",
   "id": "532e3bc7-4c31-4212-961e-c3756907f532",
   "metadata": {},
   "source": [
    "## Διαίρεση\n",
    "\n",
    "$20 \\div 5$"
   ]
  },
  {
   "cell_type": "code",
   "execution_count": null,
   "id": "941a2ecb-9f79-4258-8c19-ecf37a067c0a",
   "metadata": {},
   "outputs": [],
   "source": []
  },
  {
   "cell_type": "markdown",
   "id": "db68696a-6711-4f45-afb1-289dbfb60854",
   "metadata": {},
   "source": [
    "## Εκθέτης\n",
    "\n",
    "$3^4$"
   ]
  },
  {
   "cell_type": "code",
   "execution_count": null,
   "id": "55389fb2-fc74-4c0f-b9b2-2e95bfefa5b4",
   "metadata": {},
   "outputs": [],
   "source": []
  },
  {
   "cell_type": "markdown",
   "id": "f793a908-688f-4ac6-9e32-667f622bff2f",
   "metadata": {},
   "source": [
    "## Πρόσθεση και Πολλαπλασιασμός\n",
    "\n",
    "$8 + 2 \\times 5$"
   ]
  },
  {
   "cell_type": "code",
   "execution_count": null,
   "id": "9ab5d7c8-2385-4723-b3c3-4ea0dbd6494c",
   "metadata": {},
   "outputs": [],
   "source": []
  },
  {
   "cell_type": "markdown",
   "id": "1025ecdb-fa8a-4cf2-a59d-873cba90b52d",
   "metadata": {},
   "source": [
    "## Πρόσθεση και Πολλαπλασιασμός (αλλαγή στη ιεραρχία)\n",
    "\n",
    "$(8 + 2) \\times 5$"
   ]
  },
  {
   "cell_type": "code",
   "execution_count": null,
   "id": "70df9da2-fdec-4243-ab59-7135d1bc654d",
   "metadata": {},
   "outputs": [],
   "source": []
  },
  {
   "cell_type": "markdown",
   "id": "99ff42ac-b3de-4204-857b-129bd970cf15",
   "metadata": {},
   "source": [
    "## Διαίρεση και Πολλαπλασιασμός\n",
    "\n",
    "$12 \\div 4 \\times 3$"
   ]
  },
  {
   "cell_type": "code",
   "execution_count": null,
   "id": "497ad8cd-b7a6-427a-bc26-19ba0ff6e2c8",
   "metadata": {},
   "outputs": [],
   "source": []
  },
  {
   "cell_type": "markdown",
   "id": "67b5ca16-4c34-490a-8221-02e972440ac5",
   "metadata": {},
   "source": [
    "## Πολλαπλοί Τελεστές (Πρόσθεση, Αφαίρεση και Πολλαπλασιασμός)\n",
    "\n",
    "$7 - 2 \\times 3 + 5$"
   ]
  },
  {
   "cell_type": "code",
   "execution_count": null,
   "id": "72f90ced-0422-4398-99a9-a712b0f394b3",
   "metadata": {},
   "outputs": [],
   "source": []
  },
  {
   "cell_type": "markdown",
   "id": "0c8d65d7-619f-48e2-a903-aafb9de2511a",
   "metadata": {},
   "source": [
    "## Σύνθετη Έκφραση (Εκθέτες και Παρενθέσεις)\n",
    "\n",
    "$(2 + 3) \\times 4^2$"
   ]
  },
  {
   "cell_type": "code",
   "execution_count": null,
   "id": "8bfe44d7-0e3e-4224-8375-2a4f2f17c845",
   "metadata": {},
   "outputs": [],
   "source": []
  },
  {
   "cell_type": "markdown",
   "id": "5ef120a8-2708-46ac-9fdb-abc4d09cf83f",
   "metadata": {},
   "source": [
    "## Εμφωλευμένες Παρενθέσεις\n",
    "\n",
    "$(12 \\div (2 \\times 3)) ^ 2$"
   ]
  },
  {
   "cell_type": "code",
   "execution_count": null,
   "id": "3e4df821-75aa-4cdf-92a5-c37ac0a90993",
   "metadata": {},
   "outputs": [],
   "source": []
  },
  {
   "cell_type": "markdown",
   "id": "0e8cb294-1d29-4852-9777-30bbd22c3429",
   "metadata": {},
   "source": [
    "## Διαίρεση με Εκθέτη\n",
    "\n",
    "$100 \\div 10^2$"
   ]
  },
  {
   "cell_type": "code",
   "execution_count": null,
   "id": "1b44e7fb-9ffc-432d-b186-9dc1a3d0522e",
   "metadata": {},
   "outputs": [],
   "source": []
  },
  {
   "cell_type": "markdown",
   "id": "99f1b973-9367-4ee9-ba77-dd24ec53eaaf",
   "metadata": {},
   "source": [
    "## Πολλαπλοί Τελεστές\n",
    "\n",
    "$10 + 5 \\times (3^2 - 7) \\div 2$"
   ]
  },
  {
   "cell_type": "code",
   "execution_count": null,
   "id": "749e6935-e899-4466-b2ed-3a97b310da67",
   "metadata": {},
   "outputs": [],
   "source": []
  },
  {
   "cell_type": "markdown",
   "id": "1c2285b5-7d1e-4d38-91ae-46a7e2e202ee",
   "metadata": {},
   "source": [
    "## Σύνθετη Έκφραση με Εμφωλευμένες Παρενθέσεις\n",
    "\n",
    "$((4 + 3) \\times 2) - (6 \\div (1 + 2^2))$"
   ]
  },
  {
   "cell_type": "code",
   "execution_count": null,
   "id": "254a84dd-a5f7-4928-8383-f853866d4720",
   "metadata": {},
   "outputs": [],
   "source": []
  },
  {
   "cell_type": "markdown",
   "id": "6278e95d-9213-4605-a8f8-7263a056fea3",
   "metadata": {},
   "source": [
    "## Συνδυασμός Όλων των Τελεστών\n",
    "\n",
    "$(3 + 2) \\times (4^2 \\div 2) - 7 \\times (3 + 1^3)$"
   ]
  },
  {
   "cell_type": "code",
   "execution_count": null,
   "id": "5237b40c-36ed-4626-a5d3-c16e18143572",
   "metadata": {},
   "outputs": [],
   "source": []
  }
 ],
 "metadata": {
  "kernelspec": {
   "display_name": "Python 3 (ipykernel)",
   "language": "python",
   "name": "python3"
  },
  "language_info": {
   "codemirror_mode": {
    "name": "ipython",
    "version": 3
   },
   "file_extension": ".py",
   "mimetype": "text/x-python",
   "name": "python",
   "nbconvert_exporter": "python",
   "pygments_lexer": "ipython3",
   "version": "3.12.0"
  }
 },
 "nbformat": 4,
 "nbformat_minor": 5
}
