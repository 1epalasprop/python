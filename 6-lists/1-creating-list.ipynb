{
 "cells": [
  {
   "cell_type": "markdown",
   "id": "a9c94354-ce00-41bb-9457-e79992dab65f",
   "metadata": {},
   "source": [
    "# Τι Είναι η Λίστα;\n",
    "\n",
    "Η λίστα είναι μία διατεταγμένη ακολουθία από αντικείμενα (δηλαδή έχουν μία σειρά).\n",
    "Αυτά τα αντικείμενα μπορεί να είναι οποιουδήποτε τύπου, όπως αριθμοί, συμβολοσειρές,\n",
    "ακόμη και λίστες. Οι λίστες ανήκουν στις **μεταβαλόμενες** δομές, που σημαίνει\n",
    "ότι μπορούμε να τις τροποποιήσουμε μετά τη δημιουργία τους."
   ]
  },
  {
   "cell_type": "markdown",
   "id": "edf6d5da-6a01-40c4-a094-7cf0000b60f9",
   "metadata": {},
   "source": [
    "# Δημιουργία Λίστας\n",
    "\n",
    "Για να δημιουργήσουμε μία λίστα, απλά βάζουμε μέσα σε αγκύλες **`[]`** τα\n",
    "αντικείμενα και τα χωρίζουμε με το κόμμα ή με τον ιδιοματισμό **`[τιμή] * n`**\n",
    "όπου η `τιμή` επαναλαμβάνεται `n` φορές.\n",
    "\n",
    "## Παραδείγματα\n",
    "\n",
    "Δημιουργία μίας λίστας με αριθμούς:\n",
    "```python\n",
    "numbers = [1, 1.5, 2, 2.5, 3]\n",
    "```\n",
    "\n",
    "Δημιουργία λίστας με συμβολοσειρές:\n",
    "```python\n",
    "fruits = [\"apple\", \"banana\", \"orange\"]\n",
    "```\n",
    "\n",
    "Δημιουργία λίστας με διαφορετικούς τύπους δεδομένων:\n",
    "```python\n",
    "mixed = [1, \"apple\", 3.14, True]\n",
    "```\n",
    "\n",
    "Δημιουργία μίας λίστας με τις ίδιες τιμές:\n",
    "```python\n",
    "repeat = [4] * 5\n",
    "```\n",
    "\n",
    "Για να εμφανίσω όλα τα αντικείμενα μιας λίστας, χρησιμοποιώ την `print()`.\n",
    "\n",
    "## Εξάσκηση\n",
    "\n",
    "Στα παρακάτω κελιά δημιουργήστε τις λίστες που ζητούνται."
   ]
  },
  {
   "cell_type": "code",
   "execution_count": null,
   "id": "4452d1a8-89b8-4c15-b741-3e4508211156",
   "metadata": {},
   "outputs": [],
   "source": [
    "# Δημιούργησε και εμφάνισε τη λίστα numbers που περιγράφεται στο παράδειγμα.\n"
   ]
  },
  {
   "cell_type": "code",
   "execution_count": null,
   "id": "5fdf00c4-fa43-4cad-acd1-93d6bfe8fd88",
   "metadata": {},
   "outputs": [],
   "source": [
    "# Δημιούργησε και εμφάνισε τη λίστα fruits που περιγράφεται στο παράδειγμα.\n"
   ]
  },
  {
   "cell_type": "code",
   "execution_count": null,
   "id": "90f8d2f0-99b5-4054-b2a0-6be389bdc1bd",
   "metadata": {},
   "outputs": [],
   "source": [
    "# Δημιούργησε και εμφάνισε τη λίστα mixed που περιγράφεται στο παράδειγμα.\n"
   ]
  },
  {
   "cell_type": "code",
   "execution_count": 1,
   "id": "a7f713cd-f4be-450f-b439-1aa37f750392",
   "metadata": {},
   "outputs": [],
   "source": [
    "# Δημιούργησε και εμφάνισε τη λίστα repeat που περιγράφεται στο παράδειγμα.\n"
   ]
  },
  {
   "cell_type": "code",
   "execution_count": null,
   "id": "43054449-8332-4387-9b6a-819812786ab5",
   "metadata": {},
   "outputs": [],
   "source": []
  }
 ],
 "metadata": {
  "kernelspec": {
   "display_name": "Python 3 (ipykernel)",
   "language": "python",
   "name": "python3"
  },
  "language_info": {
   "codemirror_mode": {
    "name": "ipython",
    "version": 3
   },
   "file_extension": ".py",
   "mimetype": "text/x-python",
   "name": "python",
   "nbconvert_exporter": "python",
   "pygments_lexer": "ipython3",
   "version": "3.12.0"
  }
 },
 "nbformat": 4,
 "nbformat_minor": 5
}
