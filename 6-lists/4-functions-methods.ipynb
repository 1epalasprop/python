{
 "cells": [
  {
   "cell_type": "markdown",
   "id": "7ff72dcb-f61f-4268-a0da-95a7c4bdab45",
   "metadata": {},
   "source": [
    "# Συναρτήσεις\n",
    "\n",
    "Δύο πολύ χρήσιμες συναρτήσεις με εφαμοργή σε λίστες είναι οι:\n",
    "* `list()`\n",
    "* `len()`\n",
    "\n",
    "## list\n",
    "\n",
    "Η συνάρτηση `list()` δέχεται ως όρισμα μία συμβολοσειρά και επιστρέφει μία\n",
    "λίστα στην οποία όλα τα σύμβολα της συμβολοσειράς έχουν γίνει στοιχεία της\n",
    "λίστας.\n",
    "\n",
    "### Παράδειγμα"
   ]
  },
  {
   "cell_type": "code",
   "execution_count": 6,
   "id": "0e2ec5ca-2e7a-4f05-8eee-e557242084fb",
   "metadata": {},
   "outputs": [
    {
     "name": "stdout",
     "output_type": "stream",
     "text": [
      "['Γ', 'ε', 'ι', 'ά', ' ', 'σ', 'ο', 'υ', '!']\n"
     ]
    }
   ],
   "source": [
    "print(list(\"Γειά σου!\"))"
   ]
  },
  {
   "cell_type": "code",
   "execution_count": 5,
   "id": "e3907f64-57aa-4991-95cc-c94be342b826",
   "metadata": {},
   "outputs": [
    {
     "name": "stdout",
     "output_type": "stream",
     "text": [
      "['Μ', 'α', 'θ', 'α', 'ί', 'ν', 'ω', ' ', 'P', 'y', 't', 'h', 'o', 'n']\n"
     ]
    }
   ],
   "source": [
    "python = list(\"Μαθαίνω Python\")\n",
    "print(python)"
   ]
  },
  {
   "cell_type": "markdown",
   "id": "aa02928c-d14c-4785-a5ae-98b84f346ebe",
   "metadata": {},
   "source": [
    "## len\n",
    "\n",
    "Η συνάρτηση `len()` δέχεται ως όρισμα το *όνομα* μιας λίστας και επιστρέφει \n",
    "έναν αριθμό, το πλήθος των στοιχείων της λίστας.\n",
    "\n",
    "### Παράδειγμα"
   ]
  },
  {
   "cell_type": "code",
   "execution_count": 14,
   "id": "2a4cd906-1661-4ff4-a079-017b4655c249",
   "metadata": {},
   "outputs": [
    {
     "name": "stdout",
     "output_type": "stream",
     "text": [
      "3\n"
     ]
    }
   ],
   "source": [
    "orange_fruits = [\"Πορτοκάλι\", \"Μανταρίνι\", \"Βερίκοκο\"]\n",
    "print(len(orange_fruits))"
   ]
  },
  {
   "cell_type": "code",
   "execution_count": 15,
   "id": "e9ce70e1-d5f2-4089-8fd4-755ef1f4cf26",
   "metadata": {},
   "outputs": [
    {
     "name": "stdout",
     "output_type": "stream",
     "text": [
      "2\n"
     ]
    }
   ],
   "source": [
    "yellow_fruits = [\"Ανανάς\", \"Μπανάνα\"]\n",
    "print(len(yellow_fruits))"
   ]
  },
  {
   "cell_type": "markdown",
   "id": "a80dbbb1-b6f1-4123-96f8-0717e39de4cd",
   "metadata": {},
   "source": [
    "# Μέθοδοι\n",
    "\n",
    "Οι λίστες έχουν κάποιες συναρτήσεις οι οποίες εφαρμόζονται *μόνο σε λίστες* \n",
    "και διαφέρουν από τις συναρτήσεις στο ότι προηγείται το όνομα της λίστας\n",
    "ακολουθεί τελεία `.` και μετά το όνομα στης μεθόδου (συνάρτησης).\n",
    "\n",
    "Κάποιες από αυτές τις μεθόδους είναι:\n",
    "* `append()`: προσθήκη στοιχείου στο *τέλος* της λίστας\n",
    "* `insert()`: προσθήκη στοιχείου *σε συγκεκριμένη θέση* της λίστας\n",
    "* `pop()`: αφαίρεση στοιχείου από τη λίστα. Αν δεν δώσουμε θέση, αφαιρεί από\n",
    "  το *τέλος*, διαφορετικά από τη θέση που δίνουμε."
   ]
  },
  {
   "cell_type": "markdown",
   "id": "0e5ac182-f74a-406b-99cf-cb3a24213e4a",
   "metadata": {},
   "source": [
    "## append\n",
    "\n",
    "Η μέθοδος `append()` δέχεται ως όρισμα ένα στοιχείο και το προσθέτει στο τέλος\n",
    "της λίστας.\n",
    "\n",
    "### Παραδείγματα\n",
    "\n",
    "**Προσοχή:** Κάθε φορά που τρέχετε ένα κελί, θα προσθέτει το ίδιο αντικείμενο\n",
    "στο τέλος της λίστας."
   ]
  },
  {
   "cell_type": "code",
   "execution_count": 16,
   "id": "83fc0728-94d1-4ad6-ba08-693c5b4995d1",
   "metadata": {},
   "outputs": [
    {
     "name": "stdout",
     "output_type": "stream",
     "text": [
      "['Ανανάς', 'Μπανάνα', 'Λεμόνι']\n"
     ]
    }
   ],
   "source": [
    "yellow_fruits.append(\"Λεμόνι\")\n",
    "print(yellow_fruits)"
   ]
  },
  {
   "cell_type": "code",
   "execution_count": 17,
   "id": "7f9f4b98-6270-4c70-909b-0fd90e21ede3",
   "metadata": {},
   "outputs": [
    {
     "name": "stdout",
     "output_type": "stream",
     "text": [
      "['Ανανάς', 'Μπανάνα', 'Λεμόνι', 'Κίτρινο μήλο']\n"
     ]
    }
   ],
   "source": [
    "yellow_fruits.append(\"Κίτρινο μήλο\")\n",
    "print(yellow_fruits)"
   ]
  },
  {
   "cell_type": "markdown",
   "id": "47025732-6480-4322-af3d-23b6d32ea822",
   "metadata": {},
   "source": [
    "## insert\n",
    "\n",
    "Η μέθοδος `insert()` δέχεται δύο ορίσματα. Το πρώτο είναι η θέση στην οποία\n",
    "θέλουμε να κάνουμε την εισαγωγή και το δεύτερο το στοιχείο που θέλουμε να\n",
    "εισάγουμε.\n",
    "\n",
    "### Παραδείγματα"
   ]
  },
  {
   "cell_type": "code",
   "execution_count": 18,
   "id": "32c69bc3-05ec-4573-9e7b-9c24e84c051b",
   "metadata": {},
   "outputs": [
    {
     "name": "stdout",
     "output_type": "stream",
     "text": [
      "Πρίν την εισαγωγή: ['Πορτοκάλι', 'Μανταρίνι', 'Βερίκοκο']\n",
      "Μετά την εισαγωγή: ['Μάνγο', 'Πορτοκάλι', 'Μανταρίνι', 'Βερίκοκο']\n"
     ]
    }
   ],
   "source": [
    "print(\"Πρίν την εισαγωγή:\", orange_fruits)\n",
    "orange_fruits.insert(0, \"Μάνγο\")  # Εισαγωγή στην αρχή της λίστας (θέση 0)\n",
    "print(\"Μετά την εισαγωγή:\", orange_fruits)"
   ]
  },
  {
   "cell_type": "code",
   "execution_count": 19,
   "id": "606e7f98-5af9-48b2-80fe-0fc7bc14cf05",
   "metadata": {},
   "outputs": [
    {
     "name": "stdout",
     "output_type": "stream",
     "text": [
      "Πρίν την εισαγωγή: ['Μάνγο', 'Πορτοκάλι', 'Μανταρίνι', 'Βερίκοκο']\n",
      "Μετά την εισαγωγή: ['Μάνγο', 'Πορτοκάλι', 'Παπάγια', 'Μανταρίνι', 'Βερίκοκο']\n"
     ]
    }
   ],
   "source": [
    "print(\"Πρίν την εισαγωγή:\", orange_fruits)\n",
    "orange_fruits.insert(2, \"Παπάγια\")  # Εισαγωγή στην θέση 2\n",
    "print(\"Μετά την εισαγωγή:\", orange_fruits)"
   ]
  },
  {
   "cell_type": "markdown",
   "id": "41071d1a-f0aa-4d53-a486-a50b8512de0a",
   "metadata": {},
   "source": [
    "## pop\n",
    "\n",
    "Η μέθοδος `pop()` μπορεί να χρησιμοποιηθεί χωρίς όρισμα ή με ένα όρισμα, τη θέση\n",
    "από την οποία θέλουμε να αφαιρέσουμε ένα στοιχείο της λίστας. Όταν δεν δίνουμε\n",
    "όρισμα, αφαιρεί το *τελευταίο* στοιχείο της λίστας. Το στοιχείο που αφαιρεί, το\n",
    "επιστρέφει και μπορούμε να το κρατήσουμε σε μια μεταβλητή.\n",
    "\n",
    "### Παραδείγματα"
   ]
  },
  {
   "cell_type": "code",
   "execution_count": 20,
   "id": "b9ff74fe-2831-4026-a809-26662702641b",
   "metadata": {},
   "outputs": [
    {
     "name": "stdout",
     "output_type": "stream",
     "text": [
      "Πριν την αφαίρεση: ['Μάνγο', 'Πορτοκάλι', 'Παπάγια', 'Μανταρίνι', 'Βερίκοκο']\n",
      "Μετά την αφαίρεση: ['Μάνγο', 'Πορτοκάλι', 'Παπάγια', 'Μανταρίνι']\n",
      "Το στοιχείο που αφαιρέθηκε: Βερίκοκο\n"
     ]
    }
   ],
   "source": [
    "print(\"Πριν την αφαίρεση:\", orange_fruits)\n",
    "appricot = orange_fruits.pop()  # Αφαίρεσε από το τέλος\n",
    "print(\"Μετά την αφαίρεση:\", orange_fruits)\n",
    "print(\"Το στοιχείο που αφαιρέθηκε:\", appricot)"
   ]
  },
  {
   "cell_type": "code",
   "execution_count": 21,
   "id": "854ad90a-aed3-45a2-8be4-b4c1cae271d4",
   "metadata": {},
   "outputs": [
    {
     "name": "stdout",
     "output_type": "stream",
     "text": [
      "Πριν την αφαίρεση: ['Μάνγο', 'Πορτοκάλι', 'Παπάγια', 'Μανταρίνι']\n",
      "Μετά την αφαίρεση: ['Μάνγο', 'Πορτοκάλι', 'Μανταρίνι']\n",
      "Το στοιχείο που αφαιρέθηκε: Παπάγια\n"
     ]
    }
   ],
   "source": [
    "print(\"Πριν την αφαίρεση:\", orange_fruits)\n",
    "papagia = orange_fruits.pop(2)  # Αφαίρεσε από τη θέση 2 \n",
    "print(\"Μετά την αφαίρεση:\", orange_fruits)\n",
    "print(\"Το στοιχείο που αφαιρέθηκε:\", papagia)"
   ]
  },
  {
   "cell_type": "markdown",
   "id": "6f44b229-fdbe-47e2-b6bf-0bff34653737",
   "metadata": {},
   "source": [
    "# Εξάσκηση\n",
    "\n",
    "Δημιούργησε μία κενή λίστα με το όνομα `green_fruits`."
   ]
  },
  {
   "cell_type": "code",
   "execution_count": 22,
   "id": "553f812f-e14c-4ab0-91f3-08be430a54d3",
   "metadata": {},
   "outputs": [],
   "source": [
    "# Δημιούργησε τη λίστα εδώ"
   ]
  },
  {
   "cell_type": "markdown",
   "id": "8adad155-1ddc-4fcc-ba55-925f81423540",
   "metadata": {},
   "source": [
    "Πρόσθεσε στο τέλος της λίστας το στοιχείο `Ακτινίδιο` και εμφάνισέ τη.\n",
    "Θα πρέπει να δεις:\n",
    "```\n",
    "['Ακτινίδιο']\n",
    "```"
   ]
  },
  {
   "cell_type": "code",
   "execution_count": 23,
   "id": "7d72b0df-42be-4cb1-9c52-03c551368734",
   "metadata": {},
   "outputs": [],
   "source": [
    "# Πρόσθεσε το Ακτινίδιο εδώ"
   ]
  },
  {
   "cell_type": "markdown",
   "id": "f1a6f071-3445-44a1-bc8c-a44b05cfbd23",
   "metadata": {},
   "source": [
    "Πρόσθεσε στο τέλος της λίστας το στοιχείο `Πράσινο μήλο` και εμφάνισέ τη.\n",
    "Θα πρέπει να δεις:\n",
    "```\n",
    "['Ακτινίδιο', 'Πράσινο μήλο']\n",
    "```"
   ]
  },
  {
   "cell_type": "code",
   "execution_count": 24,
   "id": "f33a15d7-c952-4a2f-9567-621f2dbe64d1",
   "metadata": {},
   "outputs": [],
   "source": [
    "# Πρόσθεσε το Πράσινο μήλο εδώ"
   ]
  },
  {
   "cell_type": "markdown",
   "id": "46144780-06e9-4869-9354-7aa348003938",
   "metadata": {},
   "source": [
    "Πρόσθεσε στη θέση ένα (1) το στοιχείο `Σταφύλι` και εμφάνισέ τη.\n",
    "Θα πρέπει να δεις:\n",
    "```\n",
    "['Ακτινίδιο', 'Σταφύλι', 'Πράσινο μήλο']\n",
    "```"
   ]
  },
  {
   "cell_type": "code",
   "execution_count": 25,
   "id": "7bf39b70-51cc-4c97-9ded-86f5c924d6a1",
   "metadata": {},
   "outputs": [],
   "source": [
    "# Πρόσθεσε το Σταφύλι εδώ"
   ]
  },
  {
   "cell_type": "markdown",
   "id": "6d0507ae-4a41-4a66-9a16-e29a98030c73",
   "metadata": {},
   "source": [
    "Εμφάνισε το *πλήθος* των στοιχείων τη λίστας `green_fruits`. Θα πρέπει να\n",
    "δεις **3**."
   ]
  },
  {
   "cell_type": "code",
   "execution_count": 26,
   "id": "654c4039-44b4-4281-af37-98baffeea982",
   "metadata": {},
   "outputs": [],
   "source": [
    "# Εμφάνισε εδώ το πλήθος"
   ]
  },
  {
   "cell_type": "markdown",
   "id": "f2e7639c-ce53-4e6d-b147-fa7f716ea474",
   "metadata": {},
   "source": [
    "Πρόσθεσε στην *αρχή* της λίστα το `Αβοκάντο` και εμφάνισέ τη. Θα πρέπει να δεις:\n",
    "```\n",
    "['Αβοκάντο', 'Ακτινίδιο', 'Σταφύλι', 'Πράσινο μήλο']\n",
    "```"
   ]
  },
  {
   "cell_type": "code",
   "execution_count": 27,
   "id": "19eb7173-b6ae-4eed-b357-56de062be211",
   "metadata": {},
   "outputs": [],
   "source": [
    "# Πρόσθεσε το Αβοκάντο εδώ"
   ]
  },
  {
   "cell_type": "markdown",
   "id": "80f2f7d8-a0a7-418c-ba6d-9e3f9c21dbdc",
   "metadata": {},
   "source": [
    "Αφαίρεσε από τη λίστα το *τελευταίο* στοιχείο, εμφάνισε τη λίστα\n",
    "και το στοιχείο που αφαίρεσες. Θα πρέπει να δεις:\n",
    "```\n",
    "['Αβοκάντο', 'Ακτινίδιο', 'Σταφύλι']\n",
    "Πράσινο μήλο\n",
    "```"
   ]
  },
  {
   "cell_type": "code",
   "execution_count": 30,
   "id": "68899f0d-6f99-4b9a-bb17-65d156f29408",
   "metadata": {},
   "outputs": [],
   "source": [
    "# Αφαίρεσε από το τέλος εδώ"
   ]
  },
  {
   "cell_type": "markdown",
   "id": "12405794-cc4b-4d2f-9060-b9db520996df",
   "metadata": {},
   "source": [
    "Αφαίρεσε από τη λίστα το στοιχείο στη θέση 1, εμφάνισε τη λίστα.\n",
    "και το στοιχείο που αφαίρεσες. Θα πρέπει να δεις:\n",
    "```\n",
    "['Αβοκάντο', 'Σταφύλι']\n",
    "Ακτινίδιο\n",
    "```"
   ]
  },
  {
   "cell_type": "code",
   "execution_count": 31,
   "id": "363e6ef4-a97c-45f4-aedc-d7c4a55c238e",
   "metadata": {},
   "outputs": [],
   "source": [
    "# Αφαίρεσε από τη θέση 1 εδώ"
   ]
  },
  {
   "cell_type": "markdown",
   "id": "d3dd06ee-c7b0-4d05-86cf-dde35a987fd0",
   "metadata": {},
   "source": [
    "Αφαίρεσε από τη λίστα το *πρώτο* στοιχείο, εμφάνισε τη λίστα\n",
    "και το στοιχείο που αφαίρεσες. Θα πρέπει να δεις:\n",
    "```\n",
    "['Σταφύλι']\n",
    "Αβοκάντο\n",
    "```"
   ]
  },
  {
   "cell_type": "markdown",
   "id": "db755250-9e90-48f3-93f0-46a27fac989b",
   "metadata": {},
   "source": [
    "Δημιούργησε μία λίστα με όνομα `programming` και στοιχεία τα γράμματα της λέξης\n",
    "\"Προγραμματίζω\" και εμφάνισέ τη. Θα πρέπει να δεις:\n",
    "```\n",
    "['Π', 'ρ', 'ο', 'γ', 'ρ', 'α', 'μ', 'μ', 'α', 'τ', 'ί', 'ζ', 'ω']\n",
    "```"
   ]
  },
  {
   "cell_type": "code",
   "execution_count": 33,
   "id": "9a80f24e-ab05-4939-8c33-3deb9576a2fd",
   "metadata": {},
   "outputs": [],
   "source": [
    "# Δημιούργησε τη λίστα programming εδώ"
   ]
  },
  {
   "cell_type": "markdown",
   "id": "775d695f-6a26-4736-9467-0f7470039aa8",
   "metadata": {},
   "source": [
    "Δημιούργησε μια λίστα με όνομα `python` και στοιχεία τα γράμματα της λέξης\n",
    "\"Python\"."
   ]
  },
  {
   "cell_type": "code",
   "execution_count": 34,
   "id": "64bfeb21-037a-4401-9ff2-2e2ba63bd53c",
   "metadata": {},
   "outputs": [],
   "source": [
    "# Δημιούργησε τη λίστα python εδω"
   ]
  },
  {
   "cell_type": "markdown",
   "id": "75a20222-0c5a-49ce-932e-41c0a83f2230",
   "metadata": {},
   "source": [
    "Συνένωσε τις λίστες `programming` και `python` σε μία νέα λίστα με όνομα\n",
    "`programming_python`. Εμφάνισε τη λίστα. Θα πρέπει να δεις:\n",
    "```\n",
    "['Π', 'ρ', 'ο', 'γ', 'ρ', 'α', 'μ', 'μ', 'α', 'τ', 'ί', 'ζ', 'ω', 'P', 'y', 't', 'h', 'o', 'n']\n",
    "```"
   ]
  },
  {
   "cell_type": "code",
   "execution_count": 35,
   "id": "c7bacf59-3572-4566-ba70-b5fa5a5deff0",
   "metadata": {},
   "outputs": [],
   "source": [
    "# Δημιούργησε τη λίστα programming_python εδώ"
   ]
  },
  {
   "cell_type": "markdown",
   "id": "b611e339-83aa-4d8c-8c1c-d840e7fec1db",
   "metadata": {},
   "source": [
    "Κάνε τις κατάλληλες εισαγωγές, διαγραφές και αντικαταστάσεις ώστε τα στοιχεία\n",
    "της λίστας να είναι:\n",
    "```diff\n",
    "['Π', 'ρ', 'ο', 'γ', 'ρ', 'α', 'μ', 'μ', 'α', 'τ', 'ί', 'ζ', 'ε', 'ι', 'ς', ' ', 'μ', 'ε', ' ', 'P', 'y', 't', 'h', 'o', 'n', '!']\n",
    "```"
   ]
  },
  {
   "cell_type": "code",
   "execution_count": 36,
   "id": "15003da4-9793-4132-b82a-0cb17042c6cc",
   "metadata": {},
   "outputs": [],
   "source": [
    "# Κάνε τις τροποποιήσεις εδώ."
   ]
  },
  {
   "cell_type": "markdown",
   "id": "dcbb7373-ad1f-47a2-afbe-9f6dd4cca593",
   "metadata": {},
   "source": [
    "Τρέξε το παρακάτω κελί. Αν τα έχεις κάνει όλα σωστά, θα πρέπει να δεις:\n",
    "```\n",
    "Προγραμματίζεις με Python!\n",
    "```"
   ]
  },
  {
   "cell_type": "code",
   "execution_count": null,
   "id": "53e3b94c-fb6f-4c26-8ac9-e3f554f82d54",
   "metadata": {},
   "outputs": [],
   "source": [
    "\"\".join(programming_python)"
   ]
  }
 ],
 "metadata": {
  "kernelspec": {
   "display_name": "Python 3 (ipykernel)",
   "language": "python",
   "name": "python3"
  },
  "language_info": {
   "codemirror_mode": {
    "name": "ipython",
    "version": 3
   },
   "file_extension": ".py",
   "mimetype": "text/x-python",
   "name": "python",
   "nbconvert_exporter": "python",
   "pygments_lexer": "ipython3",
   "version": "3.12.0"
  }
 },
 "nbformat": 4,
 "nbformat_minor": 5
}
