{
 "cells": [
  {
   "cell_type": "markdown",
   "id": "cbda50ba-4738-4989-a342-67d58688c72c",
   "metadata": {},
   "source": [
    "# Πράξεις σε Λίστες\n",
    "\n",
    "Στις λίστες ορίζονται δύο τελεστές πράξεων:\n",
    "\n",
    "* `+`: συνένωση\n",
    "* `*`: επανάληψη\n",
    "\n",
    "## Συνένωση\n",
    "\n",
    "Με την πράξη της συνένωσης μπορούμε να ενώσουμε δύο ή περισσότερες λίστες σε\n",
    "μία νέα η οποία θα έχει όλα τα στοιχεία από τις λίστες που ενώσαμε, με την\n",
    "ίδια σειρά.\n",
    "\n",
    "### Παράδειγμα"
   ]
  },
  {
   "cell_type": "code",
   "execution_count": 23,
   "id": "af8e86ff-565a-4225-8f59-b2b7b680f026",
   "metadata": {},
   "outputs": [
    {
     "name": "stdout",
     "output_type": "stream",
     "text": [
      "['Πορτοκάλι', 'Μανταρίνι', 'Βερίκοκο', 'Ανανάς', 'Μπανάνα']\n"
     ]
    }
   ],
   "source": [
    "orange_fruits = [\"Πορτοκάλι\", \"Μανταρίνι\", \"Βερίκοκο\"]\n",
    "yellow_fruits = [\"Ανανάς\", \"Μπανάνα\"]\n",
    "yummy_fruits = orange_fruits + yellow_fruits\n",
    "print(yummy_fruits)"
   ]
  },
  {
   "cell_type": "markdown",
   "id": "f6320ca9-ec85-443f-8406-ff0ecca2884c",
   "metadata": {},
   "source": [
    "Η σειρά με την οποία συνενώνω λίστες έχει σημασία γιατί παίρων όλα τα στοιχεία\n",
    "της 1ης λίστας, μετά της 2ης λίστας κ.ο.κ.\n",
    "\n",
    "Έτσι, αν τις παραπάνω λίστες τις ενώσω \"ανάποδα\", τότε έχουμε:"
   ]
  },
  {
   "cell_type": "code",
   "execution_count": 24,
   "id": "f48e9c85-6d27-472e-9fff-7ef33cfd0d89",
   "metadata": {},
   "outputs": [
    {
     "name": "stdout",
     "output_type": "stream",
     "text": [
      "['Ανανάς', 'Μπανάνα', 'Πορτοκάλι', 'Μανταρίνι', 'Βερίκοκο']\n"
     ]
    }
   ],
   "source": [
    "yummy_fruits = yellow_fruits + orange_fruits\n",
    "print(yummy_fruits)"
   ]
  },
  {
   "cell_type": "markdown",
   "id": "4244a5df-e27d-4dde-a1ae-4dcc3e019ad3",
   "metadata": {},
   "source": [
    "### Εισαγωγή στα \"Άκρα\"\n",
    "\n",
    "Μπορούμε να χρησιμοποιήσουμε την πράξη της συνένωσης για να εισάγουμε ένα\n",
    "στοιχείο στην αρχή ή στο τέλος της λίστας. **Προσοχή:** Αν και *ένα*\n",
    "στοιχείο, θα πρέπει να είναι λίστα.\n",
    "\n",
    "#### Εισαγωγή στην Αρχή\n",
    "Για να εισάγω στην αρχή της λίστα, γράφω το στοιχείο μέσα σε αγκύλες `[]` και\n",
    "χρησιμοποιώ τον τελεστή της συνένωσης.\n",
    "\n",
    "##### Παράδειγμα"
   ]
  },
  {
   "cell_type": "code",
   "execution_count": 25,
   "id": "0d7ebe04-3bbd-4d53-acc2-5dcd7e8b6728",
   "metadata": {},
   "outputs": [
    {
     "name": "stdout",
     "output_type": "stream",
     "text": [
      "['Μάνγκο', 'Πορτοκάλι', 'Μανταρίνι', 'Βερίκοκο']\n"
     ]
    }
   ],
   "source": [
    "orange_fruits = [\"Μάνγκο\"] + orange_fruits\n",
    "print(orange_fruits)"
   ]
  },
  {
   "attachments": {},
   "cell_type": "markdown",
   "id": "11cb2a36-a98e-4542-80be-5b901299873d",
   "metadata": {},
   "source": [
    "#### Εισαγωγή στο Τέλος\n",
    "\n",
    "Αντίστοιχα, γράφω το στοιχείο μέσα σε αγκύλες και το συνενώνω στο τέλος.\n",
    "\n",
    "##### Παράδειγμα"
   ]
  },
  {
   "cell_type": "code",
   "execution_count": 26,
   "id": "9a847433-a258-412e-9729-fa7c5413ff38",
   "metadata": {},
   "outputs": [
    {
     "name": "stdout",
     "output_type": "stream",
     "text": [
      "['Ανανάς', 'Μπανάνα', 'Παπάγια']\n"
     ]
    }
   ],
   "source": [
    "yellow_fruits = yellow_fruits + [\"Παπάγια\"]\n",
    "print(yellow_fruits)"
   ]
  },
  {
   "cell_type": "markdown",
   "id": "be87b6ca-63f9-4ee7-8ebd-5f86ef616880",
   "metadata": {},
   "source": [
    "## Επανάληψη\n",
    "\n",
    "Με τον τελεστή της επανάληψης, *όλα* τα στοιχεία της λίστας επαναλαμβάνονται\n",
    "όσες φορές ορίζει ο 2ος τελεστέος.\n",
    "\n",
    "### Παράδειγμα"
   ]
  },
  {
   "cell_type": "code",
   "execution_count": 27,
   "id": "1a2be188-e4bf-4d9f-86fc-bbcfe1e5889d",
   "metadata": {},
   "outputs": [
    {
     "name": "stdout",
     "output_type": "stream",
     "text": [
      "['Μάνγκο', 'Πορτοκάλι', 'Μανταρίνι', 'Βερίκοκο', 'Μάνγκο', 'Πορτοκάλι', 'Μανταρίνι', 'Βερίκοκο']\n"
     ]
    }
   ],
   "source": [
    "print(orange_fruits * 2)"
   ]
  },
  {
   "cell_type": "code",
   "execution_count": 28,
   "id": "02f3418f-f70a-4f0f-a3b8-61dd305d1484",
   "metadata": {},
   "outputs": [
    {
     "name": "stdout",
     "output_type": "stream",
     "text": [
      "['Ανανάς', 'Μπανάνα', 'Παπάγια', 'Ανανάς', 'Μπανάνα', 'Παπάγια', 'Ανανάς', 'Μπανάνα', 'Παπάγια']\n"
     ]
    }
   ],
   "source": [
    "print(yellow_fruits * 3)"
   ]
  },
  {
   "cell_type": "markdown",
   "id": "8427a458-42d5-47ec-befe-5a4ca12226d7",
   "metadata": {},
   "source": [
    "# Εξάσκηση\n",
    "\n",
    "Δημιουργήστε τη λίστα `green_fruits` που περιέχει τα εξής: `Ακτινίδιο`, `Πράσινο μήλο`\n",
    "και τη λίστα `red_fruits` που περιέχει τα εξής: `Φράουλα`, `Κεράσι`"
   ]
  },
  {
   "cell_type": "code",
   "execution_count": 18,
   "id": "493bc318-74f4-44c6-8dc5-9a21920702df",
   "metadata": {},
   "outputs": [],
   "source": [
    "# Δημιούργησε τις λίστες εδώ."
   ]
  },
  {
   "cell_type": "markdown",
   "id": "3a60a066-2c61-4433-8385-b36a377a38c0",
   "metadata": {},
   "source": [
    "Συνένωσε τις λίστες ώστε να εμφανίζονται πρώτα τα πράσινα φρούτα και μετά τα κόκκινα.\n",
    "Το αποτέλεσμα που θα δεις θα πρέπει να είναι:\n",
    "```\n",
    "['Ακτινίδιο', 'Πράσινο μήλο', 'Φράουλα', 'Κεράσι']\n",
    "```"
   ]
  },
  {
   "cell_type": "code",
   "execution_count": 19,
   "id": "60931f15-7c71-4211-8198-94d659d1177d",
   "metadata": {},
   "outputs": [],
   "source": [
    "# Κάνε εδώ τη συνένωση"
   ]
  },
  {
   "cell_type": "markdown",
   "id": "2649f5ec-3cff-49ff-a20e-d9e9debaa3ae",
   "metadata": {},
   "source": [
    "Συνένωσε τις λίστες ώστε να εμφανίζονται πρώτα τα κόκκινα φρούτα και μετά τα πράσινα.\n",
    "Το αποτέλεσμα που θα δεις θα πρέπει να είναι:\n",
    "```\n",
    "['Φράουλα', 'Κεράσι', 'Ακτινίδιο', 'Πράσινο μήλο']\n",
    "```"
   ]
  },
  {
   "cell_type": "code",
   "execution_count": 20,
   "id": "8ad6fecc-5cf1-4faa-ae74-a17f720e52c9",
   "metadata": {},
   "outputs": [],
   "source": [
    "# Κάνε εδώ τη συνένωση"
   ]
  },
  {
   "cell_type": "code",
   "execution_count": null,
   "id": "304b8794-ff41-4e54-8e19-7a7ed81b352f",
   "metadata": {},
   "outputs": [],
   "source": [
    "Πρόσθεσε στο *τέλος* της `green_fruits` το στοιχείο `Αβοκάντο` και εμφάνισε τη λίστα.\n",
    "Το αποτέλεσμα που θα πρέπει να πάρεις είναι:\n",
    "```\n",
    "['Ακτινίδιο', 'Πράσινο μήλο', 'Αβοκάντο']\n",
    "```"
   ]
  },
  {
   "cell_type": "code",
   "execution_count": 21,
   "id": "7c5b8077-5955-484b-b4c2-714c7729be28",
   "metadata": {},
   "outputs": [],
   "source": [
    "# Κάνε εδώ τη συνένωση"
   ]
  },
  {
   "cell_type": "markdown",
   "id": "7abd3e33-6364-4d2f-9aaa-2499add4badd",
   "metadata": {},
   "source": [
    "Πρόσθεσε στην *αρχή* της λίστας `red_fruits` το στοιχείο `Καρπούζι` και εμφάνισε τη λίστα.\n",
    "Το αποτέλεσμα που θα πρέπει να πάρεις είναι:\n",
    "```\n",
    "['Καρπούζι', 'Φράουλα', 'Κεράσι']\n",
    "```"
   ]
  },
  {
   "cell_type": "code",
   "execution_count": 22,
   "id": "09941442-dc4c-4b63-8b08-d625d271b95a",
   "metadata": {},
   "outputs": [],
   "source": [
    "# Κάνε εδώ τη συνένωση"
   ]
  },
  {
   "cell_type": "markdown",
   "id": "92c2ca31-ecf7-446c-8ed5-8127ba8afed1",
   "metadata": {},
   "source": [
    "Ένωσε όλες τις παραπάνω λίστες σε μία νέα με όνομα `fruits` και με την εξής σειρά:\n",
    "κίτρινα, πορτοκαλί, κόκκινα και πράσινα φρούτα.\n",
    "\n",
    "Εμφάνισε τη νέα λίστα. Το αποτέλεσμα που θα πρέπει να πάρεις είναι:\n",
    "```\n",
    "['Ανανάς', 'Μπανάνα', 'Παπάγια', 'Μάνγκο', 'Πορτοκάλι', 'Μανταρίνι', 'Βερίκοκο', 'Καρπούζι', 'Φράουλα', 'Κεράσι', 'Ακτινίδιο', 'Πράσινο μήλο', 'Αβοκάντο']\n",
    "```"
   ]
  },
  {
   "cell_type": "code",
   "execution_count": 11,
   "id": "91a32bcb-6844-4506-8325-3f9952217eb8",
   "metadata": {},
   "outputs": [],
   "source": [
    "# Κάνε εδώ τη συνένωση"
   ]
  },
  {
   "cell_type": "markdown",
   "id": "e4627385-c294-410d-981b-26692687a1aa",
   "metadata": {},
   "source": [
    "Κάνε επανάληψη της λίστας `green_fruits` δύο φορές. Το αποτέλεσμα που θα πρέπει\n",
    "να πάρεις είναι:\n",
    "```\n",
    "['Ακτινίδιο', 'Πράσινο μήλο', 'Αβοκάντο', 'Ακτινίδιο', 'Πράσινο μήλο', 'Αβοκάντο']\n",
    "```"
   ]
  },
  {
   "cell_type": "code",
   "execution_count": null,
   "id": "cbcab8ab-4f8f-43a2-809e-65089a9e9954",
   "metadata": {},
   "outputs": [],
   "source": [
    "# Κάνε εδώ την επανάληψη"
   ]
  },
  {
   "cell_type": "markdown",
   "id": "6a55a7ad-8f05-41c2-8078-c593450bb076",
   "metadata": {},
   "source": [
    "Κάνε επανάληψη της λίστας `red_fruits` τρεις φορές. Το αποτέλεσμα που θα πρέπι\n",
    "να πάρεις είναι:\n",
    "```\n",
    "['Καρπούζι', 'Φράουλα', 'Κεράσι', 'Καρπούζι', 'Φράουλα', 'Κεράσι', 'Καρπούζι', 'Φράουλα', 'Κεράσι']\n",
    "```"
   ]
  },
  {
   "cell_type": "code",
   "execution_count": null,
   "id": "3e0b59e2-1e9d-4f2d-9fe1-eb3310bcea10",
   "metadata": {},
   "outputs": [],
   "source": [
    "# Κάνε εδώ την επανάληψη"
   ]
  }
 ],
 "metadata": {
  "kernelspec": {
   "display_name": "Python 3 (ipykernel)",
   "language": "python",
   "name": "python3"
  },
  "language_info": {
   "codemirror_mode": {
    "name": "ipython",
    "version": 3
   },
   "file_extension": ".py",
   "mimetype": "text/x-python",
   "name": "python",
   "nbconvert_exporter": "python",
   "pygments_lexer": "ipython3",
   "version": "3.12.0"
  }
 },
 "nbformat": 4,
 "nbformat_minor": 5
}
