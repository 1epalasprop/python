{
 "cells": [
  {
   "cell_type": "markdown",
   "id": "ef55cfac-a284-42ae-9eab-225f8630c2fc",
   "metadata": {},
   "source": [
    "# Εκφώνηση\n",
    "\n",
    "*Άρτιοι* (ή ζυγοί - even στα Αγγλικά) ονομάζονται οι αριθμοί που όταν\n",
    "διαιρούνται με το 2, το υπόλοιπο της διαίρεσης είναι 0. Παραδείγματα άρτιων\n",
    "αριθμών είναι: 2, 4, 10, 50, 100 κλπ. Οι υπόλοιποι αριθμοί ονομάζονται\n",
    "*περιττοί* (ή μονοί - odd στα Αγγλικά).\n",
    "\n",
    "Να γράψετε πρόγραμμα σε γλώσσα Python το οποίο:\n",
    "1. Διαβάζει ένα αριθμό από τον χρήστη.\n",
    "2. Εμφανίζει το μήνυμα \"Άρτιος αριθμός\" αν ο αριθμός είναι άρτιος, διαφορετικά\n",
    "   εμφανίζει το μήνυμα \"Περιττός αριθμός\"."
   ]
  },
  {
   "cell_type": "code",
   "execution_count": null,
   "id": "24cf70a3-2dc7-4806-9ffc-acdac8b65b36",
   "metadata": {},
   "outputs": [],
   "source": []
  }
 ],
 "metadata": {
  "kernelspec": {
   "display_name": "Python 3 (ipykernel)",
   "language": "python",
   "name": "python3"
  },
  "language_info": {
   "codemirror_mode": {
    "name": "ipython",
    "version": 3
   },
   "file_extension": ".py",
   "mimetype": "text/x-python",
   "name": "python",
   "nbconvert_exporter": "python",
   "pygments_lexer": "ipython3",
   "version": "3.10.15"
  }
 },
 "nbformat": 4,
 "nbformat_minor": 5
}
