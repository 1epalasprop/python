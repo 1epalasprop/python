{
 "cells": [
  {
   "cell_type": "markdown",
   "id": "04cb34ed-6694-4cd6-b43d-a77108b21108",
   "metadata": {},
   "source": [
    "# Εκφώνηση\n",
    "\n",
    "Γράψτε ένα πρόγραμμα που θα διαβάζει δύο αριθμούς. Το πρόγραμμα θα πρέπει να\n",
    "ελέγχει ποιος από τους δύο είναι ο **μεγαλύτερος** και να τον εμφανίζει με\n",
    "κατάλληλο μήνυμα.\n",
    "\n",
    "Παράδειγμα εκτέλεσης:\n",
    "```\n",
    "Δώσε τον 1ο αριθμό: 8\n",
    "Δώσε τον 2ο αριθμό: 10\n",
    "Μεγαλύτερος είναι ο αριθμός 10\n",
    "\n",
    "Δώσε τον 1ο αριθμό: 5\n",
    "Δώσε τον 2ο αριθμό: 1\n",
    "Μεγαλύτερος είναι ο αριθμός 5\n",
    "```"
   ]
  },
  {
   "cell_type": "code",
   "execution_count": null,
   "id": "c8abe454-8d9a-40b4-80ed-ceaa7f32d0c7",
   "metadata": {},
   "outputs": [],
   "source": []
  },
  {
   "cell_type": "markdown",
   "id": "511b475e-1b82-4700-8f49-e51661739e70",
   "metadata": {},
   "source": [
    "Γράψτε ένα πρόγραμμα που θα διαβάζει δύο αριθμούς. Το πρόγραμμα θα πρέπει να\n",
    "ελέγχει ποιος από τους δύο είναι ο **μικρότερος** και να τον εμφανίζει με\n",
    "κατάλληλο μήνυμα.\n",
    "\n",
    "Παράδειγμα εκτέλεσης:\n",
    "```\n",
    "Δώσε τον 1ο αριθμό: 8\n",
    "Δώσε τον 2ο αριθμό: 10\n",
    "Μικρότερος είναι ο αριθμός 8\n",
    "\n",
    "Δώσε τον 1ο αριθμό: 5\n",
    "Δώσε τον 2ο αριθμό: 1\n",
    "Μικρότερος είναι ο αριθμός 1\n",
    "```"
   ]
  },
  {
   "cell_type": "code",
   "execution_count": null,
   "id": "b3f75be5-277e-4b55-894d-606d29b0ab62",
   "metadata": {},
   "outputs": [],
   "source": []
  }
 ],
 "metadata": {
  "kernelspec": {
   "display_name": "Python 3 (ipykernel)",
   "language": "python",
   "name": "python3"
  },
  "language_info": {
   "codemirror_mode": {
    "name": "ipython",
    "version": 3
   },
   "file_extension": ".py",
   "mimetype": "text/x-python",
   "name": "python",
   "nbconvert_exporter": "python",
   "pygments_lexer": "ipython3",
   "version": "3.10.15"
  }
 },
 "nbformat": 4,
 "nbformat_minor": 5
}
