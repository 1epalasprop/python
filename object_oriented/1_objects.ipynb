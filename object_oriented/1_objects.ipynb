{
 "cells": [
  {
   "cell_type": "markdown",
   "id": "b5d5dca3-b4ef-49e8-873c-2bcfd708d819",
   "metadata": {},
   "source": [
    "# 1ο ΜΕΡΟΣ\n",
    "Έστω η παρακάτω κλάση:\n"
   ]
  },
  {
   "cell_type": "code",
   "execution_count": 2,
   "id": "adac9dcd-a7e3-4030-a798-19b23e69f43c",
   "metadata": {},
   "outputs": [],
   "source": [
    "class Student:\n",
    "\tdef __init__(self, name, surname, am, father_name, v1,v2):\n",
    "\t\tself.name=name\n",
    "\t\tself.surname=surname\n",
    "\t\tself.father_name=father_name\n",
    "\t\tself.v1=v1\n",
    "\t\tself.v2=v2"
   ]
  },
  {
   "cell_type": "markdown",
   "id": "c7fa52d7-9ba6-4882-8be2-49b6643b6467",
   "metadata": {},
   "source": [
    "Εκτελέστε τον κώδικα του προηγούμενου κελιού (δεν θα υπάρχει κάποιο αποτέλεσμα). \n",
    "Ποιος είναι ο **κατασκευαστής** της κλάσης; Ποιες είναι οι **ιδιότητες** της κλάσης; "
   ]
  },
  {
   "cell_type": "markdown",
   "id": "ae7e74ab-dffc-44e1-934e-6629f386da96",
   "metadata": {},
   "source": [
    "Στη συνέχεια, δημιουργήστε ένα **αντικείμενο** της κλάσης Student με όνομα **st1** και τα ακόλουθα στοιχεία (**δεν** χρειάζεται να αντιγράψετε την κλάση):\n",
    "\n",
    "-\tΌνομα: Dimitra\n",
    "-\tΕπίθετο: Kostara\n",
    "-\tAM: 206\n",
    "-\tΌνομα πατέρα: George\n",
    "-\tΒαθμός 1: 15\n",
    "-\tΒαθμός 2: 18\n"
   ]
  },
  {
   "cell_type": "code",
   "execution_count": null,
   "id": "f8965dd4-1117-46f7-a57a-17654a969f91",
   "metadata": {},
   "outputs": [],
   "source": []
  },
  {
   "cell_type": "markdown",
   "id": "f5973b29-449a-4c80-998b-4de3ce2e5238",
   "metadata": {},
   "source": [
    "Αντίστοιχα δημιουργήστε άλλα δύο αντικείμενα με όνομα *st2* και *st3* με τα εξής στοιχεία:\n",
    "\n",
    "Για το *st2*:\n",
    "\n",
    "-\tΌνομα: Tasos\n",
    "-\tΕπίθετο: Kostaras\n",
    "-\tAM: 350\n",
    "-\tΌνομα πατέρα: George\n",
    "-\tΒαθμός 1: 18\n",
    "-\tΒαθμός 2: 12\n",
    "  \n",
    "Για το *st3*:\n",
    "\n",
    "-\tΌνομα: Simos\n",
    "-\tΕπίθετο: Lazaridis\n",
    "-\tAM: 600\n",
    "-\tΌνομα πατέρα: Lazaros\n",
    "-\tΒαθμός 1: 11\n",
    "-\tΒαθμός 2: 12\n"
   ]
  },
  {
   "cell_type": "code",
   "execution_count": null,
   "id": "29a0aa5b-6f02-4b26-91ff-f4cd17d78c72",
   "metadata": {},
   "outputs": [],
   "source": []
  },
  {
   "cell_type": "markdown",
   "id": "12188bde-2ea0-4b9f-bf76-4bbf586b0abb",
   "metadata": {},
   "source": [
    "Για να εμφανίσουμε μία **ιδιότητα** ενός αντικειμένου γράφουμε: \n",
    "\n",
    "**print(st1.name, st1.surname)** \n",
    "\n",
    "Έτσι εμφανίζουμε το όνομα και το επίθετο του 1ου μαθητή.\\\n",
    "Στο επόμενο κελί *εμφανίστε το όνομα και το επίθετο του 2ου μαθητή*:"
   ]
  },
  {
   "cell_type": "code",
   "execution_count": null,
   "id": "8a453056-c6a7-40ba-862c-7b54ddf1c2fc",
   "metadata": {},
   "outputs": [],
   "source": []
  },
  {
   "cell_type": "markdown",
   "id": "781ea690-5c23-4386-b898-c75cc775d88b",
   "metadata": {},
   "source": [
    "Εμφανίστε τον Αριθμό Μητρώου του 3ου  μαθητή:"
   ]
  },
  {
   "cell_type": "code",
   "execution_count": null,
   "id": "a5d71ac6-3e3a-46a7-942a-1a160e7daf99",
   "metadata": {},
   "outputs": [],
   "source": []
  },
  {
   "cell_type": "markdown",
   "id": "eafd2ed2-cdeb-434e-bb9e-1cd7d3ce3476",
   "metadata": {},
   "source": [
    "Εμφανίστε (χρησιμοποιώντας 3 print) το όνομα και τους βαθμούς και των τριών μαθητών."
   ]
  },
  {
   "cell_type": "code",
   "execution_count": null,
   "id": "c296a014-33be-4482-8bf4-4aafebd20068",
   "metadata": {},
   "outputs": [],
   "source": []
  },
  {
   "cell_type": "markdown",
   "id": "3bf9c682-8bfc-45e5-96dc-c4daf4efcfaf",
   "metadata": {},
   "source": [
    "Εμφανίστε τα ονόματα πατέρα και των τριών μαθητών (με μία εντολή print):"
   ]
  },
  {
   "cell_type": "code",
   "execution_count": null,
   "id": "f2eae7df-5d13-4c3f-85d4-3a7933ae65b1",
   "metadata": {},
   "outputs": [],
   "source": []
  },
  {
   "cell_type": "markdown",
   "id": "51a883d1-5813-4c28-8b4a-3a79b0ebf21a",
   "metadata": {},
   "source": [
    "Αλλάξτε το βαθμό 1 του 3ου μαθητή σε 13 και στη συνέχεια εμφανίστε τον:"
   ]
  },
  {
   "cell_type": "code",
   "execution_count": null,
   "id": "cdc9b925-1a26-40ca-a1d9-cd967a5ab316",
   "metadata": {},
   "outputs": [],
   "source": []
  },
  {
   "cell_type": "markdown",
   "id": "67092691-a62e-40a3-8ae6-c5f43def59ea",
   "metadata": {},
   "source": [
    "Θα προσθέσουμε στην κλάση Student μία **μέθοδο**, η οποία υπολογίζει και επιστρέφει το μέσο όρο ενός μαθητή στα δύο μαθήματα:"
   ]
  },
  {
   "cell_type": "code",
   "execution_count": 3,
   "id": "ba6524d3-9cb6-43a8-b237-d606f9652aac",
   "metadata": {},
   "outputs": [],
   "source": [
    "class Student:\n",
    "\tdef __init__(self, name, surname, am, father_name, v1,v2):\n",
    "\t\tself.name=name\n",
    "\t\tself.surname=surname\n",
    "\t\tself.father_name=father_name\n",
    "\t\tself.v1=v1\n",
    "\t\tself.v2=v2\n",
    "\tdef mo(self):\n",
    "\t\tmo=(self.v1 + self.v2)/2.0\n",
    "\t\treturn mo\n"
   ]
  },
  {
   "cell_type": "markdown",
   "id": "832f60c7-7137-4f0a-95af-f344ea3adcca",
   "metadata": {},
   "source": [
    "Εκτελέστε τον κώδικα του προηγούμενου κελιού (δεν θα εμφανιστεί κάτι). \n",
    "Στη συνέχεια δημιουργήστε δύο αντικείμενα *stdn1* και *stdn2* με όποια στοιχεία θέλετε εσείς:"
   ]
  },
  {
   "cell_type": "code",
   "execution_count": null,
   "id": "aae2e2e8-f760-45ab-add1-007d77ff0aad",
   "metadata": {},
   "outputs": [],
   "source": []
  },
  {
   "cell_type": "markdown",
   "id": "987e9664-576a-4227-b85b-3fb09f7ea878",
   "metadata": {},
   "source": [
    "Εμφανίστε (με δύο print) το ονοματεπώνυμο και τους 2 βαθμούς καθενός μαθητή:"
   ]
  },
  {
   "cell_type": "code",
   "execution_count": null,
   "id": "3802dbff-83dd-497b-ad4c-08b5d5626824",
   "metadata": {},
   "outputs": [],
   "source": []
  },
  {
   "cell_type": "markdown",
   "id": "db718d1b-a8b3-4b4e-b0d3-b6915839f1e9",
   "metadata": {},
   "source": [
    "Καλέστε τη μέθοδο *mo* για να υπολογίσετε το μέσο όρο του 1ου μαθητή και στη συνέχεια εμφανίστε τον."
   ]
  },
  {
   "cell_type": "code",
   "execution_count": null,
   "id": "4fc9f408-502d-41d8-8217-e8e00c76bfa9",
   "metadata": {},
   "outputs": [],
   "source": []
  },
  {
   "cell_type": "markdown",
   "id": "62de28f5-28b5-45d4-a68b-5904d13da719",
   "metadata": {},
   "source": [
    "Καλέστε ξανά τη μέθοδο *mo* για να υπολογίσετε το μέσο όρο του 2ου μαθητή και εμφανίστε τον και αυτόν"
   ]
  },
  {
   "cell_type": "code",
   "execution_count": null,
   "id": "246b9bf8-1ab0-47bb-b5c9-9be3dac751e6",
   "metadata": {},
   "outputs": [],
   "source": []
  },
  {
   "cell_type": "markdown",
   "id": "cb0e6b3e-25f0-40dc-a8b8-765e1578ebe4",
   "metadata": {},
   "source": [
    "Συγκρίνετε τους δύο βαθμούς και εμφανίστε ένα μήνυμα για το ποιος μαθητής είχε μεγαλύτερο μέσο όρο. "
   ]
  },
  {
   "cell_type": "code",
   "execution_count": null,
   "id": "75f57db7-854d-4c4d-b6f3-23460e030e2d",
   "metadata": {},
   "outputs": [],
   "source": []
  },
  {
   "cell_type": "markdown",
   "id": "4d2057f5-1f13-40db-b1ac-a1c2c189b1dd",
   "metadata": {},
   "source": [
    "*Ζητήστε* από το χρήστη να δώσει για έναν συγκεκριμένο μαθητή:\n",
    "- το όνομα\n",
    "- το επίθετο\n",
    "- τον ΑΜ\n",
    "- το όνομα πατέρα\n",
    "- το βαθμό στο 1ο τετράμηνο\n",
    "- το βαθμό στο 2ο τετράμηνο \\\n",
    "Στη συνέχεια δημιουργήστε ένα αντικείμενο **mathitis1** με τα στοιχεία που σας έδωσε ο χρήστης. \n"
   ]
  },
  {
   "cell_type": "code",
   "execution_count": null,
   "id": "51265df9-1a99-4aca-b852-82a1687662d5",
   "metadata": {},
   "outputs": [],
   "source": []
  },
  {
   "cell_type": "markdown",
   "id": "4a465b8f-e748-4cf1-83c5-217ad2777ad0",
   "metadata": {},
   "source": [
    "Καλέστε τη μέθοδο *mo* για να υπολογίσετε το μέσο όρο του mathitis1:"
   ]
  },
  {
   "cell_type": "code",
   "execution_count": null,
   "id": "2a9819cc-5815-496b-aef8-efe2ea835dab",
   "metadata": {},
   "outputs": [],
   "source": []
  },
  {
   "cell_type": "markdown",
   "id": "87d1c640-44bc-4132-846b-71334c78b5a0",
   "metadata": {},
   "source": [
    "Εμφανίστε όλα τα στοιχεία που αφορούν τον mathitis1 (και το μέσο όρο του)."
   ]
  },
  {
   "cell_type": "code",
   "execution_count": null,
   "id": "f42d9060-c7f0-4fd8-b8e3-fea828f7d039",
   "metadata": {},
   "outputs": [],
   "source": []
  },
  {
   "cell_type": "markdown",
   "id": "12ba504e-4f03-41c4-8bd7-6194cd60664f",
   "metadata": {},
   "source": [
    "# 2ο μέρος"
   ]
  },
  {
   "cell_type": "code",
   "execution_count": null,
   "id": "ac3c4ccd-b98d-46a9-af04-52ba6f2ba04e",
   "metadata": {},
   "outputs": [],
   "source": [
    "class Customer:\n",
    "# Ένας πελάτης με καταθετικό λογαριασμό σε μια τράπεζα.\n",
    "# Οι πελάτες έχουν τις παρακάτω ιδιότητες:\n",
    "# name: όνομα του πελάτη\n",
    "# balance: το υπόλοιπο του λογαριασμού του πελάτη.\n",
    "\tdef __init__( self, name, balance = 0.0 ):\n",
    "\t# επιστρέφει ένα αντικείμενο της κλάσης Customer\n",
    "\t# με όνομά name και αρχικό υπόλοιπο 0.0\n",
    "\t\tself.name = name\n",
    "\t\tself.balance = balance\n",
    "\tdef withdraw(self, amount):\n",
    "\t# Επιστρέφει το νέο υπόλοιπο του λογαριασμού μετά την\n",
    "\t# ανάληψη του ποσού *amount*\n",
    "\t\tself.balance -= amount\n",
    "\t\treturn self.balance\n",
    "\tdef deposit(self, amount):\n",
    "\t# Επιστρέφει το νέο υπόλοιπο του λογαριασμού μετά την\n",
    "\t# κατάθεση του ποσού *amount*\n",
    "\t\tself.balance += amount\n",
    "\t\treturn self.balance\n"
   ]
  },
  {
   "cell_type": "code",
   "execution_count": null,
   "id": "99d2251e-c687-45ba-8b45-cc450af54687",
   "metadata": {},
   "outputs": [],
   "source": []
  },
  {
   "cell_type": "markdown",
   "id": "8ffbf274-4e17-46a6-8db3-ed5cd00a7d66",
   "metadata": {},
   "source": [
    "Παρακάτω δημιουργήστε δύο αντικείμενα **cust1** και **cust2** της κλάσης Customer, με όνομα John και Mary"
   ]
  },
  {
   "cell_type": "code",
   "execution_count": 5,
   "id": "f5965d5a-1d62-4f3d-ab9e-2b35c9a53df9",
   "metadata": {},
   "outputs": [],
   "source": []
  },
  {
   "cell_type": "markdown",
   "id": "712f6acc-8c2f-4257-9940-43ae0d69c370",
   "metadata": {},
   "source": [
    "Nα γίνει κατάθεση (deposit) του ποσού 1400 ευρώ στο λογαριασμό του John και 1500 στης Mary"
   ]
  },
  {
   "cell_type": "code",
   "execution_count": null,
   "id": "3a0f3e50-dbe4-42be-8bde-ca68a5365ecb",
   "metadata": {},
   "outputs": [],
   "source": []
  },
  {
   "cell_type": "markdown",
   "id": "dbd4863d-a830-477c-b391-c46b729649e5",
   "metadata": {},
   "source": [
    "Να γίνει ανάληψη (withdraw) 300 ευρώ από το λογαριασμό του John."
   ]
  },
  {
   "cell_type": "code",
   "execution_count": null,
   "id": "be919a59-9663-468d-b2f9-f7083dcd72c0",
   "metadata": {},
   "outputs": [],
   "source": []
  },
  {
   "cell_type": "markdown",
   "id": "47335374-c5f1-42ee-9d8a-6abfde8a34a0",
   "metadata": {},
   "source": [
    "Να γίνει ανάληψη 400 ευρώ από το λογαριασμό της Mary."
   ]
  },
  {
   "cell_type": "code",
   "execution_count": null,
   "id": "acc28cd5-92c2-4976-8689-42a75a6d7936",
   "metadata": {},
   "outputs": [],
   "source": []
  },
  {
   "cell_type": "markdown",
   "id": "6f7fb419-bf39-47ad-b080-772523ff9968",
   "metadata": {},
   "source": [
    "Εμφανίστε το όνομα και δίπλα το υπόλοιπο του λογαριασμού και για τους δύο πελάτες. \\\n",
    "*(Για να είναι σωστή η άσκηση θα πρέπει και ο John και η Mary να έχουν στο λογαριασμό τους από 1100 euro)*"
   ]
  },
  {
   "cell_type": "code",
   "execution_count": null,
   "id": "12ce79c1-0767-4dd6-ae79-14bd006fc94f",
   "metadata": {},
   "outputs": [],
   "source": []
  },
  {
   "cell_type": "markdown",
   "id": "d1237909-a86e-4591-8029-9ffca6c52074",
   "metadata": {},
   "source": [
    "# 3ο μέρος\n",
    "Παρακάτω ακολουθεί μια κλάση **Student** με ιδιότητες *name* και *am*. Η κλάση περιλαμβάνει μόνο τον *κατασκευαστή* της:"
   ]
  },
  {
   "cell_type": "code",
   "execution_count": 4,
   "id": "d228b3d7-9f12-41a6-adf1-2ad3edfb0789",
   "metadata": {},
   "outputs": [],
   "source": [
    "class Student:\n",
    "    def __init__(self, name, am):\n",
    "        self.name=name\n",
    "        self.am=am"
   ]
  },
  {
   "cell_type": "markdown",
   "id": "61711475-b651-42a7-9d84-069629649a41",
   "metadata": {},
   "source": [
    "**Ξαναγράψτε** την κλάση και *προσθέστε* την ιδιότητα *fatherName*.\n",
    "Επίσης, συμπληρώστε μέσα στην κλάση μια μέθοδο με όνομα **def printing()** η οποία θα εκτυπώνει τα στοιχεία ενός μαθητή."
   ]
  },
  {
   "cell_type": "code",
   "execution_count": null,
   "id": "9213bb06-58a7-4a53-8ce8-c52ad3abfde6",
   "metadata": {},
   "outputs": [],
   "source": []
  },
  {
   "cell_type": "markdown",
   "id": "73ad4b35-b816-4559-861b-8289e30fa052",
   "metadata": {},
   "source": [
    "Δημιουργήστε ένα **αντικείμενο** με όνομα *st1* και τις εξής ιδιότητες:\n",
    "- Όνομα: Λευτέρης Παπαδόπουλος\n",
    "- ΑΜ: 205\n",
    "- Όνομα πατρός: Βασίλειος"
   ]
  },
  {
   "cell_type": "code",
   "execution_count": null,
   "id": "bf9863cb-83de-4d3d-9546-8b1ee72f5b32",
   "metadata": {},
   "outputs": [],
   "source": []
  },
  {
   "cell_type": "markdown",
   "id": "c8becf7c-c536-4a0d-ae29-3b6087793e5f",
   "metadata": {},
   "source": [
    "Εφαρμόστε τη μέθοδο **printing** για το αντικείμενο st1. Εκτυπώθηκαν σωστά τα στοιχεία του μαθητή;"
   ]
  },
  {
   "cell_type": "code",
   "execution_count": null,
   "id": "c845ee0a-3d82-405e-9fb4-2c809cddc8c9",
   "metadata": {},
   "outputs": [],
   "source": []
  },
  {
   "cell_type": "markdown",
   "id": "babf41de-5c36-4b17-9db6-eecb21c852a9",
   "metadata": {},
   "source": [
    "Δημιουργήστε άλλα δύο αντικείμενα με όνομα **st2** και **st3** με όποιες τιμές θέλετε εσείς και εκτυπώστε με τη μέθοδο **printing** τα στοιχεία τους."
   ]
  },
  {
   "cell_type": "code",
   "execution_count": null,
   "id": "3b9efc39-657e-4d07-99c3-bd393231e19a",
   "metadata": {},
   "outputs": [],
   "source": []
  }
 ],
 "metadata": {
  "kernelspec": {
   "display_name": "Python 3 (ipykernel)",
   "language": "python",
   "name": "python3"
  },
  "language_info": {
   "codemirror_mode": {
    "name": "ipython",
    "version": 3
   },
   "file_extension": ".py",
   "mimetype": "text/x-python",
   "name": "python",
   "nbconvert_exporter": "python",
   "pygments_lexer": "ipython3",
   "version": "3.12.1"
  }
 },
 "nbformat": 4,
 "nbformat_minor": 5
}
